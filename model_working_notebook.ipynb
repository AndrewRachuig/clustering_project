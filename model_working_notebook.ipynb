{
 "cells": [
  {
   "cell_type": "code",
   "execution_count": 1,
   "id": "667484c9",
   "metadata": {},
   "outputs": [],
   "source": [
    "import wrangle_zillow\n",
    "import explore\n",
    "\n",
    "import pandas as pd\n",
    "import numpy as np\n",
    "\n",
    "import matplotlib.pyplot as plt\n",
    "import seaborn as sns\n",
    "\n",
    "from sklearn.cluster import KMeans\n",
    "import scipy.stats as stats\n",
    "\n",
    "from sklearn.linear_model import LinearRegression, LassoLars, TweedieRegressor\n",
    "from sklearn.preprocessing import PolynomialFeatures\n",
    "from sklearn.metrics import mean_squared_error\n",
    "\n",
    "# ignore warnings\n",
    "import warnings\n",
    "warnings.filterwarnings(\"ignore\")"
   ]
  },
  {
   "cell_type": "code",
   "execution_count": 2,
   "id": "62ed78b7",
   "metadata": {},
   "outputs": [],
   "source": [
    "# df = wrangle_zillow.get_zillow()\n",
    "# df = wrangle_zillow.clean_zillow(df)\n",
    "# df = explore.add_new_columns(df)\n",
    "# df.to_csv('ready_to_model')\n",
    "df = pd.read_csv('ready_to_model')"
   ]
  },
  {
   "cell_type": "code",
   "execution_count": 3,
   "id": "145967ca",
   "metadata": {},
   "outputs": [
    {
     "name": "stdout",
     "output_type": "stream",
     "text": [
      "<class 'pandas.core.frame.DataFrame'>\n",
      "RangeIndex: 42136 entries, 0 to 42135\n",
      "Data columns (total 34 columns):\n",
      " #   Column                          Non-Null Count  Dtype  \n",
      "---  ------                          --------------  -----  \n",
      " 0   Unnamed: 0                      42136 non-null  int64  \n",
      " 1   bathrooms                       42136 non-null  float64\n",
      " 2   bedrooms                        42136 non-null  int64  \n",
      " 3   square_footage                  42136 non-null  int64  \n",
      " 4   county                          42136 non-null  object \n",
      " 5   latitude                        42136 non-null  float64\n",
      " 6   longitude                       42136 non-null  float64\n",
      " 7   lot_size                        42136 non-null  float64\n",
      " 8   yearbuilt                       42136 non-null  int64  \n",
      " 9   structure_tax_value             42136 non-null  float64\n",
      " 10  tax_value                       42136 non-null  float64\n",
      " 11  land_tax_value                  42136 non-null  float64\n",
      " 12  taxamount                       42136 non-null  float64\n",
      " 13  logerror                        42136 non-null  float64\n",
      " 14  transactiondate                 42136 non-null  object \n",
      " 15  scaledyear_to_scaledtax         42136 non-null  float64\n",
      " 16  home_price_per_sq_ft            42136 non-null  float64\n",
      " 17  land_price_per_lot_sq_ft        42136 non-null  float64\n",
      " 18  four_month_range_jan_apr        42136 non-null  int64  \n",
      " 19  four_month_range_may_aug        42136 non-null  int64  \n",
      " 20  four_month_range_sept_dec       42136 non-null  int64  \n",
      " 21  season_fall                     42136 non-null  int64  \n",
      " 22  season_spring                   42136 non-null  int64  \n",
      " 23  season_summer                   42136 non-null  int64  \n",
      " 24  season_winter                   42136 non-null  int64  \n",
      " 25  day_of_week_friday              42136 non-null  int64  \n",
      " 26  day_of_week_monday              42136 non-null  int64  \n",
      " 27  day_of_week_saturday            42136 non-null  int64  \n",
      " 28  day_of_week_sunday              42136 non-null  int64  \n",
      " 29  day_of_week_thursday            42136 non-null  int64  \n",
      " 30  day_of_week_tuesday             42136 non-null  int64  \n",
      " 31  day_of_week_wednesday           42136 non-null  int64  \n",
      " 32  summer_scaledyear_to_scaledtax  42136 non-null  int64  \n",
      " 33  sunday_fall                     42136 non-null  int64  \n",
      "dtypes: float64(12), int64(20), object(2)\n",
      "memory usage: 10.9+ MB\n"
     ]
    }
   ],
   "source": [
    "df.info()"
   ]
  },
  {
   "cell_type": "code",
   "execution_count": 4,
   "id": "3d21cd12",
   "metadata": {},
   "outputs": [],
   "source": [
    "columns_to_scale = ['bathrooms','bedrooms','square_footage','latitude','longitude','lot_size','yearbuilt',\n",
    " 'structure_tax_value','tax_value','land_tax_value','taxamount','scaledyear_to_scaledtax',\n",
    " 'home_price_per_sq_ft','land_price_per_lot_sq_ft', 'summer_scaledyear_to_scaledtax', 'sunday_fall']"
   ]
  },
  {
   "cell_type": "code",
   "execution_count": 5,
   "id": "6996d04a",
   "metadata": {},
   "outputs": [],
   "source": [
    "train, validate, test, train_scaled, validate_scaled, test_scaled = wrangle_zillow.prepare_all_data(df, columns_to_scale)"
   ]
  },
  {
   "cell_type": "markdown",
   "id": "0e6d6a0c",
   "metadata": {},
   "source": [
    "# Modeling "
   ]
  },
  {
   "cell_type": "markdown",
   "id": "37bec5fa",
   "metadata": {},
   "source": [
    "Setting X and y for train, validate and test."
   ]
  },
  {
   "cell_type": "code",
   "execution_count": 6,
   "id": "914e7369",
   "metadata": {},
   "outputs": [],
   "source": [
    "features = ['bathrooms', 'bedrooms', 'square_footage','tax_value', 'season_spring','season_fall',\n",
    "            'summer_scaledyear_to_scaledtax','sunday_fall','lot_size','yearbuilt']"
   ]
  },
  {
   "cell_type": "code",
   "execution_count": 7,
   "id": "bfeb51f6",
   "metadata": {},
   "outputs": [],
   "source": [
    "X_train = train_scaled[features]\n",
    "y_train = pd.DataFrame(train_scaled.logerror)\n",
    "\n",
    "\n",
    "X_validate = validate_scaled[features]\n",
    "y_validate = pd.DataFrame(validate_scaled.logerror)\n",
    "\n",
    "X_test = test_scaled[features]\n",
    "y_test = pd.DataFrame(test_scaled.logerror)"
   ]
  },
  {
   "cell_type": "markdown",
   "id": "7bdcb2d5",
   "metadata": {},
   "source": [
    "Setting baselines based on the mean and median."
   ]
  },
  {
   "cell_type": "code",
   "execution_count": 8,
   "id": "8a8b7aa1",
   "metadata": {},
   "outputs": [],
   "source": [
    "# Predicting the mean for taxvaluedollarcnt\n",
    "\n",
    "logerror_mean = y_train.logerror.mean()\n",
    "y_train['logerror_pred_mean'] = logerror_mean\n",
    "y_validate['logerror_pred_mean'] = logerror_mean\n",
    "y_test['logerror_pred_mean'] = logerror_mean"
   ]
  },
  {
   "cell_type": "code",
   "execution_count": 9,
   "id": "a7b0ce33",
   "metadata": {},
   "outputs": [],
   "source": [
    "# Predicting the median for taxvaluedollarcnt\n",
    "\n",
    "logerror_median = y_train.logerror.median()\n",
    "y_train['logerror_pred_median'] = logerror_median\n",
    "y_validate['logerror_pred_median'] = logerror_median\n",
    "y_test['logerror_pred_median'] = logerror_median"
   ]
  },
  {
   "cell_type": "code",
   "execution_count": 10,
   "id": "e68db248",
   "metadata": {},
   "outputs": [
    {
     "data": {
      "text/html": [
       "<div>\n",
       "<style scoped>\n",
       "    .dataframe tbody tr th:only-of-type {\n",
       "        vertical-align: middle;\n",
       "    }\n",
       "\n",
       "    .dataframe tbody tr th {\n",
       "        vertical-align: top;\n",
       "    }\n",
       "\n",
       "    .dataframe thead th {\n",
       "        text-align: right;\n",
       "    }\n",
       "</style>\n",
       "<table border=\"1\" class=\"dataframe\">\n",
       "  <thead>\n",
       "    <tr style=\"text-align: right;\">\n",
       "      <th></th>\n",
       "      <th>logerror</th>\n",
       "      <th>logerror_pred_mean</th>\n",
       "      <th>logerror_pred_median</th>\n",
       "    </tr>\n",
       "  </thead>\n",
       "  <tbody>\n",
       "    <tr>\n",
       "      <th>28383</th>\n",
       "      <td>-0.004393</td>\n",
       "      <td>0.00501</td>\n",
       "      <td>0.004832</td>\n",
       "    </tr>\n",
       "    <tr>\n",
       "      <th>2540</th>\n",
       "      <td>-0.053424</td>\n",
       "      <td>0.00501</td>\n",
       "      <td>0.004832</td>\n",
       "    </tr>\n",
       "    <tr>\n",
       "      <th>32154</th>\n",
       "      <td>0.029549</td>\n",
       "      <td>0.00501</td>\n",
       "      <td>0.004832</td>\n",
       "    </tr>\n",
       "    <tr>\n",
       "      <th>6945</th>\n",
       "      <td>-0.023743</td>\n",
       "      <td>0.00501</td>\n",
       "      <td>0.004832</td>\n",
       "    </tr>\n",
       "    <tr>\n",
       "      <th>12155</th>\n",
       "      <td>0.032236</td>\n",
       "      <td>0.00501</td>\n",
       "      <td>0.004832</td>\n",
       "    </tr>\n",
       "  </tbody>\n",
       "</table>\n",
       "</div>"
      ],
      "text/plain": [
       "       logerror  logerror_pred_mean  logerror_pred_median\n",
       "28383 -0.004393             0.00501              0.004832\n",
       "2540  -0.053424             0.00501              0.004832\n",
       "32154  0.029549             0.00501              0.004832\n",
       "6945  -0.023743             0.00501              0.004832\n",
       "12155  0.032236             0.00501              0.004832"
      ]
     },
     "execution_count": 10,
     "metadata": {},
     "output_type": "execute_result"
    }
   ],
   "source": [
    "y_train.head()"
   ]
  },
  {
   "cell_type": "code",
   "execution_count": 11,
   "id": "82d67746",
   "metadata": {},
   "outputs": [
    {
     "name": "stdout",
     "output_type": "stream",
     "text": [
      "RMSE using Mean\n",
      "Train/In-Sample:  0.055492469733837424 \n",
      "Validate/Out-of-Sample:  0.05475500966675738\n",
      "\n",
      "RMSE using Median\n",
      "Train/In-Sample:  0.05549275681923627 \n",
      "Validate/Out-of-Sample:  0.05475430782334583\n"
     ]
    }
   ],
   "source": [
    "# Getting the RMSE taxvalue_pred_mean\n",
    "\n",
    "rmse_train = mean_squared_error(y_train.logerror, y_train.logerror_pred_mean)**(1/2)\n",
    "rmse_validate = mean_squared_error(y_validate.logerror, y_validate.logerror_pred_mean)**(1/2)\n",
    "\n",
    "print(\"RMSE using Mean\\nTrain/In-Sample: \", rmse_train, \n",
    "      \"\\nValidate/Out-of-Sample: \", rmse_validate)\n",
    "\n",
    "# Getting the RMSE taxvalue_pred_median\n",
    "rmse_train = mean_squared_error(y_train.logerror, y_train.logerror_pred_median)**(1/2)\n",
    "rmse_validate = mean_squared_error(y_validate.logerror, y_validate.logerror_pred_median)**(1/2)\n",
    "\n",
    "print(\"\\nRMSE using Median\\nTrain/In-Sample: \", rmse_train, \n",
    "      \"\\nValidate/Out-of-Sample: \", rmse_validate)"
   ]
  },
  {
   "cell_type": "markdown",
   "id": "d701a89a",
   "metadata": {},
   "source": [
    "# Linear Regression (OLS)\n",
    "Creating and validating a Linear Regression model."
   ]
  },
  {
   "cell_type": "code",
   "execution_count": 12,
   "id": "86b0cda7",
   "metadata": {},
   "outputs": [
    {
     "name": "stdout",
     "output_type": "stream",
     "text": [
      "RMSE for OLS using LinearRegression\n",
      "Training/In-Sample:  0.055268650124660354 \n",
      "Validation/Out-of-Sample:  0.054480535479703454\n"
     ]
    }
   ],
   "source": [
    "# create the model\n",
    "lm = LinearRegression()\n",
    "\n",
    "#fit the model\n",
    "lm.fit(X_train, y_train.logerror)\n",
    "\n",
    "# predict train\n",
    "y_train['logerror_pred_lm'] = lm.predict(X_train)\n",
    "\n",
    "# evaluate: rmse\n",
    "rmse_train = mean_squared_error(y_train.logerror, y_train.logerror_pred_lm)**(1/2)\n",
    "\n",
    "# predict validate\n",
    "y_validate['logerror_pred_lm'] = lm.predict(X_validate)\n",
    "\n",
    "# evaluate: rmse\n",
    "rmse_validate = mean_squared_error(y_validate.logerror, y_validate.logerror_pred_lm)**(1/2)\n",
    "\n",
    "print(\"RMSE for OLS using LinearRegression\\nTraining/In-Sample: \", rmse_train, \n",
    "      \"\\nValidation/Out-of-Sample: \", rmse_validate)"
   ]
  },
  {
   "cell_type": "markdown",
   "id": "6072f70a",
   "metadata": {},
   "source": [
    "# LassoLars\n",
    "Creating and validating a LassoLars model."
   ]
  },
  {
   "cell_type": "code",
   "execution_count": 13,
   "id": "1e5467c9",
   "metadata": {},
   "outputs": [
    {
     "name": "stdout",
     "output_type": "stream",
     "text": [
      "RMSE for OLS using LassoLars\n",
      "Training/In-Sample:  0.05549246973383742 \n",
      "Validation/Out-of-Sample:  0.05475500966675738\n"
     ]
    }
   ],
   "source": [
    "# create the model\n",
    "lars = LassoLars(alpha=1.0)\n",
    "\n",
    "# fit the model\n",
    "lars.fit(X_train, y_train.logerror)\n",
    "\n",
    "# predict train\n",
    "y_train['logerror_pred_lars'] = lars.predict(X_train)\n",
    "\n",
    "# evaluate: rmse\n",
    "rmse_train = mean_squared_error(y_train.logerror, y_train.logerror_pred_lars)**(1/2)\n",
    "\n",
    "# predict validate\n",
    "y_validate['logerror_pred_lars'] = lars.predict(X_validate)\n",
    "\n",
    "# evaluate: rmse\n",
    "rmse_validate = mean_squared_error(y_validate.logerror, y_validate.logerror_pred_lars)**(1/2)\n",
    "\n",
    "print(\"RMSE for OLS using LassoLars\\nTraining/In-Sample: \", rmse_train, \n",
    "      \"\\nValidation/Out-of-Sample: \", rmse_validate)"
   ]
  },
  {
   "cell_type": "markdown",
   "id": "96454681",
   "metadata": {},
   "source": [
    "# Polynomial Regression\n",
    "Creating and validatiing a polynomial regressor."
   ]
  },
  {
   "cell_type": "code",
   "execution_count": 14,
   "id": "bac4250b",
   "metadata": {},
   "outputs": [],
   "source": [
    "# making the polynomial features to get a new set of features\n",
    "pf = PolynomialFeatures(degree=2, )\n",
    "\n",
    "# fit and transform X_train_scaled\n",
    "X_train_degree2 = pf.fit_transform(X_train)\n",
    "\n",
    "# transform X_validate_scaled & X_test_scaled\n",
    "X_validate_degree2 = pf.transform(X_validate)\n",
    "X_test_degree2 = pf.transform(X_test)"
   ]
  },
  {
   "cell_type": "code",
   "execution_count": 15,
   "id": "c6f2f203",
   "metadata": {},
   "outputs": [
    {
     "name": "stdout",
     "output_type": "stream",
     "text": [
      "RMSE for OLS using Polynomial Regression\n",
      "Training/In-Sample:  0.05513954897390504 \n",
      "Validation/Out-of-Sample:  0.05449586899964525\n"
     ]
    }
   ],
   "source": [
    "# create the model\n",
    "lm2 = LinearRegression(normalize=True)\n",
    "\n",
    "#fit the model\n",
    "lm2.fit(X_train_degree2, y_train.logerror)\n",
    "\n",
    "# predict train\n",
    "y_train['logerror_pred_lm2'] = lm2.predict(X_train_degree2)\n",
    "\n",
    "# evaluate: rmse\n",
    "rmse_train = mean_squared_error(y_train.logerror, y_train.logerror_pred_lm2)**(1/2)\n",
    "\n",
    "# predict validate\n",
    "y_validate['logerror_pred_lm2'] = lm2.predict(X_validate_degree2)\n",
    "\n",
    "# evaluate: rmse\n",
    "rmse_validate = mean_squared_error(y_validate.logerror, y_validate.logerror_pred_lm2)**(1/2)\n",
    "\n",
    "print(\"RMSE for OLS using Polynomial Regression\\nTraining/In-Sample: \", rmse_train, \n",
    "      \"\\nValidation/Out-of-Sample: \", rmse_validate)"
   ]
  },
  {
   "cell_type": "code",
   "execution_count": 16,
   "id": "517d0c3b",
   "metadata": {},
   "outputs": [
    {
     "data": {
      "text/plain": [
       "0.057738437267318116"
      ]
     },
     "execution_count": 16,
     "metadata": {},
     "output_type": "execute_result"
    }
   ],
   "source": [
    "# This is just to predict the RMSE on validate for LA county\n",
    "la_only_validate_RMSE = mean_squared_error(y_validate[validate_scaled.county =='los_angeles'].logerror, y_validate[validate_scaled.county =='los_angeles'].logerror_pred_lm2)**(1/2)\n",
    "la_only_validate_RMSE"
   ]
  },
  {
   "cell_type": "code",
   "execution_count": 17,
   "id": "4c22d87f",
   "metadata": {},
   "outputs": [
    {
     "data": {
      "text/plain": [
       "0.04851411279112672"
      ]
     },
     "execution_count": 17,
     "metadata": {},
     "output_type": "execute_result"
    }
   ],
   "source": [
    "# This is just to predict the RMSE on validate for orange county\n",
    "orange_only_validate_RMSE = mean_squared_error(y_validate[validate_scaled.county =='orange'].logerror, y_validate[validate_scaled.county =='orange'].logerror_pred_lm2)**(1/2)\n",
    "orange_only_validate_RMSE"
   ]
  },
  {
   "cell_type": "code",
   "execution_count": 18,
   "id": "0e1cb849",
   "metadata": {},
   "outputs": [
    {
     "data": {
      "text/plain": [
       "0.048740021993889764"
      ]
     },
     "execution_count": 18,
     "metadata": {},
     "output_type": "execute_result"
    }
   ],
   "source": [
    "# This is just to predict the RMSE on validate for ventura county\n",
    "ventura_only_validate_RMSE = mean_squared_error(y_validate[validate_scaled.county =='ventura'].logerror, y_validate[validate_scaled.county =='ventura'].logerror_pred_lm2)**(1/2)\n",
    "ventura_only_validate_RMSE"
   ]
  },
  {
   "cell_type": "code",
   "execution_count": 19,
   "id": "e3c3de36",
   "metadata": {},
   "outputs": [
    {
     "data": {
      "text/plain": [
       "0.05475500966675738"
      ]
     },
     "execution_count": 19,
     "metadata": {},
     "output_type": "execute_result"
    }
   ],
   "source": [
    "mean_squared_error(y_validate.logerror, y_validate.logerror_pred_mean)**(1/2)"
   ]
  },
  {
   "cell_type": "code",
   "execution_count": 20,
   "id": "87f721f9",
   "metadata": {},
   "outputs": [
    {
     "data": {
      "image/png": "[encoded data removed]",
      "text/plain": [
       "<Figure size 936x792 with 1 Axes>"
      ]
     },
     "metadata": {
      "needs_background": "light"
     },
     "output_type": "display_data"
    }
   ],
   "source": [
    "plt.figure(figsize=(13,11))\n",
    "aggregate_poly_model_validation = rmse_validate = mean_squared_error(y_validate.logerror, y_validate.logerror_pred_mean)**(1/2)\n",
    "mean_model_validation = mean_squared_error(y_validate.logerror, y_validate.logerror_pred_lm2)**(1/2)\n",
    "    \n",
    "sns.barplot(x = ['Mean Baseline', 'Aggregate Poly-Regressor Model', 'LA only', 'Orange only', 'Ventura only'], \n",
    "            y = [mean_model_validation, aggregate_poly_model_validation, la_only_validate_RMSE, orange_only_validate_RMSE, ventura_only_validate_RMSE], palette='flare')\n",
    "plt.axhline(mean_model_validation, color = '#38a4fc')\n",
    "plt.ylabel('Model RSME of logerror', size = 'large')\n",
    "plt.title('Error in Predicting logerror',size = 'x-large')\n",
    "plt.show()"
   ]
  },
  {
   "cell_type": "markdown",
   "id": "b6dce940",
   "metadata": {},
   "source": [
    "# Other models"
   ]
  },
  {
   "cell_type": "markdown",
   "id": "668f85aa",
   "metadata": {},
   "source": [
    "First I will bring in other models to see if any offer a better regression."
   ]
  },
  {
   "cell_type": "code",
   "execution_count": 21,
   "id": "caeb432b",
   "metadata": {},
   "outputs": [],
   "source": [
    "# importing other models to use\n",
    "from sklearn.linear_model import Lars, Lasso, LassoLarsCV, LassoLarsIC, Ridge, SGDRegressor, ARDRegression, BayesianRidge, HuberRegressor, PassiveAggressiveRegressor\n"
   ]
  },
  {
   "cell_type": "code",
   "execution_count": 22,
   "id": "d14b9ff8",
   "metadata": {},
   "outputs": [
    {
     "name": "stdout",
     "output_type": "stream",
     "text": [
      "\n",
      "RMSE for Lars()\n",
      "Training/In-Sample:  0.055268650124660354 \n",
      "Validation/Out-of-Sample:  0.054480535479703454\n",
      "\n",
      "RMSE for Lasso()\n",
      "Training/In-Sample:  0.05549246973383742 \n",
      "Validation/Out-of-Sample:  0.05475500966675738\n",
      "\n",
      "RMSE for LassoLarsCV()\n",
      "Training/In-Sample:  0.055270980617623186 \n",
      "Validation/Out-of-Sample:  0.054476938936798114\n",
      "\n",
      "RMSE for LassoLarsIC()\n",
      "Training/In-Sample:  0.055270234131998656 \n",
      "Validation/Out-of-Sample:  0.05447680163968107\n",
      "\n",
      "RMSE for Ridge()\n",
      "Training/In-Sample:  0.05526865378241285 \n",
      "Validation/Out-of-Sample:  0.05448039729708562\n",
      "\n",
      "RMSE for SGDRegressor()\n",
      "Training/In-Sample:  0.05530397891666081 \n",
      "Validation/Out-of-Sample:  0.054499352693850145\n",
      "\n",
      "RMSE for ARDRegression()\n",
      "Training/In-Sample:  0.05537279161395794 \n",
      "Validation/Out-of-Sample:  0.054550861845181674\n",
      "\n",
      "RMSE for BayesianRidge()\n",
      "Training/In-Sample:  0.05527083692371705 \n",
      "Validation/Out-of-Sample:  0.05447963455292955\n",
      "\n",
      "RMSE for HuberRegressor()\n",
      "Training/In-Sample:  0.05528397625360514 \n",
      "Validation/Out-of-Sample:  0.05451290817462897\n",
      "\n",
      "RMSE for PassiveAggressiveRegressor()\n",
      "Training/In-Sample:  0.07230505144977943 \n",
      "Validation/Out-of-Sample:  0.07283310104529464\n"
     ]
    }
   ],
   "source": [
    "for model in [Lars(), Lasso(), LassoLarsCV(), LassoLarsIC(), Ridge(), SGDRegressor(), ARDRegression(), BayesianRidge(), HuberRegressor(), PassiveAggressiveRegressor()]:\n",
    "    # create the model\n",
    "    test_model = model\n",
    "\n",
    "    # fit the model\n",
    "    test_model.fit(X_train, y_train.logerror)\n",
    "\n",
    "    # predict train\n",
    "    y_train['logerror_pred_test'] = test_model.predict(X_train)\n",
    "\n",
    "    # evaluate: rmse\n",
    "    rmse_train = mean_squared_error(y_train.logerror, y_train.logerror_pred_test)**(1/2)\n",
    "\n",
    "    # predict validate\n",
    "    y_validate['logerror_pred_test'] = test_model.predict(X_validate)\n",
    "\n",
    "    # evaluate: rmse\n",
    "    rmse_validate = mean_squared_error(y_validate.logerror, y_validate.logerror_pred_test)**(1/2)\n",
    "\n",
    "    print(f\"\\nRMSE for {model}\\nTraining/In-Sample: \", rmse_train, \n",
    "          \"\\nValidation/Out-of-Sample: \", rmse_validate)"
   ]
  },
  {
   "cell_type": "markdown",
   "id": "1ec5e2dd",
   "metadata": {},
   "source": [
    "Finally I wanna try to use a decision tree regressor"
   ]
  },
  {
   "cell_type": "code",
   "execution_count": 23,
   "id": "28d91ba6",
   "metadata": {},
   "outputs": [
    {
     "name": "stdout",
     "output_type": "stream",
     "text": [
      "\n",
      "RMSE for DecisionTreeRegressor(max_depth=2)\n",
      "Training/In-Sample:  0.05532925943555161 \n",
      "Validation/Out-of-Sample:  0.054558322379920414\n",
      "\n",
      "RMSE for DecisionTreeRegressor(max_depth=3)\n",
      "Training/In-Sample:  0.05525999360229787 \n",
      "Validation/Out-of-Sample:  0.05455494124892726\n",
      "\n",
      "RMSE for DecisionTreeRegressor(max_depth=4)\n",
      "Training/In-Sample:  0.055133789518387655 \n",
      "Validation/Out-of-Sample:  0.054611936824818415\n",
      "\n",
      "RMSE for DecisionTreeRegressor(max_depth=5)\n",
      "Training/In-Sample:  0.054930266443211334 \n",
      "Validation/Out-of-Sample:  0.05482561421798552\n",
      "\n",
      "RMSE for DecisionTreeRegressor(max_depth=8)\n",
      "Training/In-Sample:  0.053953105776203186 \n",
      "Validation/Out-of-Sample:  0.055629150274095256\n",
      "\n",
      "RMSE for DecisionTreeRegressor(max_depth=10)\n",
      "Training/In-Sample:  0.05293871389753404 \n",
      "Validation/Out-of-Sample:  0.056706420254062646\n"
     ]
    }
   ],
   "source": [
    "from sklearn.tree import DecisionTreeRegressor\n",
    "\n",
    "regr_1 = DecisionTreeRegressor(max_depth=2)\n",
    "regr_2 = DecisionTreeRegressor(max_depth=3)\n",
    "regr_3 = DecisionTreeRegressor(max_depth=4)\n",
    "regr_4 = DecisionTreeRegressor(max_depth=5)\n",
    "regr_5 = DecisionTreeRegressor(max_depth=8)\n",
    "regr_6 = DecisionTreeRegressor(max_depth=10)\n",
    "\n",
    "for model in [regr_1, regr_2,regr_3,regr_4,regr_5,regr_6]:\n",
    "    # create the model\n",
    "    test_model = model\n",
    "\n",
    "    # fit the model\n",
    "    test_model.fit(X_train, y_train.logerror)\n",
    "\n",
    "    # predict train\n",
    "    y_train['logerror_pred_test'] = test_model.predict(X_train)\n",
    "\n",
    "    # evaluate: rmse\n",
    "    rmse_train = mean_squared_error(y_train.logerror, y_train.logerror_pred_test)**(1/2)\n",
    "\n",
    "    # predict validate\n",
    "    y_validate['logerror_pred_test'] = test_model.predict(X_validate)\n",
    "\n",
    "    # evaluate: rmse\n",
    "    rmse_validate = mean_squared_error(y_validate.logerror, y_validate.logerror_pred_test)**(1/2)\n",
    "\n",
    "    print(f\"\\nRMSE for {model}\\nTraining/In-Sample: \", rmse_train, \n",
    "          \"\\nValidation/Out-of-Sample: \", rmse_validate)"
   ]
  },
  {
   "cell_type": "markdown",
   "id": "21c9ec6b",
   "metadata": {},
   "source": [
    "The best performing DecisionTreeRegressor is max_depth 3"
   ]
  },
  {
   "cell_type": "code",
   "execution_count": 24,
   "id": "15e3370b",
   "metadata": {},
   "outputs": [],
   "source": [
    "# initial_model_results = pd.read_clipboard()\n",
    "\n",
    "# initial_model_results"
   ]
  },
  {
   "cell_type": "code",
   "execution_count": 25,
   "id": "32e4bba9",
   "metadata": {},
   "outputs": [],
   "source": [
    "# initial_model_results.to_csv('model_results.csv', index=False)\n",
    "model_results = pd.read_csv('model_results.csv')"
   ]
  },
  {
   "cell_type": "code",
   "execution_count": 26,
   "id": "c28535b9",
   "metadata": {},
   "outputs": [
    {
     "data": {
      "text/html": [
       "<div>\n",
       "<style scoped>\n",
       "    .dataframe tbody tr th:only-of-type {\n",
       "        vertical-align: middle;\n",
       "    }\n",
       "\n",
       "    .dataframe tbody tr th {\n",
       "        vertical-align: top;\n",
       "    }\n",
       "\n",
       "    .dataframe thead th {\n",
       "        text-align: right;\n",
       "    }\n",
       "</style>\n",
       "<table border=\"1\" class=\"dataframe\">\n",
       "  <thead>\n",
       "    <tr style=\"text-align: right;\">\n",
       "      <th></th>\n",
       "      <th>model</th>\n",
       "      <th>train_RMSE</th>\n",
       "      <th>validate_RMSE</th>\n",
       "      <th>cumulative_RMSE</th>\n",
       "      <th>diff_RMSE</th>\n",
       "    </tr>\n",
       "  </thead>\n",
       "  <tbody>\n",
       "    <tr>\n",
       "      <th>0</th>\n",
       "      <td>train_mean</td>\n",
       "      <td>0.055492</td>\n",
       "      <td>0.054755</td>\n",
       "      <td>0.110247</td>\n",
       "      <td>0.000737</td>\n",
       "    </tr>\n",
       "    <tr>\n",
       "      <th>1</th>\n",
       "      <td>train_median</td>\n",
       "      <td>0.055493</td>\n",
       "      <td>0.054754</td>\n",
       "      <td>0.110247</td>\n",
       "      <td>0.000738</td>\n",
       "    </tr>\n",
       "    <tr>\n",
       "      <th>2</th>\n",
       "      <td>linear_regression_ols</td>\n",
       "      <td>0.055270</td>\n",
       "      <td>0.054481</td>\n",
       "      <td>0.109751</td>\n",
       "      <td>0.000789</td>\n",
       "    </tr>\n",
       "    <tr>\n",
       "      <th>3</th>\n",
       "      <td>lasso_lars</td>\n",
       "      <td>0.055492</td>\n",
       "      <td>0.054755</td>\n",
       "      <td>0.110247</td>\n",
       "      <td>0.000737</td>\n",
       "    </tr>\n",
       "    <tr>\n",
       "      <th>4</th>\n",
       "      <td>polynomial_regression</td>\n",
       "      <td>0.055138</td>\n",
       "      <td>0.054489</td>\n",
       "      <td>0.109628</td>\n",
       "      <td>0.000649</td>\n",
       "    </tr>\n",
       "    <tr>\n",
       "      <th>5</th>\n",
       "      <td>least_angle_lars</td>\n",
       "      <td>0.055270</td>\n",
       "      <td>0.054481</td>\n",
       "      <td>0.109751</td>\n",
       "      <td>0.000789</td>\n",
       "    </tr>\n",
       "    <tr>\n",
       "      <th>6</th>\n",
       "      <td>coordinate_descent_lasso</td>\n",
       "      <td>0.055492</td>\n",
       "      <td>0.054755</td>\n",
       "      <td>0.110247</td>\n",
       "      <td>0.000737</td>\n",
       "    </tr>\n",
       "    <tr>\n",
       "      <th>7</th>\n",
       "      <td>least_angle_LassoLarsCV</td>\n",
       "      <td>0.055273</td>\n",
       "      <td>0.054478</td>\n",
       "      <td>0.109750</td>\n",
       "      <td>0.000795</td>\n",
       "    </tr>\n",
       "    <tr>\n",
       "      <th>8</th>\n",
       "      <td>least_angle_LassoLarsIC</td>\n",
       "      <td>0.055272</td>\n",
       "      <td>0.054478</td>\n",
       "      <td>0.109749</td>\n",
       "      <td>0.000794</td>\n",
       "    </tr>\n",
       "    <tr>\n",
       "      <th>9</th>\n",
       "      <td>ridge_regressor</td>\n",
       "      <td>0.055270</td>\n",
       "      <td>0.054481</td>\n",
       "      <td>0.109751</td>\n",
       "      <td>0.000789</td>\n",
       "    </tr>\n",
       "    <tr>\n",
       "      <th>10</th>\n",
       "      <td>sgd_regressor</td>\n",
       "      <td>0.055295</td>\n",
       "      <td>0.054493</td>\n",
       "      <td>0.109788</td>\n",
       "      <td>0.000803</td>\n",
       "    </tr>\n",
       "    <tr>\n",
       "      <th>11</th>\n",
       "      <td>ard_regressor</td>\n",
       "      <td>0.055373</td>\n",
       "      <td>0.054551</td>\n",
       "      <td>0.109924</td>\n",
       "      <td>0.000822</td>\n",
       "    </tr>\n",
       "    <tr>\n",
       "      <th>12</th>\n",
       "      <td>bayesian_ridge</td>\n",
       "      <td>0.055272</td>\n",
       "      <td>0.054480</td>\n",
       "      <td>0.109753</td>\n",
       "      <td>0.000792</td>\n",
       "    </tr>\n",
       "    <tr>\n",
       "      <th>13</th>\n",
       "      <td>huber_regressor</td>\n",
       "      <td>0.055285</td>\n",
       "      <td>0.054514</td>\n",
       "      <td>0.109799</td>\n",
       "      <td>0.000772</td>\n",
       "    </tr>\n",
       "    <tr>\n",
       "      <th>14</th>\n",
       "      <td>passive_aggressive_regressor</td>\n",
       "      <td>0.074161</td>\n",
       "      <td>0.073474</td>\n",
       "      <td>0.147635</td>\n",
       "      <td>0.000687</td>\n",
       "    </tr>\n",
       "    <tr>\n",
       "      <th>15</th>\n",
       "      <td>decision_tree_regressor</td>\n",
       "      <td>0.055261</td>\n",
       "      <td>0.054556</td>\n",
       "      <td>0.109816</td>\n",
       "      <td>0.000705</td>\n",
       "    </tr>\n",
       "  </tbody>\n",
       "</table>\n",
       "</div>"
      ],
      "text/plain": [
       "                           model  train_RMSE  validate_RMSE  cumulative_RMSE  \\\n",
       "0                     train_mean    0.055492       0.054755         0.110247   \n",
       "1                   train_median    0.055493       0.054754         0.110247   \n",
       "2          linear_regression_ols    0.055270       0.054481         0.109751   \n",
       "3                     lasso_lars    0.055492       0.054755         0.110247   \n",
       "4          polynomial_regression    0.055138       0.054489         0.109628   \n",
       "5               least_angle_lars    0.055270       0.054481         0.109751   \n",
       "6       coordinate_descent_lasso    0.055492       0.054755         0.110247   \n",
       "7        least_angle_LassoLarsCV    0.055273       0.054478         0.109750   \n",
       "8        least_angle_LassoLarsIC    0.055272       0.054478         0.109749   \n",
       "9                ridge_regressor    0.055270       0.054481         0.109751   \n",
       "10                 sgd_regressor    0.055295       0.054493         0.109788   \n",
       "11                 ard_regressor    0.055373       0.054551         0.109924   \n",
       "12                bayesian_ridge    0.055272       0.054480         0.109753   \n",
       "13               huber_regressor    0.055285       0.054514         0.109799   \n",
       "14  passive_aggressive_regressor    0.074161       0.073474         0.147635   \n",
       "15       decision_tree_regressor    0.055261       0.054556         0.109816   \n",
       "\n",
       "    diff_RMSE  \n",
       "0    0.000737  \n",
       "1    0.000738  \n",
       "2    0.000789  \n",
       "3    0.000737  \n",
       "4    0.000649  \n",
       "5    0.000789  \n",
       "6    0.000737  \n",
       "7    0.000795  \n",
       "8    0.000794  \n",
       "9    0.000789  \n",
       "10   0.000803  \n",
       "11   0.000822  \n",
       "12   0.000792  \n",
       "13   0.000772  \n",
       "14   0.000687  \n",
       "15   0.000705  "
      ]
     },
     "execution_count": 26,
     "metadata": {},
     "output_type": "execute_result"
    }
   ],
   "source": [
    "model_results['cumulative_RMSE'] = model_results.train_RMSE + model_results.validate_RMSE\n",
    "model_results['diff_RMSE'] = model_results.train_RMSE - model_results.validate_RMSE\n",
    "model_results"
   ]
  },
  {
   "cell_type": "code",
   "execution_count": 27,
   "id": "856f0f44",
   "metadata": {},
   "outputs": [
    {
     "data": {
      "image/png": "[encoded data removed]",
      "text/plain": [
       "<Figure size 1080x720 with 1 Axes>"
      ]
     },
     "metadata": {
      "needs_background": "light"
     },
     "output_type": "display_data"
    }
   ],
   "source": [
    "plt.figure(figsize=(15,10))\n",
    "mod = sns.lineplot(data=model_results)\n",
    "mod.set(xticklabels=[])\n",
    "mod.set(xticks=[])\n",
    "plt.show()"
   ]
  },
  {
   "cell_type": "markdown",
   "id": "111f0dc4",
   "metadata": {},
   "source": [
    "Passive Aggressive is throwing off the plot of the results so I'm going to throw it out in order to better visualize the data."
   ]
  },
  {
   "cell_type": "code",
   "execution_count": 28,
   "id": "5fcd8e1c",
   "metadata": {},
   "outputs": [
    {
     "data": {
      "image/png": "[encoded data removed]",
      "text/plain": [
       "<Figure size 1080x720 with 1 Axes>"
      ]
     },
     "metadata": {
      "needs_background": "light"
     },
     "output_type": "display_data"
    }
   ],
   "source": [
    "to_model = model_results[model_results.model != 'passive_aggressive_regressor'].drop(['cumulative_RMSE', 'diff_RMSE'], axis=1)\n",
    "\n",
    "plt.figure(figsize=(15,10))\n",
    "mod = sns.lineplot(data=to_model, markers=['.','.'],markersize=15)\n",
    "\n",
    "mod.axvline(model_results.model.iloc[0], label = 'Mean baseline', ls = ':', color = 'green')\n",
    "xymean = .15,.055\n",
    "mod.annotate(text = 'Mean baseline', xy = (xymean), size=13)\n",
    "\n",
    "mod.axvline(model_results.train_RMSE.idxmin(), label = 'Best Train Result', ls = ':', color = 'black')\n",
    "xytrain = model_results.train_RMSE.idxmin()+.15,model_results.train_RMSE.min()-.000025\n",
    "mod.annotate(text = model_results.loc[model_results.train_RMSE.idxmin()].model, xy = (xytrain), size=13)\n",
    "\n",
    "mod.axvline(model_results.validate_RMSE.idxmin(), label = 'Best Validate Result', ls = ':', color = 'purple')\n",
    "xyvalidate = model_results.validate_RMSE.idxmin()+.15,model_results.validate_RMSE.min()-.000025\n",
    "mod.annotate(text = model_results.loc[model_results.validate_RMSE.idxmin()].model, xy = (xyvalidate), size=13)\n",
    "\n",
    "plt.legend()\n",
    "mod.set(xticklabels=[])\n",
    "mod.set(xticks=[])\n",
    "plt.show()"
   ]
  },
  {
   "cell_type": "code",
   "execution_count": 29,
   "id": "542268d8",
   "metadata": {},
   "outputs": [
    {
     "data": {
      "text/html": [
       "<div>\n",
       "<style scoped>\n",
       "    .dataframe tbody tr th:only-of-type {\n",
       "        vertical-align: middle;\n",
       "    }\n",
       "\n",
       "    .dataframe tbody tr th {\n",
       "        vertical-align: top;\n",
       "    }\n",
       "\n",
       "    .dataframe thead th {\n",
       "        text-align: right;\n",
       "    }\n",
       "</style>\n",
       "<table border=\"1\" class=\"dataframe\">\n",
       "  <thead>\n",
       "    <tr style=\"text-align: right;\">\n",
       "      <th></th>\n",
       "      <th>model</th>\n",
       "      <th>train_RMSE</th>\n",
       "      <th>validate_RMSE</th>\n",
       "      <th>cumulative_RMSE</th>\n",
       "      <th>diff_RMSE</th>\n",
       "    </tr>\n",
       "  </thead>\n",
       "  <tbody>\n",
       "    <tr>\n",
       "      <th>8</th>\n",
       "      <td>least_angle_LassoLarsIC</td>\n",
       "      <td>0.055272</td>\n",
       "      <td>0.054478</td>\n",
       "      <td>0.109749</td>\n",
       "      <td>0.000794</td>\n",
       "    </tr>\n",
       "    <tr>\n",
       "      <th>7</th>\n",
       "      <td>least_angle_LassoLarsCV</td>\n",
       "      <td>0.055273</td>\n",
       "      <td>0.054478</td>\n",
       "      <td>0.109750</td>\n",
       "      <td>0.000795</td>\n",
       "    </tr>\n",
       "    <tr>\n",
       "      <th>12</th>\n",
       "      <td>bayesian_ridge</td>\n",
       "      <td>0.055272</td>\n",
       "      <td>0.054480</td>\n",
       "      <td>0.109753</td>\n",
       "      <td>0.000792</td>\n",
       "    </tr>\n",
       "    <tr>\n",
       "      <th>9</th>\n",
       "      <td>ridge_regressor</td>\n",
       "      <td>0.055270</td>\n",
       "      <td>0.054481</td>\n",
       "      <td>0.109751</td>\n",
       "      <td>0.000789</td>\n",
       "    </tr>\n",
       "    <tr>\n",
       "      <th>2</th>\n",
       "      <td>linear_regression_ols</td>\n",
       "      <td>0.055270</td>\n",
       "      <td>0.054481</td>\n",
       "      <td>0.109751</td>\n",
       "      <td>0.000789</td>\n",
       "    </tr>\n",
       "    <tr>\n",
       "      <th>5</th>\n",
       "      <td>least_angle_lars</td>\n",
       "      <td>0.055270</td>\n",
       "      <td>0.054481</td>\n",
       "      <td>0.109751</td>\n",
       "      <td>0.000789</td>\n",
       "    </tr>\n",
       "    <tr>\n",
       "      <th>4</th>\n",
       "      <td>polynomial_regression</td>\n",
       "      <td>0.055138</td>\n",
       "      <td>0.054489</td>\n",
       "      <td>0.109628</td>\n",
       "      <td>0.000649</td>\n",
       "    </tr>\n",
       "    <tr>\n",
       "      <th>10</th>\n",
       "      <td>sgd_regressor</td>\n",
       "      <td>0.055295</td>\n",
       "      <td>0.054493</td>\n",
       "      <td>0.109788</td>\n",
       "      <td>0.000803</td>\n",
       "    </tr>\n",
       "    <tr>\n",
       "      <th>13</th>\n",
       "      <td>huber_regressor</td>\n",
       "      <td>0.055285</td>\n",
       "      <td>0.054514</td>\n",
       "      <td>0.109799</td>\n",
       "      <td>0.000772</td>\n",
       "    </tr>\n",
       "    <tr>\n",
       "      <th>11</th>\n",
       "      <td>ard_regressor</td>\n",
       "      <td>0.055373</td>\n",
       "      <td>0.054551</td>\n",
       "      <td>0.109924</td>\n",
       "      <td>0.000822</td>\n",
       "    </tr>\n",
       "    <tr>\n",
       "      <th>15</th>\n",
       "      <td>decision_tree_regressor</td>\n",
       "      <td>0.055261</td>\n",
       "      <td>0.054556</td>\n",
       "      <td>0.109816</td>\n",
       "      <td>0.000705</td>\n",
       "    </tr>\n",
       "    <tr>\n",
       "      <th>1</th>\n",
       "      <td>train_median</td>\n",
       "      <td>0.055493</td>\n",
       "      <td>0.054754</td>\n",
       "      <td>0.110247</td>\n",
       "      <td>0.000738</td>\n",
       "    </tr>\n",
       "    <tr>\n",
       "      <th>0</th>\n",
       "      <td>train_mean</td>\n",
       "      <td>0.055492</td>\n",
       "      <td>0.054755</td>\n",
       "      <td>0.110247</td>\n",
       "      <td>0.000737</td>\n",
       "    </tr>\n",
       "    <tr>\n",
       "      <th>3</th>\n",
       "      <td>lasso_lars</td>\n",
       "      <td>0.055492</td>\n",
       "      <td>0.054755</td>\n",
       "      <td>0.110247</td>\n",
       "      <td>0.000737</td>\n",
       "    </tr>\n",
       "    <tr>\n",
       "      <th>6</th>\n",
       "      <td>coordinate_descent_lasso</td>\n",
       "      <td>0.055492</td>\n",
       "      <td>0.054755</td>\n",
       "      <td>0.110247</td>\n",
       "      <td>0.000737</td>\n",
       "    </tr>\n",
       "    <tr>\n",
       "      <th>14</th>\n",
       "      <td>passive_aggressive_regressor</td>\n",
       "      <td>0.074161</td>\n",
       "      <td>0.073474</td>\n",
       "      <td>0.147635</td>\n",
       "      <td>0.000687</td>\n",
       "    </tr>\n",
       "  </tbody>\n",
       "</table>\n",
       "</div>"
      ],
      "text/plain": [
       "                           model  train_RMSE  validate_RMSE  cumulative_RMSE  \\\n",
       "8        least_angle_LassoLarsIC    0.055272       0.054478         0.109749   \n",
       "7        least_angle_LassoLarsCV    0.055273       0.054478         0.109750   \n",
       "12                bayesian_ridge    0.055272       0.054480         0.109753   \n",
       "9                ridge_regressor    0.055270       0.054481         0.109751   \n",
       "2          linear_regression_ols    0.055270       0.054481         0.109751   \n",
       "5               least_angle_lars    0.055270       0.054481         0.109751   \n",
       "4          polynomial_regression    0.055138       0.054489         0.109628   \n",
       "10                 sgd_regressor    0.055295       0.054493         0.109788   \n",
       "13               huber_regressor    0.055285       0.054514         0.109799   \n",
       "11                 ard_regressor    0.055373       0.054551         0.109924   \n",
       "15       decision_tree_regressor    0.055261       0.054556         0.109816   \n",
       "1                   train_median    0.055493       0.054754         0.110247   \n",
       "0                     train_mean    0.055492       0.054755         0.110247   \n",
       "3                     lasso_lars    0.055492       0.054755         0.110247   \n",
       "6       coordinate_descent_lasso    0.055492       0.054755         0.110247   \n",
       "14  passive_aggressive_regressor    0.074161       0.073474         0.147635   \n",
       "\n",
       "    diff_RMSE  \n",
       "8    0.000794  \n",
       "7    0.000795  \n",
       "12   0.000792  \n",
       "9    0.000789  \n",
       "2    0.000789  \n",
       "5    0.000789  \n",
       "4    0.000649  \n",
       "10   0.000803  \n",
       "13   0.000772  \n",
       "11   0.000822  \n",
       "15   0.000705  \n",
       "1    0.000738  \n",
       "0    0.000737  \n",
       "3    0.000737  \n",
       "6    0.000737  \n",
       "14   0.000687  "
      ]
     },
     "execution_count": 29,
     "metadata": {},
     "output_type": "execute_result"
    }
   ],
   "source": [
    "model_results.sort_values('validate_RMSE')"
   ]
  },
  {
   "cell_type": "code",
   "execution_count": 30,
   "id": "d81bafc2",
   "metadata": {},
   "outputs": [
    {
     "data": {
      "text/html": [
       "<div>\n",
       "<style scoped>\n",
       "    .dataframe tbody tr th:only-of-type {\n",
       "        vertical-align: middle;\n",
       "    }\n",
       "\n",
       "    .dataframe tbody tr th {\n",
       "        vertical-align: top;\n",
       "    }\n",
       "\n",
       "    .dataframe thead th {\n",
       "        text-align: right;\n",
       "    }\n",
       "</style>\n",
       "<table border=\"1\" class=\"dataframe\">\n",
       "  <thead>\n",
       "    <tr style=\"text-align: right;\">\n",
       "      <th></th>\n",
       "      <th>model</th>\n",
       "      <th>train_RMSE</th>\n",
       "      <th>validate_RMSE</th>\n",
       "      <th>cumulative_RMSE</th>\n",
       "      <th>diff_RMSE</th>\n",
       "    </tr>\n",
       "  </thead>\n",
       "  <tbody>\n",
       "    <tr>\n",
       "      <th>4</th>\n",
       "      <td>polynomial_regression</td>\n",
       "      <td>0.055138</td>\n",
       "      <td>0.054489</td>\n",
       "      <td>0.109628</td>\n",
       "      <td>0.000649</td>\n",
       "    </tr>\n",
       "    <tr>\n",
       "      <th>15</th>\n",
       "      <td>decision_tree_regressor</td>\n",
       "      <td>0.055261</td>\n",
       "      <td>0.054556</td>\n",
       "      <td>0.109816</td>\n",
       "      <td>0.000705</td>\n",
       "    </tr>\n",
       "    <tr>\n",
       "      <th>2</th>\n",
       "      <td>linear_regression_ols</td>\n",
       "      <td>0.055270</td>\n",
       "      <td>0.054481</td>\n",
       "      <td>0.109751</td>\n",
       "      <td>0.000789</td>\n",
       "    </tr>\n",
       "    <tr>\n",
       "      <th>5</th>\n",
       "      <td>least_angle_lars</td>\n",
       "      <td>0.055270</td>\n",
       "      <td>0.054481</td>\n",
       "      <td>0.109751</td>\n",
       "      <td>0.000789</td>\n",
       "    </tr>\n",
       "    <tr>\n",
       "      <th>9</th>\n",
       "      <td>ridge_regressor</td>\n",
       "      <td>0.055270</td>\n",
       "      <td>0.054481</td>\n",
       "      <td>0.109751</td>\n",
       "      <td>0.000789</td>\n",
       "    </tr>\n",
       "    <tr>\n",
       "      <th>8</th>\n",
       "      <td>least_angle_LassoLarsIC</td>\n",
       "      <td>0.055272</td>\n",
       "      <td>0.054478</td>\n",
       "      <td>0.109749</td>\n",
       "      <td>0.000794</td>\n",
       "    </tr>\n",
       "    <tr>\n",
       "      <th>12</th>\n",
       "      <td>bayesian_ridge</td>\n",
       "      <td>0.055272</td>\n",
       "      <td>0.054480</td>\n",
       "      <td>0.109753</td>\n",
       "      <td>0.000792</td>\n",
       "    </tr>\n",
       "    <tr>\n",
       "      <th>7</th>\n",
       "      <td>least_angle_LassoLarsCV</td>\n",
       "      <td>0.055273</td>\n",
       "      <td>0.054478</td>\n",
       "      <td>0.109750</td>\n",
       "      <td>0.000795</td>\n",
       "    </tr>\n",
       "    <tr>\n",
       "      <th>13</th>\n",
       "      <td>huber_regressor</td>\n",
       "      <td>0.055285</td>\n",
       "      <td>0.054514</td>\n",
       "      <td>0.109799</td>\n",
       "      <td>0.000772</td>\n",
       "    </tr>\n",
       "    <tr>\n",
       "      <th>10</th>\n",
       "      <td>sgd_regressor</td>\n",
       "      <td>0.055295</td>\n",
       "      <td>0.054493</td>\n",
       "      <td>0.109788</td>\n",
       "      <td>0.000803</td>\n",
       "    </tr>\n",
       "    <tr>\n",
       "      <th>11</th>\n",
       "      <td>ard_regressor</td>\n",
       "      <td>0.055373</td>\n",
       "      <td>0.054551</td>\n",
       "      <td>0.109924</td>\n",
       "      <td>0.000822</td>\n",
       "    </tr>\n",
       "    <tr>\n",
       "      <th>0</th>\n",
       "      <td>train_mean</td>\n",
       "      <td>0.055492</td>\n",
       "      <td>0.054755</td>\n",
       "      <td>0.110247</td>\n",
       "      <td>0.000737</td>\n",
       "    </tr>\n",
       "    <tr>\n",
       "      <th>3</th>\n",
       "      <td>lasso_lars</td>\n",
       "      <td>0.055492</td>\n",
       "      <td>0.054755</td>\n",
       "      <td>0.110247</td>\n",
       "      <td>0.000737</td>\n",
       "    </tr>\n",
       "    <tr>\n",
       "      <th>6</th>\n",
       "      <td>coordinate_descent_lasso</td>\n",
       "      <td>0.055492</td>\n",
       "      <td>0.054755</td>\n",
       "      <td>0.110247</td>\n",
       "      <td>0.000737</td>\n",
       "    </tr>\n",
       "    <tr>\n",
       "      <th>1</th>\n",
       "      <td>train_median</td>\n",
       "      <td>0.055493</td>\n",
       "      <td>0.054754</td>\n",
       "      <td>0.110247</td>\n",
       "      <td>0.000738</td>\n",
       "    </tr>\n",
       "    <tr>\n",
       "      <th>14</th>\n",
       "      <td>passive_aggressive_regressor</td>\n",
       "      <td>0.074161</td>\n",
       "      <td>0.073474</td>\n",
       "      <td>0.147635</td>\n",
       "      <td>0.000687</td>\n",
       "    </tr>\n",
       "  </tbody>\n",
       "</table>\n",
       "</div>"
      ],
      "text/plain": [
       "                           model  train_RMSE  validate_RMSE  cumulative_RMSE  \\\n",
       "4          polynomial_regression    0.055138       0.054489         0.109628   \n",
       "15       decision_tree_regressor    0.055261       0.054556         0.109816   \n",
       "2          linear_regression_ols    0.055270       0.054481         0.109751   \n",
       "5               least_angle_lars    0.055270       0.054481         0.109751   \n",
       "9                ridge_regressor    0.055270       0.054481         0.109751   \n",
       "8        least_angle_LassoLarsIC    0.055272       0.054478         0.109749   \n",
       "12                bayesian_ridge    0.055272       0.054480         0.109753   \n",
       "7        least_angle_LassoLarsCV    0.055273       0.054478         0.109750   \n",
       "13               huber_regressor    0.055285       0.054514         0.109799   \n",
       "10                 sgd_regressor    0.055295       0.054493         0.109788   \n",
       "11                 ard_regressor    0.055373       0.054551         0.109924   \n",
       "0                     train_mean    0.055492       0.054755         0.110247   \n",
       "3                     lasso_lars    0.055492       0.054755         0.110247   \n",
       "6       coordinate_descent_lasso    0.055492       0.054755         0.110247   \n",
       "1                   train_median    0.055493       0.054754         0.110247   \n",
       "14  passive_aggressive_regressor    0.074161       0.073474         0.147635   \n",
       "\n",
       "    diff_RMSE  \n",
       "4    0.000649  \n",
       "15   0.000705  \n",
       "2    0.000789  \n",
       "5    0.000789  \n",
       "9    0.000789  \n",
       "8    0.000794  \n",
       "12   0.000792  \n",
       "7    0.000795  \n",
       "13   0.000772  \n",
       "10   0.000803  \n",
       "11   0.000822  \n",
       "0    0.000737  \n",
       "3    0.000737  \n",
       "6    0.000737  \n",
       "1    0.000738  \n",
       "14   0.000687  "
      ]
     },
     "execution_count": 30,
     "metadata": {},
     "output_type": "execute_result"
    }
   ],
   "source": [
    "model_results.sort_values('train_RMSE')"
   ]
  },
  {
   "cell_type": "code",
   "execution_count": 31,
   "id": "acb08434",
   "metadata": {},
   "outputs": [
    {
     "data": {
      "text/html": [
       "<div>\n",
       "<style scoped>\n",
       "    .dataframe tbody tr th:only-of-type {\n",
       "        vertical-align: middle;\n",
       "    }\n",
       "\n",
       "    .dataframe tbody tr th {\n",
       "        vertical-align: top;\n",
       "    }\n",
       "\n",
       "    .dataframe thead th {\n",
       "        text-align: right;\n",
       "    }\n",
       "</style>\n",
       "<table border=\"1\" class=\"dataframe\">\n",
       "  <thead>\n",
       "    <tr style=\"text-align: right;\">\n",
       "      <th></th>\n",
       "      <th>model</th>\n",
       "      <th>train_RMSE</th>\n",
       "      <th>validate_RMSE</th>\n",
       "      <th>cumulative_RMSE</th>\n",
       "      <th>diff_RMSE</th>\n",
       "    </tr>\n",
       "  </thead>\n",
       "  <tbody>\n",
       "    <tr>\n",
       "      <th>4</th>\n",
       "      <td>polynomial_regression</td>\n",
       "      <td>0.055138</td>\n",
       "      <td>0.054489</td>\n",
       "      <td>0.109628</td>\n",
       "      <td>0.000649</td>\n",
       "    </tr>\n",
       "    <tr>\n",
       "      <th>8</th>\n",
       "      <td>least_angle_LassoLarsIC</td>\n",
       "      <td>0.055272</td>\n",
       "      <td>0.054478</td>\n",
       "      <td>0.109749</td>\n",
       "      <td>0.000794</td>\n",
       "    </tr>\n",
       "    <tr>\n",
       "      <th>7</th>\n",
       "      <td>least_angle_LassoLarsCV</td>\n",
       "      <td>0.055273</td>\n",
       "      <td>0.054478</td>\n",
       "      <td>0.109750</td>\n",
       "      <td>0.000795</td>\n",
       "    </tr>\n",
       "    <tr>\n",
       "      <th>9</th>\n",
       "      <td>ridge_regressor</td>\n",
       "      <td>0.055270</td>\n",
       "      <td>0.054481</td>\n",
       "      <td>0.109751</td>\n",
       "      <td>0.000789</td>\n",
       "    </tr>\n",
       "    <tr>\n",
       "      <th>2</th>\n",
       "      <td>linear_regression_ols</td>\n",
       "      <td>0.055270</td>\n",
       "      <td>0.054481</td>\n",
       "      <td>0.109751</td>\n",
       "      <td>0.000789</td>\n",
       "    </tr>\n",
       "    <tr>\n",
       "      <th>5</th>\n",
       "      <td>least_angle_lars</td>\n",
       "      <td>0.055270</td>\n",
       "      <td>0.054481</td>\n",
       "      <td>0.109751</td>\n",
       "      <td>0.000789</td>\n",
       "    </tr>\n",
       "    <tr>\n",
       "      <th>12</th>\n",
       "      <td>bayesian_ridge</td>\n",
       "      <td>0.055272</td>\n",
       "      <td>0.054480</td>\n",
       "      <td>0.109753</td>\n",
       "      <td>0.000792</td>\n",
       "    </tr>\n",
       "    <tr>\n",
       "      <th>10</th>\n",
       "      <td>sgd_regressor</td>\n",
       "      <td>0.055295</td>\n",
       "      <td>0.054493</td>\n",
       "      <td>0.109788</td>\n",
       "      <td>0.000803</td>\n",
       "    </tr>\n",
       "    <tr>\n",
       "      <th>13</th>\n",
       "      <td>huber_regressor</td>\n",
       "      <td>0.055285</td>\n",
       "      <td>0.054514</td>\n",
       "      <td>0.109799</td>\n",
       "      <td>0.000772</td>\n",
       "    </tr>\n",
       "    <tr>\n",
       "      <th>15</th>\n",
       "      <td>decision_tree_regressor</td>\n",
       "      <td>0.055261</td>\n",
       "      <td>0.054556</td>\n",
       "      <td>0.109816</td>\n",
       "      <td>0.000705</td>\n",
       "    </tr>\n",
       "    <tr>\n",
       "      <th>11</th>\n",
       "      <td>ard_regressor</td>\n",
       "      <td>0.055373</td>\n",
       "      <td>0.054551</td>\n",
       "      <td>0.109924</td>\n",
       "      <td>0.000822</td>\n",
       "    </tr>\n",
       "    <tr>\n",
       "      <th>1</th>\n",
       "      <td>train_median</td>\n",
       "      <td>0.055493</td>\n",
       "      <td>0.054754</td>\n",
       "      <td>0.110247</td>\n",
       "      <td>0.000738</td>\n",
       "    </tr>\n",
       "    <tr>\n",
       "      <th>0</th>\n",
       "      <td>train_mean</td>\n",
       "      <td>0.055492</td>\n",
       "      <td>0.054755</td>\n",
       "      <td>0.110247</td>\n",
       "      <td>0.000737</td>\n",
       "    </tr>\n",
       "    <tr>\n",
       "      <th>3</th>\n",
       "      <td>lasso_lars</td>\n",
       "      <td>0.055492</td>\n",
       "      <td>0.054755</td>\n",
       "      <td>0.110247</td>\n",
       "      <td>0.000737</td>\n",
       "    </tr>\n",
       "    <tr>\n",
       "      <th>6</th>\n",
       "      <td>coordinate_descent_lasso</td>\n",
       "      <td>0.055492</td>\n",
       "      <td>0.054755</td>\n",
       "      <td>0.110247</td>\n",
       "      <td>0.000737</td>\n",
       "    </tr>\n",
       "    <tr>\n",
       "      <th>14</th>\n",
       "      <td>passive_aggressive_regressor</td>\n",
       "      <td>0.074161</td>\n",
       "      <td>0.073474</td>\n",
       "      <td>0.147635</td>\n",
       "      <td>0.000687</td>\n",
       "    </tr>\n",
       "  </tbody>\n",
       "</table>\n",
       "</div>"
      ],
      "text/plain": [
       "                           model  train_RMSE  validate_RMSE  cumulative_RMSE  \\\n",
       "4          polynomial_regression    0.055138       0.054489         0.109628   \n",
       "8        least_angle_LassoLarsIC    0.055272       0.054478         0.109749   \n",
       "7        least_angle_LassoLarsCV    0.055273       0.054478         0.109750   \n",
       "9                ridge_regressor    0.055270       0.054481         0.109751   \n",
       "2          linear_regression_ols    0.055270       0.054481         0.109751   \n",
       "5               least_angle_lars    0.055270       0.054481         0.109751   \n",
       "12                bayesian_ridge    0.055272       0.054480         0.109753   \n",
       "10                 sgd_regressor    0.055295       0.054493         0.109788   \n",
       "13               huber_regressor    0.055285       0.054514         0.109799   \n",
       "15       decision_tree_regressor    0.055261       0.054556         0.109816   \n",
       "11                 ard_regressor    0.055373       0.054551         0.109924   \n",
       "1                   train_median    0.055493       0.054754         0.110247   \n",
       "0                     train_mean    0.055492       0.054755         0.110247   \n",
       "3                     lasso_lars    0.055492       0.054755         0.110247   \n",
       "6       coordinate_descent_lasso    0.055492       0.054755         0.110247   \n",
       "14  passive_aggressive_regressor    0.074161       0.073474         0.147635   \n",
       "\n",
       "    diff_RMSE  \n",
       "4    0.000649  \n",
       "8    0.000794  \n",
       "7    0.000795  \n",
       "9    0.000789  \n",
       "2    0.000789  \n",
       "5    0.000789  \n",
       "12   0.000792  \n",
       "10   0.000803  \n",
       "13   0.000772  \n",
       "15   0.000705  \n",
       "11   0.000822  \n",
       "1    0.000738  \n",
       "0    0.000737  \n",
       "3    0.000737  \n",
       "6    0.000737  \n",
       "14   0.000687  "
      ]
     },
     "execution_count": 31,
     "metadata": {},
     "output_type": "execute_result"
    }
   ],
   "source": [
    "model_results.sort_values('cumulative_RMSE')"
   ]
  },
  {
   "cell_type": "code",
   "execution_count": 32,
   "id": "4d568b40",
   "metadata": {},
   "outputs": [
    {
     "data": {
      "text/html": [
       "<div>\n",
       "<style scoped>\n",
       "    .dataframe tbody tr th:only-of-type {\n",
       "        vertical-align: middle;\n",
       "    }\n",
       "\n",
       "    .dataframe tbody tr th {\n",
       "        vertical-align: top;\n",
       "    }\n",
       "\n",
       "    .dataframe thead th {\n",
       "        text-align: right;\n",
       "    }\n",
       "</style>\n",
       "<table border=\"1\" class=\"dataframe\">\n",
       "  <thead>\n",
       "    <tr style=\"text-align: right;\">\n",
       "      <th></th>\n",
       "      <th>model</th>\n",
       "      <th>train_RMSE</th>\n",
       "      <th>validate_RMSE</th>\n",
       "      <th>cumulative_RMSE</th>\n",
       "      <th>diff_RMSE</th>\n",
       "    </tr>\n",
       "  </thead>\n",
       "  <tbody>\n",
       "    <tr>\n",
       "      <th>4</th>\n",
       "      <td>polynomial_regression</td>\n",
       "      <td>0.055138</td>\n",
       "      <td>0.054489</td>\n",
       "      <td>0.109628</td>\n",
       "      <td>0.000649</td>\n",
       "    </tr>\n",
       "    <tr>\n",
       "      <th>14</th>\n",
       "      <td>passive_aggressive_regressor</td>\n",
       "      <td>0.074161</td>\n",
       "      <td>0.073474</td>\n",
       "      <td>0.147635</td>\n",
       "      <td>0.000687</td>\n",
       "    </tr>\n",
       "    <tr>\n",
       "      <th>15</th>\n",
       "      <td>decision_tree_regressor</td>\n",
       "      <td>0.055261</td>\n",
       "      <td>0.054556</td>\n",
       "      <td>0.109816</td>\n",
       "      <td>0.000705</td>\n",
       "    </tr>\n",
       "    <tr>\n",
       "      <th>0</th>\n",
       "      <td>train_mean</td>\n",
       "      <td>0.055492</td>\n",
       "      <td>0.054755</td>\n",
       "      <td>0.110247</td>\n",
       "      <td>0.000737</td>\n",
       "    </tr>\n",
       "    <tr>\n",
       "      <th>3</th>\n",
       "      <td>lasso_lars</td>\n",
       "      <td>0.055492</td>\n",
       "      <td>0.054755</td>\n",
       "      <td>0.110247</td>\n",
       "      <td>0.000737</td>\n",
       "    </tr>\n",
       "    <tr>\n",
       "      <th>6</th>\n",
       "      <td>coordinate_descent_lasso</td>\n",
       "      <td>0.055492</td>\n",
       "      <td>0.054755</td>\n",
       "      <td>0.110247</td>\n",
       "      <td>0.000737</td>\n",
       "    </tr>\n",
       "    <tr>\n",
       "      <th>1</th>\n",
       "      <td>train_median</td>\n",
       "      <td>0.055493</td>\n",
       "      <td>0.054754</td>\n",
       "      <td>0.110247</td>\n",
       "      <td>0.000738</td>\n",
       "    </tr>\n",
       "    <tr>\n",
       "      <th>13</th>\n",
       "      <td>huber_regressor</td>\n",
       "      <td>0.055285</td>\n",
       "      <td>0.054514</td>\n",
       "      <td>0.109799</td>\n",
       "      <td>0.000772</td>\n",
       "    </tr>\n",
       "    <tr>\n",
       "      <th>2</th>\n",
       "      <td>linear_regression_ols</td>\n",
       "      <td>0.055270</td>\n",
       "      <td>0.054481</td>\n",
       "      <td>0.109751</td>\n",
       "      <td>0.000789</td>\n",
       "    </tr>\n",
       "    <tr>\n",
       "      <th>5</th>\n",
       "      <td>least_angle_lars</td>\n",
       "      <td>0.055270</td>\n",
       "      <td>0.054481</td>\n",
       "      <td>0.109751</td>\n",
       "      <td>0.000789</td>\n",
       "    </tr>\n",
       "    <tr>\n",
       "      <th>9</th>\n",
       "      <td>ridge_regressor</td>\n",
       "      <td>0.055270</td>\n",
       "      <td>0.054481</td>\n",
       "      <td>0.109751</td>\n",
       "      <td>0.000789</td>\n",
       "    </tr>\n",
       "    <tr>\n",
       "      <th>12</th>\n",
       "      <td>bayesian_ridge</td>\n",
       "      <td>0.055272</td>\n",
       "      <td>0.054480</td>\n",
       "      <td>0.109753</td>\n",
       "      <td>0.000792</td>\n",
       "    </tr>\n",
       "    <tr>\n",
       "      <th>8</th>\n",
       "      <td>least_angle_LassoLarsIC</td>\n",
       "      <td>0.055272</td>\n",
       "      <td>0.054478</td>\n",
       "      <td>0.109749</td>\n",
       "      <td>0.000794</td>\n",
       "    </tr>\n",
       "    <tr>\n",
       "      <th>7</th>\n",
       "      <td>least_angle_LassoLarsCV</td>\n",
       "      <td>0.055273</td>\n",
       "      <td>0.054478</td>\n",
       "      <td>0.109750</td>\n",
       "      <td>0.000795</td>\n",
       "    </tr>\n",
       "    <tr>\n",
       "      <th>10</th>\n",
       "      <td>sgd_regressor</td>\n",
       "      <td>0.055295</td>\n",
       "      <td>0.054493</td>\n",
       "      <td>0.109788</td>\n",
       "      <td>0.000803</td>\n",
       "    </tr>\n",
       "    <tr>\n",
       "      <th>11</th>\n",
       "      <td>ard_regressor</td>\n",
       "      <td>0.055373</td>\n",
       "      <td>0.054551</td>\n",
       "      <td>0.109924</td>\n",
       "      <td>0.000822</td>\n",
       "    </tr>\n",
       "  </tbody>\n",
       "</table>\n",
       "</div>"
      ],
      "text/plain": [
       "                           model  train_RMSE  validate_RMSE  cumulative_RMSE  \\\n",
       "4          polynomial_regression    0.055138       0.054489         0.109628   \n",
       "14  passive_aggressive_regressor    0.074161       0.073474         0.147635   \n",
       "15       decision_tree_regressor    0.055261       0.054556         0.109816   \n",
       "0                     train_mean    0.055492       0.054755         0.110247   \n",
       "3                     lasso_lars    0.055492       0.054755         0.110247   \n",
       "6       coordinate_descent_lasso    0.055492       0.054755         0.110247   \n",
       "1                   train_median    0.055493       0.054754         0.110247   \n",
       "13               huber_regressor    0.055285       0.054514         0.109799   \n",
       "2          linear_regression_ols    0.055270       0.054481         0.109751   \n",
       "5               least_angle_lars    0.055270       0.054481         0.109751   \n",
       "9                ridge_regressor    0.055270       0.054481         0.109751   \n",
       "12                bayesian_ridge    0.055272       0.054480         0.109753   \n",
       "8        least_angle_LassoLarsIC    0.055272       0.054478         0.109749   \n",
       "7        least_angle_LassoLarsCV    0.055273       0.054478         0.109750   \n",
       "10                 sgd_regressor    0.055295       0.054493         0.109788   \n",
       "11                 ard_regressor    0.055373       0.054551         0.109924   \n",
       "\n",
       "    diff_RMSE  \n",
       "4    0.000649  \n",
       "14   0.000687  \n",
       "15   0.000705  \n",
       "0    0.000737  \n",
       "3    0.000737  \n",
       "6    0.000737  \n",
       "1    0.000738  \n",
       "13   0.000772  \n",
       "2    0.000789  \n",
       "5    0.000789  \n",
       "9    0.000789  \n",
       "12   0.000792  \n",
       "8    0.000794  \n",
       "7    0.000795  \n",
       "10   0.000803  \n",
       "11   0.000822  "
      ]
     },
     "execution_count": 32,
     "metadata": {},
     "output_type": "execute_result"
    }
   ],
   "source": [
    "model_results.sort_values('diff_RMSE')"
   ]
  },
  {
   "cell_type": "markdown",
   "id": "ddcc6d19",
   "metadata": {},
   "source": [
    "Basically in every metric polynomial regression comes out as the best performing model."
   ]
  },
  {
   "cell_type": "markdown",
   "id": "707c8601",
   "metadata": {},
   "source": [
    "So the best performing holistic model for predicting logerror seems to be polynomial regression with a validate RMSE of .054489 which beats the mean validate RMSE of 0.054755. This is an improvement of 0.000266 logerror. This validate RMSE of .054489 is my new baseline to beat when trying with models broken out by county."
   ]
  },
  {
   "cell_type": "markdown",
   "id": "37d0a125",
   "metadata": {},
   "source": [
    "# Individual county models"
   ]
  },
  {
   "cell_type": "code",
   "execution_count": 33,
   "id": "6dc2f3a8",
   "metadata": {},
   "outputs": [],
   "source": [
    "import model"
   ]
  },
  {
   "cell_type": "code",
   "execution_count": 34,
   "id": "9b7f01a4",
   "metadata": {},
   "outputs": [],
   "source": [
    "train_la, train_orange, train_ventura = model.county_train_split(train_scaled)\n",
    "validate_la, validate_orange, validate_ventura = model.county_validate_split(validate_scaled)\n",
    "test_la, test_orange, test_ventura = model.county_test_split(test_scaled)"
   ]
  },
  {
   "cell_type": "code",
   "execution_count": 35,
   "id": "8025f52f",
   "metadata": {},
   "outputs": [],
   "source": [
    "X_train_la, y_train_la, X_train_orange, y_train_orange, X_train_ventura, y_train_ventura = model.county_train_x_y(train_la, train_orange, train_ventura, features)\n",
    "\n",
    "X_validate_la, y_validate_la, X_validate_orange, y_validate_orange, X_validate_ventura, y_validate_ventura = model.county_validate_x_y(validate_la, validate_orange, validate_ventura, features)\n",
    "\n",
    "X_test_la, y_test_la, X_test_orange, y_test_orange, X_test_ventura, y_test_ventura = model.county_test_x_y(test_la, test_orange, test_ventura, features)"
   ]
  },
  {
   "cell_type": "code",
   "execution_count": 36,
   "id": "f6c39b72",
   "metadata": {},
   "outputs": [
    {
     "name": "stdout",
     "output_type": "stream",
     "text": [
      "RMSE for Polynomial Model for LA county\n",
      "\n",
      "Training/In-Sample:  0.05835875934375348 \n",
      "Validation/Out-of-Sample:  0.05782466985359601\n",
      "RMSE for Polynomial Model for Orange county\n",
      "\n",
      "Training/In-Sample:  0.04921552900613214 \n",
      "Validation/Out-of-Sample:  0.048735600842056\n",
      "RMSE for Polynomial Model for Orange county\n",
      "\n",
      "Training/In-Sample:  0.04825271250177138 \n",
      "Validation/Out-of-Sample:  0.05001311302440826\n"
     ]
    }
   ],
   "source": [
    "y_train_la, y_validate_la, y_test_la = model.la_county_model(X_train_la, y_train_la, X_validate_la, y_validate_la, X_test_la, y_test_la)\n",
    "\n",
    "y_train_orange, y_validate_orange, y_test_orange = model.orange_county_model(X_train_orange, y_train_orange, X_validate_orange, y_validate_orange, X_test_orange, y_test_orange)\n",
    "\n",
    "y_train_ventura, y_validate_ventura, y_test_ventura = model.ventura_county_model(X_train_ventura, y_train_ventura, X_validate_ventura, y_validate_ventura, X_test_ventura, y_test_ventura)"
   ]
  },
  {
   "cell_type": "code",
   "execution_count": 37,
   "id": "fc3af8ec",
   "metadata": {},
   "outputs": [
    {
     "data": {
      "image/png": "[encoded data removed]",
      "text/plain": [
       "<Figure size 936x792 with 1 Axes>"
      ]
     },
     "metadata": {
      "needs_background": "light"
     },
     "output_type": "display_data"
    }
   ],
   "source": [
    "model.validate_results_plot(model_results, y_validate_la, y_validate_orange, y_validate_ventura)\n"
   ]
  },
  {
   "cell_type": "code",
   "execution_count": 38,
   "id": "145232cd",
   "metadata": {},
   "outputs": [
    {
     "data": {
      "image/png": "[encoded data removed]",
      "text/plain": [
       "<Figure size 936x792 with 1 Axes>"
      ]
     },
     "metadata": {
      "needs_background": "light"
     },
     "output_type": "display_data"
    }
   ],
   "source": [
    "aggregate_model_validation = model_results[model_results.model == 'polynomial_regression'].validate_RMSE.values[0]\n",
    "mean_model_validation = model_results[model_results.model == 'train_mean'].validate_RMSE.values[0]\n",
    "la_model_validation = mean_squared_error(y_validate_la.logerror, y_validate_la.logerror_pred_lm2)**(1/2)\n",
    "orange_model_validation = mean_squared_error(y_validate_orange.logerror, y_validate_orange.logerror_pred_lm2)**(1/2)\n",
    "ventura_model_validation = mean_squared_error(y_validate_ventura.logerror, y_validate_ventura.logerror_pred_lm2)**(1/2)\n",
    "\n",
    "plt.figure(figsize=(13,11))\n",
    "g = sns.barplot(x = ['Mean Baseline', 'Aggregate Regressor Model', 'Los Angeles Model', 'Orange Model', 'Ventura Model'], \n",
    "            y = [mean_model_validation, aggregate_model_validation, la_model_validation, orange_model_validation, ventura_model_validation], palette='flare')\n",
    "\n",
    "g = sns.barplot(x = ['Mean Baseline', 'Aggregate Poly-Regressor Model', 'LA only', 'Orange only', 'Ventura only'], \n",
    "            y = [mean_model_validation, aggregate_poly_model_validation, la_only_validate_RMSE, orange_only_validate_RMSE, ventura_only_validate_RMSE], palette='viridis', alpha =.75)\n",
    "g.set(ylim=(.0425,.06))\n",
    "\n",
    "plt.title('Individual models RMSE vs Aggregate separated out',size = 'x-large')\n",
    "plt.axhline(mean_model_validation, color = '#38a4fc')\n",
    "plt.ylabel('Model RSME of logerror', size = 'large')\n",
    "\n",
    "plt.show()"
   ]
  },
  {
   "cell_type": "markdown",
   "id": "0ca042ef",
   "metadata": {},
   "source": [
    "When comparing the aggregated model separated out by county we find that it actually does better at predicting the logerror than when using individual models. To me this seems to indicate that the overall model actually does a better job at predicting logerror. I will use the aggregate model to test and display results."
   ]
  },
  {
   "cell_type": "code",
   "execution_count": 40,
   "id": "7175e2d8",
   "metadata": {},
   "outputs": [
    {
     "name": "stdout",
     "output_type": "stream",
     "text": [
      "RMSE for Polynomial Regression\n",
      "Training/In-Sample:  0.05513954897390504 \n",
      "Validation/Out-of-Sample:  0.05449586899964525\n",
      "\n",
      "RMSE for Aggregate Polynomial Model \n",
      "Test/Out-of-Sample:  0.05460101363406295\n"
     ]
    }
   ],
   "source": [
    "# making the polynomial features to get a new set of features\n",
    "pf = PolynomialFeatures(degree=2, )\n",
    "\n",
    "# fit and transform X_train_scaled\n",
    "X_train_degree2 = pf.fit_transform(X_train)\n",
    "\n",
    "# transform X_validate_scaled & X_test_scaled\n",
    "X_validate_degree2 = pf.transform(X_validate)\n",
    "X_test_degree2 = pf.transform(X_test)\n",
    "\n",
    "# create the model\n",
    "lm2 = LinearRegression(normalize=True)\n",
    "\n",
    "#fit the model\n",
    "lm2.fit(X_train_degree2, y_train.logerror)\n",
    "\n",
    "# predict train\n",
    "y_train['logerror_pred_lm2'] = lm2.predict(X_train_degree2)\n",
    "\n",
    "# evaluate: rmse\n",
    "rmse_train = mean_squared_error(y_train.logerror, y_train.logerror_pred_lm2)**(1/2)\n",
    "\n",
    "# predict validate\n",
    "y_validate['logerror_pred_lm2'] = lm2.predict(X_validate_degree2)\n",
    "\n",
    "# evaluate: rmse\n",
    "rmse_validate = mean_squared_error(y_validate.logerror, y_validate.logerror_pred_lm2)**(1/2)\n",
    "\n",
    "print(\"RMSE for Polynomial Regression\\nTraining/In-Sample: \", rmse_train, \n",
    "      \"\\nValidation/Out-of-Sample: \", rmse_validate)\n",
    "# predict test\n",
    "y_test['logerror_pred_lm2'] = lm2.predict(X_test_degree2)\n",
    "y_test = y_test.drop(y_test.logerror_pred_lm2.idxmax())\n",
    "# evaluate: rmse\n",
    "rmse_test_aggregate = mean_squared_error(y_test.logerror, y_test.logerror_pred_lm2)**(1/2)\n",
    "print(\"\\nRMSE for Aggregate Polynomial Model \\nTest/Out-of-Sample: \", rmse_test_aggregate)"
   ]
  },
  {
   "cell_type": "markdown",
   "id": "abfa761d",
   "metadata": {},
   "source": [
    "The overall test results are fine. "
   ]
  },
  {
   "cell_type": "code",
   "execution_count": 46,
   "id": "f49835b2",
   "metadata": {},
   "outputs": [
    {
     "data": {
      "text/plain": [
       "0.05710762275848051"
      ]
     },
     "execution_count": 46,
     "metadata": {},
     "output_type": "execute_result"
    }
   ],
   "source": [
    "# This is just to predict the RMSE on validate for LA county\n",
    "la_only_test_RMSE = mean_squared_error(y_test[test_scaled.county =='los_angeles'].logerror, y_test[test_scaled.county =='los_angeles'].logerror_pred_lm2)**(1/2)\n",
    "la_only_test_RMSE"
   ]
  },
  {
   "cell_type": "code",
   "execution_count": 49,
   "id": "cfedaadd",
   "metadata": {},
   "outputs": [
    {
     "data": {
      "text/plain": [
       "0.05016914880634738"
      ]
     },
     "execution_count": 49,
     "metadata": {},
     "output_type": "execute_result"
    }
   ],
   "source": [
    "# This is just to predict the RMSE on validate for orange county\n",
    "orange_only_test_RMSE = mean_squared_error(y_test[test_scaled.county =='orange'].logerror, y_test[test_scaled.county =='orange'].logerror_pred_lm2)**(1/2)\n",
    "orange_only_test_RMSE"
   ]
  },
  {
   "cell_type": "code",
   "execution_count": 48,
   "id": "feed2a17",
   "metadata": {},
   "outputs": [
    {
     "data": {
      "text/plain": [
       "0.048740021993889764"
      ]
     },
     "execution_count": 48,
     "metadata": {},
     "output_type": "execute_result"
    }
   ],
   "source": [
    "# This is just to predict the RMSE on validate for ventura county\n",
    "ventura_only_test_RMSE = mean_squared_error(y_test[test_scaled.county =='ventura'].logerror, y_test[test_scaled.county =='ventura'].logerror_pred_lm2)**(1/2)\n",
    "ventura_only_test_RMSE"
   ]
  },
  {
   "cell_type": "code",
   "execution_count": 50,
   "id": "cde82c4f",
   "metadata": {},
   "outputs": [
    {
     "data": {
      "image/png": "[encoded data removed]",
      "text/plain": [
       "<Figure size 936x792 with 1 Axes>"
      ]
     },
     "metadata": {
      "needs_background": "light"
     },
     "output_type": "display_data"
    }
   ],
   "source": [
    "rmse_test_aggregate = mean_squared_error(y_test.logerror, y_test.logerror_pred_lm2)**(1/2)\n",
    "mean_model_validation = model_results[model_results.model == 'train_mean'].validate_RMSE.values[0]\n",
    "\n",
    "plt.figure(figsize=(13,11))\n",
    "g = sns.barplot(x = ['Mean Baseline', 'Aggregate Regressor Model', 'Los Angeles Model', 'Orange Model', 'Ventura Model'], \n",
    "            y = [mean_model_validation, aggregate_poly_model_validation, la_only_validate_RMSE, orange_only_validate_RMSE, ventura_only_validate_RMSE], palette='flare')\n",
    "\n",
    "g = sns.barplot(x = ['Mean Baseline', 'Aggregate Poly-Regressor Model', 'LA only', 'Orange only', 'Ventura only'], \n",
    "            y = [mean_model_validation, rmse_test_aggregate, la_only_test_RMSE, orange_only_test_RMSE, ventura_only_test_RMSE], palette='viridis', alpha =.75)\n",
    "g.set(ylim=(.0425,.06))\n",
    "\n",
    "plt.title('Individual models RMSE vs Aggregate separated out',size = 'x-large')\n",
    "plt.axhline(mean_model_validation, color = '#38a4fc')\n",
    "plt.ylabel('Model RSME of logerror', size = 'large')\n",
    "\n",
    "plt.show()"
   ]
  }
 ],
 "metadata": {
  "kernelspec": {
   "display_name": "Python 3 (ipykernel)",
   "language": "python",
   "name": "python3"
  },
  "language_info": {
   "codemirror_mode": {
    "name": "ipython",
    "version": 3
   },
   "file_extension": ".py",
   "mimetype": "text/x-python",
   "name": "python",
   "nbconvert_exporter": "python",
   "pygments_lexer": "ipython3",
   "version": "3.9.7"
  }
 },
 "nbformat": 4,
 "nbformat_minor": 5
}
