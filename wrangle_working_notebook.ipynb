{
 "cells": [
  {
   "cell_type": "code",
   "execution_count": 1,
   "id": "a9e79151",
   "metadata": {},
   "outputs": [],
   "source": [
    "import pandas as pd\n",
    "import numpy as np\n",
    "\n",
    "import env\n",
    "import os"
   ]
  },
  {
   "cell_type": "markdown",
   "id": "39e3b61c",
   "metadata": {},
   "source": [
    "# Acquire"
   ]
  },
  {
   "cell_type": "markdown",
   "id": "8f694443",
   "metadata": {},
   "source": [
    "Creating a function to pull in Zillow Data from SQL database"
   ]
  },
  {
   "cell_type": "code",
   "execution_count": 2,
   "id": "7dd35a3e",
   "metadata": {},
   "outputs": [],
   "source": [
    "def get_zillow(force_new=False):\n",
    "    '''\n",
    "    This function acquires the requisite zillow data from the Codeup SQL database and caches it locally it for future use in a csv \n",
    "    document; once the data is accessed the function then returns it as a dataframe.\n",
    "    \n",
    "    Arguments: force_new = Set to False by default; if set to true will force a pull from the SQL database and cache a local copy;\n",
    "    this will overwrite any previously locally cached copy.\n",
    "    \n",
    "    Returns: A zillow dataframe ready to use.\n",
    "    '''\n",
    "    filename = \"zillow.csv\"\n",
    "    query = '''\n",
    "            SELECT \n",
    "                p.parcelid,\n",
    "                airconditioningtypeid,\n",
    "                architecturalstyletypeid,\n",
    "                basementsqft,\n",
    "                bathroomcnt,\n",
    "                bedroomcnt,\n",
    "                buildingclasstypeid,\n",
    "                buildingqualitytypeid,\n",
    "                calculatedbathnbr,\n",
    "                decktypeid,\n",
    "                finishedfloor1squarefeet,\n",
    "                calculatedfinishedsquarefeet,\n",
    "                finishedsquarefeet12,\n",
    "                finishedsquarefeet13,\n",
    "                finishedsquarefeet15,\n",
    "                finishedsquarefeet50,\n",
    "                finishedsquarefeet6,\n",
    "                fips,\n",
    "                fireplacecnt,\n",
    "                fullbathcnt,\n",
    "                garagecarcnt,\n",
    "                garagetotalsqft,\n",
    "                hashottuborspa,\n",
    "                heatingorsystemtypeid,\n",
    "                latitude,\n",
    "                longitude,\n",
    "                lotsizesquarefeet,\n",
    "                poolcnt,\n",
    "                poolsizesum,\n",
    "                pooltypeid10,\n",
    "                pooltypeid2,\n",
    "                pooltypeid7,\n",
    "                propertycountylandusecode,\n",
    "                propertylandusetypeid,\n",
    "                propertyzoningdesc,\n",
    "                rawcensustractandblock,\n",
    "                regionidcity,\n",
    "                regionidcounty,\n",
    "                regionidneighborhood,\n",
    "                regionidzip,\n",
    "                roomcnt,\n",
    "                storytypeid,\n",
    "                threequarterbathnbr,\n",
    "                typeconstructiontypeid,\n",
    "                unitcnt,\n",
    "                yardbuildingsqft17,\n",
    "                yardbuildingsqft26,\n",
    "                yearbuilt,\n",
    "                numberofstories,\n",
    "                fireplaceflag,\n",
    "                structuretaxvaluedollarcnt,\n",
    "                taxvaluedollarcnt,\n",
    "                assessmentyear,\n",
    "                landtaxvaluedollarcnt,\n",
    "                taxamount,\n",
    "                taxdelinquencyflag,\n",
    "                taxdelinquencyyear,\n",
    "                censustractandblock,\n",
    "                propertylandusedesc,\n",
    "                logerror,\n",
    "                p.transactiondate\n",
    "            FROM\n",
    "                (SELECT predictions_2017.parcelid, \n",
    "                        MAX(transactiondate) AS max_date\n",
    "                FROM predictions_2017\n",
    "                GROUP\n",
    "                BY parcelid) AS m\n",
    "            JOIN predictions_2017 as p\n",
    "                ON p.parcelid = m.parcelid\n",
    "                AND p.transactiondate = m.max_date\n",
    "            JOIN\n",
    "                properties_2017 ON properties_2017.parcelid = p.parcelid\n",
    "            JOIN\n",
    "                propertylandusetype USING (propertylandusetypeid)\n",
    "            Where\n",
    "                propertylandusedesc = 'Single Family Residential' AND \n",
    "                transactiondate LIKE '2017-%%'\n",
    "            ;   \n",
    "        '''\n",
    "    url = env.get_db_url('zillow')\n",
    "    \n",
    "    if force_new == True:\n",
    "        df = pd.read_sql(query, url)\n",
    "        df.to_csv(filename, index = False)\n",
    "    else:\n",
    "        if os.path.isfile(filename):\n",
    "            return pd.read_csv(filename)\n",
    "        else:\n",
    "            df = pd.read_sql(query, url)\n",
    "            df.to_csv(filename, index = False)\n",
    "\n",
    "    return df "
   ]
  },
  {
   "cell_type": "code",
   "execution_count": 3,
   "id": "fd14b421",
   "metadata": {},
   "outputs": [],
   "source": [
    "df = get_zillow()"
   ]
  },
  {
   "cell_type": "code",
   "execution_count": 4,
   "id": "0ca013a3",
   "metadata": {},
   "outputs": [
    {
     "name": "stdout",
     "output_type": "stream",
     "text": [
      "<class 'pandas.core.frame.DataFrame'>\n",
      "RangeIndex: 52319 entries, 0 to 52318\n",
      "Data columns (total 61 columns):\n",
      " #   Column                        Non-Null Count  Dtype  \n",
      "---  ------                        --------------  -----  \n",
      " 0   parcelid                      52319 non-null  int64  \n",
      " 1   airconditioningtypeid         13615 non-null  float64\n",
      " 2   architecturalstyletypeid      70 non-null     float64\n",
      " 3   basementsqft                  47 non-null     float64\n",
      " 4   bathroomcnt                   52319 non-null  float64\n",
      " 5   bedroomcnt                    52319 non-null  float64\n",
      " 6   buildingclasstypeid           0 non-null      float64\n",
      " 7   buildingqualitytypeid         33654 non-null  float64\n",
      " 8   calculatedbathnbr             52184 non-null  float64\n",
      " 9   decktypeid                    389 non-null    float64\n",
      " 10  finishedfloor1squarefeet      4371 non-null   float64\n",
      " 11  calculatedfinishedsquarefeet  52238 non-null  float64\n",
      " 12  finishedsquarefeet12          52073 non-null  float64\n",
      " 13  finishedsquarefeet13          0 non-null      float64\n",
      " 14  finishedsquarefeet15          0 non-null      float64\n",
      " 15  finishedsquarefeet50          4371 non-null   float64\n",
      " 16  finishedsquarefeet6           165 non-null    float64\n",
      " 17  fips                          52319 non-null  float64\n",
      " 18  fireplacecnt                  7233 non-null   float64\n",
      " 19  fullbathcnt                   52184 non-null  float64\n",
      " 20  garagecarcnt                  17984 non-null  float64\n",
      " 21  garagetotalsqft               17984 non-null  float64\n",
      " 22  hashottuborspa                1514 non-null   float64\n",
      " 23  heatingorsystemtypeid         33849 non-null  float64\n",
      " 24  latitude                      52319 non-null  float64\n",
      " 25  longitude                     52319 non-null  float64\n",
      " 26  lotsizesquarefeet             51953 non-null  float64\n",
      " 27  poolcnt                       11077 non-null  float64\n",
      " 28  poolsizesum                   865 non-null    float64\n",
      " 29  pooltypeid10                  443 non-null    float64\n",
      " 30  pooltypeid2                   1071 non-null   float64\n",
      " 31  pooltypeid7                   9990 non-null   float64\n",
      " 32  propertycountylandusecode     52319 non-null  object \n",
      " 33  propertylandusetypeid         52319 non-null  float64\n",
      " 34  propertyzoningdesc            33761 non-null  object \n",
      " 35  rawcensustractandblock        52319 non-null  float64\n",
      " 36  regionidcity                  51283 non-null  float64\n",
      " 37  regionidcounty                52319 non-null  float64\n",
      " 38  regionidneighborhood          18981 non-null  float64\n",
      " 39  regionidzip                   52293 non-null  float64\n",
      " 40  roomcnt                       52319 non-null  float64\n",
      " 41  storytypeid                   47 non-null     float64\n",
      " 42  threequarterbathnbr           6717 non-null   float64\n",
      " 43  typeconstructiontypeid        76 non-null     float64\n",
      " 44  unitcnt                       33761 non-null  float64\n",
      " 45  yardbuildingsqft17            1935 non-null   float64\n",
      " 46  yardbuildingsqft26            63 non-null     float64\n",
      " 47  yearbuilt                     52205 non-null  float64\n",
      " 48  numberofstories               14532 non-null  float64\n",
      " 49  fireplaceflag                 81 non-null     float64\n",
      " 50  structuretaxvaluedollarcnt    52237 non-null  float64\n",
      " 51  taxvaluedollarcnt             52318 non-null  float64\n",
      " 52  assessmentyear                52319 non-null  float64\n",
      " 53  landtaxvaluedollarcnt         52318 non-null  float64\n",
      " 54  taxamount                     52315 non-null  float64\n",
      " 55  taxdelinquencyflag            2068 non-null   object \n",
      " 56  taxdelinquencyyear            2068 non-null   float64\n",
      " 57  censustractandblock           52198 non-null  float64\n",
      " 58  propertylandusedesc           52319 non-null  object \n",
      " 59  logerror                      52319 non-null  float64\n",
      " 60  transactiondate               52319 non-null  object \n",
      "dtypes: float64(55), int64(1), object(5)\n",
      "memory usage: 24.3+ MB\n"
     ]
    }
   ],
   "source": [
    "df.info()"
   ]
  },
  {
   "cell_type": "markdown",
   "id": "a182ba12",
   "metadata": {},
   "source": [
    "# Prepare"
   ]
  },
  {
   "cell_type": "markdown",
   "id": "1c36ccba",
   "metadata": {},
   "source": [
    "As seen above, lots of columns are full of nullswill need to write a function to remove columns will nulls above a certain threshold."
   ]
  },
  {
   "cell_type": "code",
   "execution_count": 5,
   "id": "ec73f10e",
   "metadata": {},
   "outputs": [],
   "source": [
    "def drop_undesired(df, prop_required_column = .95, prop_required_row = .95):\n",
    "    ''' This function takes in a dataframe and drops columns based on whether it meets the threshold for having values\n",
    "    in the column and not null values. It then drops any rows based on whether it meets the threshold for having enough\n",
    "    values in the row.\n",
    "    \n",
    "    Arguments: df - a dataframe\n",
    "                prop_required_column - the proportion of a given column that must be filled by values and not nulls\n",
    "                prop_required_row - the proportion of a given row that must be filled by values and not nulls\n",
    "    Returns: a dataframe which no longer has the rows and columns dropped that didn't meet the threshhold.\n",
    "    '''\n",
    "    for column in df.columns.tolist():\n",
    "        if 1-(df[column].isna().sum() / len(df)) < prop_required_column:\n",
    "            df = df.drop(column, axis = 1)\n",
    "            \n",
    "    for row in range(len(df)):\n",
    "        if 1-(df.loc[row].isna().sum() / len(df.loc[row])) < prop_required_row:\n",
    "            df = df.drop(row, axis=0)\n",
    "    return df"
   ]
  },
  {
   "cell_type": "code",
   "execution_count": 6,
   "id": "64aba1b8",
   "metadata": {},
   "outputs": [],
   "source": [
    "df = drop_undesired(df)"
   ]
  },
  {
   "cell_type": "code",
   "execution_count": 7,
   "id": "3c8dafb6",
   "metadata": {},
   "outputs": [
    {
     "name": "stdout",
     "output_type": "stream",
     "text": [
      "<class 'pandas.core.frame.DataFrame'>\n",
      "Int64Index: 52075 entries, 0 to 52318\n",
      "Data columns (total 28 columns):\n",
      " #   Column                        Non-Null Count  Dtype  \n",
      "---  ------                        --------------  -----  \n",
      " 0   parcelid                      52075 non-null  int64  \n",
      " 1   bathroomcnt                   52075 non-null  float64\n",
      " 2   bedroomcnt                    52075 non-null  float64\n",
      " 3   calculatedbathnbr             52075 non-null  float64\n",
      " 4   calculatedfinishedsquarefeet  52075 non-null  float64\n",
      " 5   finishedsquarefeet12          51936 non-null  float64\n",
      " 6   fips                          52075 non-null  float64\n",
      " 7   fullbathcnt                   52075 non-null  float64\n",
      " 8   latitude                      52075 non-null  float64\n",
      " 9   longitude                     52075 non-null  float64\n",
      " 10  lotsizesquarefeet             51798 non-null  float64\n",
      " 11  propertycountylandusecode     52075 non-null  object \n",
      " 12  propertylandusetypeid         52075 non-null  float64\n",
      " 13  rawcensustractandblock        52075 non-null  float64\n",
      " 14  regionidcity                  51106 non-null  float64\n",
      " 15  regionidcounty                52075 non-null  float64\n",
      " 16  regionidzip                   52074 non-null  float64\n",
      " 17  roomcnt                       52075 non-null  float64\n",
      " 18  yearbuilt                     52050 non-null  float64\n",
      " 19  structuretaxvaluedollarcnt    52018 non-null  float64\n",
      " 20  taxvaluedollarcnt             52075 non-null  float64\n",
      " 21  assessmentyear                52075 non-null  float64\n",
      " 22  landtaxvaluedollarcnt         52075 non-null  float64\n",
      " 23  taxamount                     52072 non-null  float64\n",
      " 24  censustractandblock           52030 non-null  float64\n",
      " 25  propertylandusedesc           52075 non-null  object \n",
      " 26  logerror                      52075 non-null  float64\n",
      " 27  transactiondate               52075 non-null  object \n",
      "dtypes: float64(24), int64(1), object(3)\n",
      "memory usage: 13.5+ MB\n"
     ]
    }
   ],
   "source": [
    "df.info()"
   ]
  },
  {
   "cell_type": "markdown",
   "id": "2f992952",
   "metadata": {},
   "source": [
    "Out of the original 61 columns I kept 28. And out of the orignal 52319 entries, I retain 52075."
   ]
  },
  {
   "cell_type": "markdown",
   "id": "612a10be",
   "metadata": {},
   "source": [
    "I can immeadiately drop parcelid as this is merely a number identifier and holds no useful information. And I can drop propertylandusedesc as well as all of those will be \"Single Family Residential\" as per my SQL query above. Further assessmentyear is all the same year 2016."
   ]
  },
  {
   "cell_type": "code",
   "execution_count": 8,
   "id": "a62d4cb9",
   "metadata": {},
   "outputs": [],
   "source": [
    "df.drop(columns=['parcelid', 'propertylandusedesc','assessmentyear'], inplace=True)"
   ]
  },
  {
   "cell_type": "markdown",
   "id": "8d1da763",
   "metadata": {},
   "source": [
    "I now need to determine what to do with the remaining nulls. I will findout how many each column has."
   ]
  },
  {
   "cell_type": "code",
   "execution_count": 9,
   "id": "9b8fd7b7",
   "metadata": {},
   "outputs": [
    {
     "data": {
      "text/plain": [
       "bathroomcnt                       0\n",
       "bedroomcnt                        0\n",
       "calculatedbathnbr                 0\n",
       "calculatedfinishedsquarefeet      0\n",
       "finishedsquarefeet12            139\n",
       "fips                              0\n",
       "fullbathcnt                       0\n",
       "latitude                          0\n",
       "longitude                         0\n",
       "lotsizesquarefeet               277\n",
       "propertycountylandusecode         0\n",
       "propertylandusetypeid             0\n",
       "rawcensustractandblock            0\n",
       "regionidcity                    969\n",
       "regionidcounty                    0\n",
       "regionidzip                       1\n",
       "roomcnt                           0\n",
       "yearbuilt                        25\n",
       "structuretaxvaluedollarcnt       57\n",
       "taxvaluedollarcnt                 0\n",
       "landtaxvaluedollarcnt             0\n",
       "taxamount                         3\n",
       "censustractandblock              45\n",
       "logerror                          0\n",
       "transactiondate                   0\n",
       "dtype: int64"
      ]
     },
     "execution_count": 9,
     "metadata": {},
     "output_type": "execute_result"
    }
   ],
   "source": [
    "df.isna().sum()"
   ]
  },
  {
   "cell_type": "code",
   "execution_count": 10,
   "id": "0ffadb73",
   "metadata": {},
   "outputs": [],
   "source": [
    "columns_to_investigate = ['finishedsquarefeet12','lotsizesquarefeet', 'regionidcity', 'structuretaxvaluedollarcnt', 'yearbuilt','censustractandblock','taxamount']"
   ]
  },
  {
   "cell_type": "code",
   "execution_count": 11,
   "id": "5e381f3d",
   "metadata": {},
   "outputs": [
    {
     "data": {
      "text/html": [
       "<div>\n",
       "<style scoped>\n",
       "    .dataframe tbody tr th:only-of-type {\n",
       "        vertical-align: middle;\n",
       "    }\n",
       "\n",
       "    .dataframe tbody tr th {\n",
       "        vertical-align: top;\n",
       "    }\n",
       "\n",
       "    .dataframe thead th {\n",
       "        text-align: right;\n",
       "    }\n",
       "</style>\n",
       "<table border=\"1\" class=\"dataframe\">\n",
       "  <thead>\n",
       "    <tr style=\"text-align: right;\">\n",
       "      <th></th>\n",
       "      <th>finishedsquarefeet12</th>\n",
       "      <th>calculatedfinishedsquarefeet</th>\n",
       "    </tr>\n",
       "  </thead>\n",
       "  <tbody>\n",
       "    <tr>\n",
       "      <th>0</th>\n",
       "      <td>3100.0</td>\n",
       "      <td>3100.0</td>\n",
       "    </tr>\n",
       "    <tr>\n",
       "      <th>1</th>\n",
       "      <td>1465.0</td>\n",
       "      <td>1465.0</td>\n",
       "    </tr>\n",
       "    <tr>\n",
       "      <th>2</th>\n",
       "      <td>1243.0</td>\n",
       "      <td>1243.0</td>\n",
       "    </tr>\n",
       "    <tr>\n",
       "      <th>3</th>\n",
       "      <td>2376.0</td>\n",
       "      <td>2376.0</td>\n",
       "    </tr>\n",
       "    <tr>\n",
       "      <th>4</th>\n",
       "      <td>2962.0</td>\n",
       "      <td>2962.0</td>\n",
       "    </tr>\n",
       "    <tr>\n",
       "      <th>...</th>\n",
       "      <td>...</td>\n",
       "      <td>...</td>\n",
       "    </tr>\n",
       "    <tr>\n",
       "      <th>52314</th>\n",
       "      <td>1633.0</td>\n",
       "      <td>1633.0</td>\n",
       "    </tr>\n",
       "    <tr>\n",
       "      <th>52315</th>\n",
       "      <td>1286.0</td>\n",
       "      <td>1286.0</td>\n",
       "    </tr>\n",
       "    <tr>\n",
       "      <th>52316</th>\n",
       "      <td>1612.0</td>\n",
       "      <td>1612.0</td>\n",
       "    </tr>\n",
       "    <tr>\n",
       "      <th>52317</th>\n",
       "      <td>1032.0</td>\n",
       "      <td>1032.0</td>\n",
       "    </tr>\n",
       "    <tr>\n",
       "      <th>52318</th>\n",
       "      <td>1762.0</td>\n",
       "      <td>1762.0</td>\n",
       "    </tr>\n",
       "  </tbody>\n",
       "</table>\n",
       "<p>52075 rows × 2 columns</p>\n",
       "</div>"
      ],
      "text/plain": [
       "       finishedsquarefeet12  calculatedfinishedsquarefeet\n",
       "0                    3100.0                        3100.0\n",
       "1                    1465.0                        1465.0\n",
       "2                    1243.0                        1243.0\n",
       "3                    2376.0                        2376.0\n",
       "4                    2962.0                        2962.0\n",
       "...                     ...                           ...\n",
       "52314                1633.0                        1633.0\n",
       "52315                1286.0                        1286.0\n",
       "52316                1612.0                        1612.0\n",
       "52317                1032.0                        1032.0\n",
       "52318                1762.0                        1762.0\n",
       "\n",
       "[52075 rows x 2 columns]"
      ]
     },
     "execution_count": 11,
     "metadata": {},
     "output_type": "execute_result"
    }
   ],
   "source": [
    "df[['finishedsquarefeet12','calculatedfinishedsquarefeet']]"
   ]
  },
  {
   "cell_type": "code",
   "execution_count": 12,
   "id": "0af4756e",
   "metadata": {},
   "outputs": [
    {
     "name": "stdout",
     "output_type": "stream",
     "text": [
      "<class 'pandas.core.frame.DataFrame'>\n",
      "Int64Index: 139 entries, 411 to 51635\n",
      "Data columns (total 25 columns):\n",
      " #   Column                        Non-Null Count  Dtype  \n",
      "---  ------                        --------------  -----  \n",
      " 0   bathroomcnt                   139 non-null    float64\n",
      " 1   bedroomcnt                    139 non-null    float64\n",
      " 2   calculatedbathnbr             139 non-null    float64\n",
      " 3   calculatedfinishedsquarefeet  139 non-null    float64\n",
      " 4   finishedsquarefeet12          0 non-null      float64\n",
      " 5   fips                          139 non-null    float64\n",
      " 6   fullbathcnt                   139 non-null    float64\n",
      " 7   latitude                      139 non-null    float64\n",
      " 8   longitude                     139 non-null    float64\n",
      " 9   lotsizesquarefeet             139 non-null    float64\n",
      " 10  propertycountylandusecode     139 non-null    object \n",
      " 11  propertylandusetypeid         139 non-null    float64\n",
      " 12  rawcensustractandblock        139 non-null    float64\n",
      " 13  regionidcity                  139 non-null    float64\n",
      " 14  regionidcounty                139 non-null    float64\n",
      " 15  regionidzip                   139 non-null    float64\n",
      " 16  roomcnt                       139 non-null    float64\n",
      " 17  yearbuilt                     139 non-null    float64\n",
      " 18  structuretaxvaluedollarcnt    139 non-null    float64\n",
      " 19  taxvaluedollarcnt             139 non-null    float64\n",
      " 20  landtaxvaluedollarcnt         139 non-null    float64\n",
      " 21  taxamount                     139 non-null    float64\n",
      " 22  censustractandblock           139 non-null    float64\n",
      " 23  logerror                      139 non-null    float64\n",
      " 24  transactiondate               139 non-null    object \n",
      "dtypes: float64(23), object(2)\n",
      "memory usage: 28.2+ KB\n"
     ]
    }
   ],
   "source": [
    "df[df.finishedsquarefeet12 != df.calculatedfinishedsquarefeet].info()"
   ]
  },
  {
   "cell_type": "markdown",
   "id": "9aecc21f",
   "metadata": {},
   "source": [
    "It seems here that finishedsquarefeet12 is the same as calculatedfinishedsquarefeet in all but 139 values; in those 139 cases the values are all nulls. This tells me the finishedsquarefeet12 column is useless and I can drop it."
   ]
  },
  {
   "cell_type": "code",
   "execution_count": 13,
   "id": "a27d11a2",
   "metadata": {},
   "outputs": [],
   "source": [
    "df.drop('finishedsquarefeet12', axis =1, inplace=True)\n"
   ]
  },
  {
   "cell_type": "code",
   "execution_count": 14,
   "id": "e1cf1f4c",
   "metadata": {},
   "outputs": [
    {
     "name": "stdout",
     "output_type": "stream",
     "text": [
      "<class 'pandas.core.frame.DataFrame'>\n",
      "Int64Index: 52075 entries, 0 to 52318\n",
      "Data columns (total 24 columns):\n",
      " #   Column                        Non-Null Count  Dtype  \n",
      "---  ------                        --------------  -----  \n",
      " 0   bathroomcnt                   52075 non-null  float64\n",
      " 1   bedroomcnt                    52075 non-null  float64\n",
      " 2   calculatedbathnbr             52075 non-null  float64\n",
      " 3   calculatedfinishedsquarefeet  52075 non-null  float64\n",
      " 4   fips                          52075 non-null  float64\n",
      " 5   fullbathcnt                   52075 non-null  float64\n",
      " 6   latitude                      52075 non-null  float64\n",
      " 7   longitude                     52075 non-null  float64\n",
      " 8   lotsizesquarefeet             51798 non-null  float64\n",
      " 9   propertycountylandusecode     52075 non-null  object \n",
      " 10  propertylandusetypeid         52075 non-null  float64\n",
      " 11  rawcensustractandblock        52075 non-null  float64\n",
      " 12  regionidcity                  51106 non-null  float64\n",
      " 13  regionidcounty                52075 non-null  float64\n",
      " 14  regionidzip                   52074 non-null  float64\n",
      " 15  roomcnt                       52075 non-null  float64\n",
      " 16  yearbuilt                     52050 non-null  float64\n",
      " 17  structuretaxvaluedollarcnt    52018 non-null  float64\n",
      " 18  taxvaluedollarcnt             52075 non-null  float64\n",
      " 19  landtaxvaluedollarcnt         52075 non-null  float64\n",
      " 20  taxamount                     52072 non-null  float64\n",
      " 21  censustractandblock           52030 non-null  float64\n",
      " 22  logerror                      52075 non-null  float64\n",
      " 23  transactiondate               52075 non-null  object \n",
      "dtypes: float64(22), object(2)\n",
      "memory usage: 11.9+ MB\n"
     ]
    }
   ],
   "source": [
    "df.info()"
   ]
  },
  {
   "cell_type": "code",
   "execution_count": 15,
   "id": "8038850e",
   "metadata": {},
   "outputs": [
    {
     "data": {
      "text/html": [
       "<div>\n",
       "<style scoped>\n",
       "    .dataframe tbody tr th:only-of-type {\n",
       "        vertical-align: middle;\n",
       "    }\n",
       "\n",
       "    .dataframe tbody tr th {\n",
       "        vertical-align: top;\n",
       "    }\n",
       "\n",
       "    .dataframe thead th {\n",
       "        text-align: right;\n",
       "    }\n",
       "</style>\n",
       "<table border=\"1\" class=\"dataframe\">\n",
       "  <thead>\n",
       "    <tr style=\"text-align: right;\">\n",
       "      <th></th>\n",
       "      <th>bathroomcnt</th>\n",
       "      <th>bedroomcnt</th>\n",
       "      <th>calculatedbathnbr</th>\n",
       "      <th>calculatedfinishedsquarefeet</th>\n",
       "      <th>fips</th>\n",
       "      <th>fullbathcnt</th>\n",
       "      <th>latitude</th>\n",
       "      <th>longitude</th>\n",
       "      <th>lotsizesquarefeet</th>\n",
       "      <th>propertylandusetypeid</th>\n",
       "      <th>...</th>\n",
       "      <th>regionidcounty</th>\n",
       "      <th>regionidzip</th>\n",
       "      <th>roomcnt</th>\n",
       "      <th>yearbuilt</th>\n",
       "      <th>structuretaxvaluedollarcnt</th>\n",
       "      <th>taxvaluedollarcnt</th>\n",
       "      <th>landtaxvaluedollarcnt</th>\n",
       "      <th>taxamount</th>\n",
       "      <th>censustractandblock</th>\n",
       "      <th>logerror</th>\n",
       "    </tr>\n",
       "  </thead>\n",
       "  <tbody>\n",
       "    <tr>\n",
       "      <th>count</th>\n",
       "      <td>277.000000</td>\n",
       "      <td>277.000000</td>\n",
       "      <td>277.000000</td>\n",
       "      <td>277.000000</td>\n",
       "      <td>277.000000</td>\n",
       "      <td>277.000000</td>\n",
       "      <td>2.770000e+02</td>\n",
       "      <td>2.770000e+02</td>\n",
       "      <td>0.0</td>\n",
       "      <td>277.0</td>\n",
       "      <td>...</td>\n",
       "      <td>277.000000</td>\n",
       "      <td>277.000000</td>\n",
       "      <td>277.000000</td>\n",
       "      <td>277.000000</td>\n",
       "      <td>2.770000e+02</td>\n",
       "      <td>2.770000e+02</td>\n",
       "      <td>2.770000e+02</td>\n",
       "      <td>277.000000</td>\n",
       "      <td>2.770000e+02</td>\n",
       "      <td>277.000000</td>\n",
       "    </tr>\n",
       "    <tr>\n",
       "      <th>mean</th>\n",
       "      <td>3.016245</td>\n",
       "      <td>3.314079</td>\n",
       "      <td>3.016245</td>\n",
       "      <td>2424.790614</td>\n",
       "      <td>6040.256318</td>\n",
       "      <td>2.996390</td>\n",
       "      <td>3.411227e+07</td>\n",
       "      <td>-1.181990e+08</td>\n",
       "      <td>NaN</td>\n",
       "      <td>261.0</td>\n",
       "      <td>...</td>\n",
       "      <td>2832.353791</td>\n",
       "      <td>96479.162455</td>\n",
       "      <td>0.418773</td>\n",
       "      <td>1980.805054</td>\n",
       "      <td>3.469879e+05</td>\n",
       "      <td>9.313854e+05</td>\n",
       "      <td>5.843975e+05</td>\n",
       "      <td>11849.395054</td>\n",
       "      <td>6.040941e+13</td>\n",
       "      <td>0.028932</td>\n",
       "    </tr>\n",
       "    <tr>\n",
       "      <th>std</th>\n",
       "      <td>1.723323</td>\n",
       "      <td>1.495979</td>\n",
       "      <td>1.723323</td>\n",
       "      <td>1721.660908</td>\n",
       "      <td>7.826655</td>\n",
       "      <td>1.739353</td>\n",
       "      <td>3.137970e+05</td>\n",
       "      <td>2.645224e+05</td>\n",
       "      <td>NaN</td>\n",
       "      <td>0.0</td>\n",
       "      <td>...</td>\n",
       "      <td>645.699030</td>\n",
       "      <td>409.799508</td>\n",
       "      <td>1.281731</td>\n",
       "      <td>33.929780</td>\n",
       "      <td>3.762735e+05</td>\n",
       "      <td>3.020443e+06</td>\n",
       "      <td>2.968346e+06</td>\n",
       "      <td>36010.193016</td>\n",
       "      <td>8.086563e+10</td>\n",
       "      <td>0.187082</td>\n",
       "    </tr>\n",
       "    <tr>\n",
       "      <th>min</th>\n",
       "      <td>1.000000</td>\n",
       "      <td>0.000000</td>\n",
       "      <td>1.000000</td>\n",
       "      <td>470.000000</td>\n",
       "      <td>6037.000000</td>\n",
       "      <td>1.000000</td>\n",
       "      <td>3.334062e+07</td>\n",
       "      <td>-1.187729e+08</td>\n",
       "      <td>NaN</td>\n",
       "      <td>261.0</td>\n",
       "      <td>...</td>\n",
       "      <td>1286.000000</td>\n",
       "      <td>95983.000000</td>\n",
       "      <td>0.000000</td>\n",
       "      <td>1885.000000</td>\n",
       "      <td>1.015000e+03</td>\n",
       "      <td>5.600000e+04</td>\n",
       "      <td>1.120000e+04</td>\n",
       "      <td>835.820000</td>\n",
       "      <td>6.037101e+13</td>\n",
       "      <td>-0.732328</td>\n",
       "    </tr>\n",
       "    <tr>\n",
       "      <th>25%</th>\n",
       "      <td>2.000000</td>\n",
       "      <td>2.000000</td>\n",
       "      <td>2.000000</td>\n",
       "      <td>1244.000000</td>\n",
       "      <td>6037.000000</td>\n",
       "      <td>2.000000</td>\n",
       "      <td>3.396847e+07</td>\n",
       "      <td>-1.184113e+08</td>\n",
       "      <td>NaN</td>\n",
       "      <td>261.0</td>\n",
       "      <td>...</td>\n",
       "      <td>3101.000000</td>\n",
       "      <td>96122.000000</td>\n",
       "      <td>0.000000</td>\n",
       "      <td>1956.000000</td>\n",
       "      <td>9.112300e+04</td>\n",
       "      <td>2.323660e+05</td>\n",
       "      <td>1.005620e+05</td>\n",
       "      <td>3039.440000</td>\n",
       "      <td>6.037213e+13</td>\n",
       "      <td>-0.019260</td>\n",
       "    </tr>\n",
       "    <tr>\n",
       "      <th>50%</th>\n",
       "      <td>3.000000</td>\n",
       "      <td>3.000000</td>\n",
       "      <td>3.000000</td>\n",
       "      <td>2110.000000</td>\n",
       "      <td>6037.000000</td>\n",
       "      <td>3.000000</td>\n",
       "      <td>3.410265e+07</td>\n",
       "      <td>-1.182490e+08</td>\n",
       "      <td>NaN</td>\n",
       "      <td>261.0</td>\n",
       "      <td>...</td>\n",
       "      <td>3101.000000</td>\n",
       "      <td>96375.000000</td>\n",
       "      <td>0.000000</td>\n",
       "      <td>1990.000000</td>\n",
       "      <td>2.485280e+05</td>\n",
       "      <td>4.941090e+05</td>\n",
       "      <td>2.366340e+05</td>\n",
       "      <td>6939.580000</td>\n",
       "      <td>6.037550e+13</td>\n",
       "      <td>0.016173</td>\n",
       "    </tr>\n",
       "    <tr>\n",
       "      <th>75%</th>\n",
       "      <td>4.000000</td>\n",
       "      <td>4.000000</td>\n",
       "      <td>4.000000</td>\n",
       "      <td>3054.000000</td>\n",
       "      <td>6037.000000</td>\n",
       "      <td>4.000000</td>\n",
       "      <td>3.431196e+07</td>\n",
       "      <td>-1.180090e+08</td>\n",
       "      <td>NaN</td>\n",
       "      <td>261.0</td>\n",
       "      <td>...</td>\n",
       "      <td>3101.000000</td>\n",
       "      <td>96531.000000</td>\n",
       "      <td>0.000000</td>\n",
       "      <td>2011.000000</td>\n",
       "      <td>4.244120e+05</td>\n",
       "      <td>9.230300e+05</td>\n",
       "      <td>4.525000e+05</td>\n",
       "      <td>12629.340000</td>\n",
       "      <td>6.037920e+13</td>\n",
       "      <td>0.048829</td>\n",
       "    </tr>\n",
       "    <tr>\n",
       "      <th>max</th>\n",
       "      <td>18.000000</td>\n",
       "      <td>14.000000</td>\n",
       "      <td>18.000000</td>\n",
       "      <td>18654.000000</td>\n",
       "      <td>6059.000000</td>\n",
       "      <td>18.000000</td>\n",
       "      <td>3.471825e+07</td>\n",
       "      <td>-1.176441e+08</td>\n",
       "      <td>NaN</td>\n",
       "      <td>261.0</td>\n",
       "      <td>...</td>\n",
       "      <td>3101.000000</td>\n",
       "      <td>97330.000000</td>\n",
       "      <td>7.000000</td>\n",
       "      <td>2015.000000</td>\n",
       "      <td>2.377173e+06</td>\n",
       "      <td>4.906124e+07</td>\n",
       "      <td>4.895220e+07</td>\n",
       "      <td>586639.300000</td>\n",
       "      <td>6.071002e+13</td>\n",
       "      <td>2.348417</td>\n",
       "    </tr>\n",
       "  </tbody>\n",
       "</table>\n",
       "<p>8 rows × 22 columns</p>\n",
       "</div>"
      ],
      "text/plain": [
       "       bathroomcnt  bedroomcnt  calculatedbathnbr  \\\n",
       "count   277.000000  277.000000         277.000000   \n",
       "mean      3.016245    3.314079           3.016245   \n",
       "std       1.723323    1.495979           1.723323   \n",
       "min       1.000000    0.000000           1.000000   \n",
       "25%       2.000000    2.000000           2.000000   \n",
       "50%       3.000000    3.000000           3.000000   \n",
       "75%       4.000000    4.000000           4.000000   \n",
       "max      18.000000   14.000000          18.000000   \n",
       "\n",
       "       calculatedfinishedsquarefeet         fips  fullbathcnt      latitude  \\\n",
       "count                    277.000000   277.000000   277.000000  2.770000e+02   \n",
       "mean                    2424.790614  6040.256318     2.996390  3.411227e+07   \n",
       "std                     1721.660908     7.826655     1.739353  3.137970e+05   \n",
       "min                      470.000000  6037.000000     1.000000  3.334062e+07   \n",
       "25%                     1244.000000  6037.000000     2.000000  3.396847e+07   \n",
       "50%                     2110.000000  6037.000000     3.000000  3.410265e+07   \n",
       "75%                     3054.000000  6037.000000     4.000000  3.431196e+07   \n",
       "max                    18654.000000  6059.000000    18.000000  3.471825e+07   \n",
       "\n",
       "          longitude  lotsizesquarefeet  propertylandusetypeid  ...  \\\n",
       "count  2.770000e+02                0.0                  277.0  ...   \n",
       "mean  -1.181990e+08                NaN                  261.0  ...   \n",
       "std    2.645224e+05                NaN                    0.0  ...   \n",
       "min   -1.187729e+08                NaN                  261.0  ...   \n",
       "25%   -1.184113e+08                NaN                  261.0  ...   \n",
       "50%   -1.182490e+08                NaN                  261.0  ...   \n",
       "75%   -1.180090e+08                NaN                  261.0  ...   \n",
       "max   -1.176441e+08                NaN                  261.0  ...   \n",
       "\n",
       "       regionidcounty   regionidzip     roomcnt    yearbuilt  \\\n",
       "count      277.000000    277.000000  277.000000   277.000000   \n",
       "mean      2832.353791  96479.162455    0.418773  1980.805054   \n",
       "std        645.699030    409.799508    1.281731    33.929780   \n",
       "min       1286.000000  95983.000000    0.000000  1885.000000   \n",
       "25%       3101.000000  96122.000000    0.000000  1956.000000   \n",
       "50%       3101.000000  96375.000000    0.000000  1990.000000   \n",
       "75%       3101.000000  96531.000000    0.000000  2011.000000   \n",
       "max       3101.000000  97330.000000    7.000000  2015.000000   \n",
       "\n",
       "       structuretaxvaluedollarcnt  taxvaluedollarcnt  landtaxvaluedollarcnt  \\\n",
       "count                2.770000e+02       2.770000e+02           2.770000e+02   \n",
       "mean                 3.469879e+05       9.313854e+05           5.843975e+05   \n",
       "std                  3.762735e+05       3.020443e+06           2.968346e+06   \n",
       "min                  1.015000e+03       5.600000e+04           1.120000e+04   \n",
       "25%                  9.112300e+04       2.323660e+05           1.005620e+05   \n",
       "50%                  2.485280e+05       4.941090e+05           2.366340e+05   \n",
       "75%                  4.244120e+05       9.230300e+05           4.525000e+05   \n",
       "max                  2.377173e+06       4.906124e+07           4.895220e+07   \n",
       "\n",
       "           taxamount  censustractandblock    logerror  \n",
       "count     277.000000         2.770000e+02  277.000000  \n",
       "mean    11849.395054         6.040941e+13    0.028932  \n",
       "std     36010.193016         8.086563e+10    0.187082  \n",
       "min       835.820000         6.037101e+13   -0.732328  \n",
       "25%      3039.440000         6.037213e+13   -0.019260  \n",
       "50%      6939.580000         6.037550e+13    0.016173  \n",
       "75%     12629.340000         6.037920e+13    0.048829  \n",
       "max    586639.300000         6.071002e+13    2.348417  \n",
       "\n",
       "[8 rows x 22 columns]"
      ]
     },
     "execution_count": 15,
     "metadata": {},
     "output_type": "execute_result"
    }
   ],
   "source": [
    "df[df.lotsizesquarefeet.isna()].describe()"
   ]
  },
  {
   "cell_type": "markdown",
   "id": "c020790b",
   "metadata": {},
   "source": [
    "No discernable pattern so I will simply drop all rows with nulls as this column is to valuable a feature to just throw away."
   ]
  },
  {
   "cell_type": "code",
   "execution_count": 16,
   "id": "53cf786a",
   "metadata": {},
   "outputs": [],
   "source": [
    "# df.drop(df.lotsizesquarefeet.isna(), axis=0)"
   ]
  },
  {
   "cell_type": "code",
   "execution_count": 17,
   "id": "9a414e51",
   "metadata": {},
   "outputs": [],
   "source": [
    "df = df[df.lotsizesquarefeet.notnull()]"
   ]
  },
  {
   "cell_type": "code",
   "execution_count": 18,
   "id": "40fa5686",
   "metadata": {},
   "outputs": [
    {
     "name": "stdout",
     "output_type": "stream",
     "text": [
      "<class 'pandas.core.frame.DataFrame'>\n",
      "Int64Index: 51798 entries, 0 to 52318\n",
      "Data columns (total 24 columns):\n",
      " #   Column                        Non-Null Count  Dtype  \n",
      "---  ------                        --------------  -----  \n",
      " 0   bathroomcnt                   51798 non-null  float64\n",
      " 1   bedroomcnt                    51798 non-null  float64\n",
      " 2   calculatedbathnbr             51798 non-null  float64\n",
      " 3   calculatedfinishedsquarefeet  51798 non-null  float64\n",
      " 4   fips                          51798 non-null  float64\n",
      " 5   fullbathcnt                   51798 non-null  float64\n",
      " 6   latitude                      51798 non-null  float64\n",
      " 7   longitude                     51798 non-null  float64\n",
      " 8   lotsizesquarefeet             51798 non-null  float64\n",
      " 9   propertycountylandusecode     51798 non-null  object \n",
      " 10  propertylandusetypeid         51798 non-null  float64\n",
      " 11  rawcensustractandblock        51798 non-null  float64\n",
      " 12  regionidcity                  50829 non-null  float64\n",
      " 13  regionidcounty                51798 non-null  float64\n",
      " 14  regionidzip                   51797 non-null  float64\n",
      " 15  roomcnt                       51798 non-null  float64\n",
      " 16  yearbuilt                     51773 non-null  float64\n",
      " 17  structuretaxvaluedollarcnt    51741 non-null  float64\n",
      " 18  taxvaluedollarcnt             51798 non-null  float64\n",
      " 19  landtaxvaluedollarcnt         51798 non-null  float64\n",
      " 20  taxamount                     51795 non-null  float64\n",
      " 21  censustractandblock           51753 non-null  float64\n",
      " 22  logerror                      51798 non-null  float64\n",
      " 23  transactiondate               51798 non-null  object \n",
      "dtypes: float64(22), object(2)\n",
      "memory usage: 9.9+ MB\n"
     ]
    }
   ],
   "source": [
    "df.info()"
   ]
  },
  {
   "cell_type": "code",
   "execution_count": 19,
   "id": "c75f4513",
   "metadata": {},
   "outputs": [
    {
     "data": {
      "text/plain": [
       "bathroomcnt                       0\n",
       "bedroomcnt                        0\n",
       "calculatedbathnbr                 0\n",
       "calculatedfinishedsquarefeet      0\n",
       "fips                              0\n",
       "fullbathcnt                       0\n",
       "latitude                          0\n",
       "longitude                         0\n",
       "lotsizesquarefeet                 0\n",
       "propertycountylandusecode         0\n",
       "propertylandusetypeid             0\n",
       "rawcensustractandblock            0\n",
       "regionidcity                    969\n",
       "regionidcounty                    0\n",
       "regionidzip                       1\n",
       "roomcnt                           0\n",
       "yearbuilt                        25\n",
       "structuretaxvaluedollarcnt       57\n",
       "taxvaluedollarcnt                 0\n",
       "landtaxvaluedollarcnt             0\n",
       "taxamount                         3\n",
       "censustractandblock              45\n",
       "logerror                          0\n",
       "transactiondate                   0\n",
       "dtype: int64"
      ]
     },
     "execution_count": 19,
     "metadata": {},
     "output_type": "execute_result"
    }
   ],
   "source": [
    "df.isna().sum()"
   ]
  },
  {
   "cell_type": "markdown",
   "id": "8e1f0c2d",
   "metadata": {},
   "source": [
    "Since the value of nulls yearbuilt and structuretaxvaluedollarcnt, taxamount are all so small, I'm going to go ahead and drop those."
   ]
  },
  {
   "cell_type": "code",
   "execution_count": 20,
   "id": "691c53be",
   "metadata": {},
   "outputs": [],
   "source": [
    "df = df[df.yearbuilt.notnull() & df.taxamount.notnull() & df.structuretaxvaluedollarcnt.notnull()]"
   ]
  },
  {
   "cell_type": "code",
   "execution_count": 21,
   "id": "6c1553fe",
   "metadata": {},
   "outputs": [
    {
     "data": {
      "text/plain": [
       "bathroomcnt                       0\n",
       "bedroomcnt                        0\n",
       "calculatedbathnbr                 0\n",
       "calculatedfinishedsquarefeet      0\n",
       "fips                              0\n",
       "fullbathcnt                       0\n",
       "latitude                          0\n",
       "longitude                         0\n",
       "lotsizesquarefeet                 0\n",
       "propertycountylandusecode         0\n",
       "propertylandusetypeid             0\n",
       "rawcensustractandblock            0\n",
       "regionidcity                    969\n",
       "regionidcounty                    0\n",
       "regionidzip                       1\n",
       "roomcnt                           0\n",
       "yearbuilt                         0\n",
       "structuretaxvaluedollarcnt        0\n",
       "taxvaluedollarcnt                 0\n",
       "landtaxvaluedollarcnt             0\n",
       "taxamount                         0\n",
       "censustractandblock              45\n",
       "logerror                          0\n",
       "transactiondate                   0\n",
       "dtype: int64"
      ]
     },
     "execution_count": 21,
     "metadata": {},
     "output_type": "execute_result"
    }
   ],
   "source": [
    "df.isna().sum()"
   ]
  },
  {
   "cell_type": "markdown",
   "id": "98d586a5",
   "metadata": {},
   "source": [
    "I now want to explore the interaction of fips, rgionidcity, regionidcounty, and regionidzip to see if I can understand what regionidcity is telling me and whether I should drop the nulls or drop the entire column."
   ]
  },
  {
   "cell_type": "code",
   "execution_count": 22,
   "id": "2493c93e",
   "metadata": {},
   "outputs": [
    {
     "data": {
      "text/html": [
       "<div>\n",
       "<style scoped>\n",
       "    .dataframe tbody tr th:only-of-type {\n",
       "        vertical-align: middle;\n",
       "    }\n",
       "\n",
       "    .dataframe tbody tr th {\n",
       "        vertical-align: top;\n",
       "    }\n",
       "\n",
       "    .dataframe thead th {\n",
       "        text-align: right;\n",
       "    }\n",
       "</style>\n",
       "<table border=\"1\" class=\"dataframe\">\n",
       "  <thead>\n",
       "    <tr style=\"text-align: right;\">\n",
       "      <th></th>\n",
       "      <th>fips</th>\n",
       "      <th>regionidcity</th>\n",
       "      <th>regionidcounty</th>\n",
       "      <th>regionidzip</th>\n",
       "    </tr>\n",
       "  </thead>\n",
       "  <tbody>\n",
       "    <tr>\n",
       "      <th>0</th>\n",
       "      <td>6059.0</td>\n",
       "      <td>53571.0</td>\n",
       "      <td>1286.0</td>\n",
       "      <td>96978.0</td>\n",
       "    </tr>\n",
       "    <tr>\n",
       "      <th>1</th>\n",
       "      <td>6111.0</td>\n",
       "      <td>13091.0</td>\n",
       "      <td>2061.0</td>\n",
       "      <td>97099.0</td>\n",
       "    </tr>\n",
       "    <tr>\n",
       "      <th>2</th>\n",
       "      <td>6059.0</td>\n",
       "      <td>21412.0</td>\n",
       "      <td>1286.0</td>\n",
       "      <td>97078.0</td>\n",
       "    </tr>\n",
       "    <tr>\n",
       "      <th>3</th>\n",
       "      <td>6037.0</td>\n",
       "      <td>396551.0</td>\n",
       "      <td>3101.0</td>\n",
       "      <td>96330.0</td>\n",
       "    </tr>\n",
       "    <tr>\n",
       "      <th>4</th>\n",
       "      <td>6037.0</td>\n",
       "      <td>47019.0</td>\n",
       "      <td>3101.0</td>\n",
       "      <td>96293.0</td>\n",
       "    </tr>\n",
       "    <tr>\n",
       "      <th>...</th>\n",
       "      <td>...</td>\n",
       "      <td>...</td>\n",
       "      <td>...</td>\n",
       "      <td>...</td>\n",
       "    </tr>\n",
       "    <tr>\n",
       "      <th>52314</th>\n",
       "      <td>6037.0</td>\n",
       "      <td>30267.0</td>\n",
       "      <td>3101.0</td>\n",
       "      <td>96204.0</td>\n",
       "    </tr>\n",
       "    <tr>\n",
       "      <th>52315</th>\n",
       "      <td>6037.0</td>\n",
       "      <td>12447.0</td>\n",
       "      <td>3101.0</td>\n",
       "      <td>96284.0</td>\n",
       "    </tr>\n",
       "    <tr>\n",
       "      <th>52316</th>\n",
       "      <td>6111.0</td>\n",
       "      <td>27110.0</td>\n",
       "      <td>2061.0</td>\n",
       "      <td>97116.0</td>\n",
       "    </tr>\n",
       "    <tr>\n",
       "      <th>52317</th>\n",
       "      <td>6037.0</td>\n",
       "      <td>36502.0</td>\n",
       "      <td>3101.0</td>\n",
       "      <td>96480.0</td>\n",
       "    </tr>\n",
       "    <tr>\n",
       "      <th>52318</th>\n",
       "      <td>6037.0</td>\n",
       "      <td>14634.0</td>\n",
       "      <td>3101.0</td>\n",
       "      <td>96171.0</td>\n",
       "    </tr>\n",
       "  </tbody>\n",
       "</table>\n",
       "<p>51713 rows × 4 columns</p>\n",
       "</div>"
      ],
      "text/plain": [
       "         fips  regionidcity  regionidcounty  regionidzip\n",
       "0      6059.0       53571.0          1286.0      96978.0\n",
       "1      6111.0       13091.0          2061.0      97099.0\n",
       "2      6059.0       21412.0          1286.0      97078.0\n",
       "3      6037.0      396551.0          3101.0      96330.0\n",
       "4      6037.0       47019.0          3101.0      96293.0\n",
       "...       ...           ...             ...          ...\n",
       "52314  6037.0       30267.0          3101.0      96204.0\n",
       "52315  6037.0       12447.0          3101.0      96284.0\n",
       "52316  6111.0       27110.0          2061.0      97116.0\n",
       "52317  6037.0       36502.0          3101.0      96480.0\n",
       "52318  6037.0       14634.0          3101.0      96171.0\n",
       "\n",
       "[51713 rows x 4 columns]"
      ]
     },
     "execution_count": 22,
     "metadata": {},
     "output_type": "execute_result"
    }
   ],
   "source": [
    "df[['fips','regionidcity', 'regionidcounty', 'regionidzip']]"
   ]
  },
  {
   "cell_type": "code",
   "execution_count": 23,
   "id": "26043d31",
   "metadata": {},
   "outputs": [
    {
     "data": {
      "text/plain": [
       "(6037.0    33402\n",
       " 6059.0    13979\n",
       " 6111.0     4332\n",
       " Name: fips, dtype: int64,\n",
       " 3101.0    33402\n",
       " 1286.0    13979\n",
       " 2061.0     4332\n",
       " Name: regionidcounty, dtype: int64)"
      ]
     },
     "execution_count": 23,
     "metadata": {},
     "output_type": "execute_result"
    }
   ],
   "source": [
    "df.fips.value_counts(), df.regionidcounty.value_counts()"
   ]
  },
  {
   "cell_type": "markdown",
   "id": "61df8785",
   "metadata": {},
   "source": [
    "regionidcounty is redundant with fips, I will drop one."
   ]
  },
  {
   "cell_type": "code",
   "execution_count": 24,
   "id": "23d3e718",
   "metadata": {},
   "outputs": [],
   "source": [
    "df = df.drop(columns='regionidcounty')"
   ]
  },
  {
   "cell_type": "code",
   "execution_count": 25,
   "id": "484327ab",
   "metadata": {},
   "outputs": [
    {
     "data": {
      "text/html": [
       "<div>\n",
       "<style scoped>\n",
       "    .dataframe tbody tr th:only-of-type {\n",
       "        vertical-align: middle;\n",
       "    }\n",
       "\n",
       "    .dataframe tbody tr th {\n",
       "        vertical-align: top;\n",
       "    }\n",
       "\n",
       "    .dataframe thead th {\n",
       "        text-align: right;\n",
       "    }\n",
       "</style>\n",
       "<table border=\"1\" class=\"dataframe\">\n",
       "  <thead>\n",
       "    <tr style=\"text-align: right;\">\n",
       "      <th></th>\n",
       "      <th>fips</th>\n",
       "      <th>regionidcity</th>\n",
       "      <th>regionidzip</th>\n",
       "    </tr>\n",
       "  </thead>\n",
       "  <tbody>\n",
       "    <tr>\n",
       "      <th>0</th>\n",
       "      <td>6059.0</td>\n",
       "      <td>53571.0</td>\n",
       "      <td>96978.0</td>\n",
       "    </tr>\n",
       "    <tr>\n",
       "      <th>1</th>\n",
       "      <td>6111.0</td>\n",
       "      <td>13091.0</td>\n",
       "      <td>97099.0</td>\n",
       "    </tr>\n",
       "    <tr>\n",
       "      <th>2</th>\n",
       "      <td>6059.0</td>\n",
       "      <td>21412.0</td>\n",
       "      <td>97078.0</td>\n",
       "    </tr>\n",
       "    <tr>\n",
       "      <th>3</th>\n",
       "      <td>6037.0</td>\n",
       "      <td>396551.0</td>\n",
       "      <td>96330.0</td>\n",
       "    </tr>\n",
       "    <tr>\n",
       "      <th>4</th>\n",
       "      <td>6037.0</td>\n",
       "      <td>47019.0</td>\n",
       "      <td>96293.0</td>\n",
       "    </tr>\n",
       "    <tr>\n",
       "      <th>...</th>\n",
       "      <td>...</td>\n",
       "      <td>...</td>\n",
       "      <td>...</td>\n",
       "    </tr>\n",
       "    <tr>\n",
       "      <th>52314</th>\n",
       "      <td>6037.0</td>\n",
       "      <td>30267.0</td>\n",
       "      <td>96204.0</td>\n",
       "    </tr>\n",
       "    <tr>\n",
       "      <th>52315</th>\n",
       "      <td>6037.0</td>\n",
       "      <td>12447.0</td>\n",
       "      <td>96284.0</td>\n",
       "    </tr>\n",
       "    <tr>\n",
       "      <th>52316</th>\n",
       "      <td>6111.0</td>\n",
       "      <td>27110.0</td>\n",
       "      <td>97116.0</td>\n",
       "    </tr>\n",
       "    <tr>\n",
       "      <th>52317</th>\n",
       "      <td>6037.0</td>\n",
       "      <td>36502.0</td>\n",
       "      <td>96480.0</td>\n",
       "    </tr>\n",
       "    <tr>\n",
       "      <th>52318</th>\n",
       "      <td>6037.0</td>\n",
       "      <td>14634.0</td>\n",
       "      <td>96171.0</td>\n",
       "    </tr>\n",
       "  </tbody>\n",
       "</table>\n",
       "<p>51713 rows × 3 columns</p>\n",
       "</div>"
      ],
      "text/plain": [
       "         fips  regionidcity  regionidzip\n",
       "0      6059.0       53571.0      96978.0\n",
       "1      6111.0       13091.0      97099.0\n",
       "2      6059.0       21412.0      97078.0\n",
       "3      6037.0      396551.0      96330.0\n",
       "4      6037.0       47019.0      96293.0\n",
       "...       ...           ...          ...\n",
       "52314  6037.0       30267.0      96204.0\n",
       "52315  6037.0       12447.0      96284.0\n",
       "52316  6111.0       27110.0      97116.0\n",
       "52317  6037.0       36502.0      96480.0\n",
       "52318  6037.0       14634.0      96171.0\n",
       "\n",
       "[51713 rows x 3 columns]"
      ]
     },
     "execution_count": 25,
     "metadata": {},
     "output_type": "execute_result"
    }
   ],
   "source": [
    "df[['fips','regionidcity', 'regionidzip']]"
   ]
  },
  {
   "cell_type": "code",
   "execution_count": 26,
   "id": "168d0906",
   "metadata": {},
   "outputs": [
    {
     "data": {
      "text/plain": [
       "(6037.0    33402\n",
       " 6059.0    13979\n",
       " 6111.0     4332\n",
       " Name: fips, dtype: int64,\n",
       " 12447.0    11275\n",
       " 5534.0      1762\n",
       " 40227.0     1487\n",
       " 46298.0     1420\n",
       " 16764.0     1077\n",
       "            ...  \n",
       " 32927.0        3\n",
       " 31134.0        2\n",
       " 36078.0        1\n",
       " 10815.0        1\n",
       " 21395.0        1\n",
       " Name: regionidcity, Length: 175, dtype: int64,\n",
       " 97319.0    763\n",
       " 97318.0    660\n",
       " 97329.0    563\n",
       " 97328.0    517\n",
       " 97118.0    495\n",
       "           ... \n",
       " 95996.0      2\n",
       " 97092.0      1\n",
       " 96038.0      1\n",
       " 96148.0      1\n",
       " 96467.0      1\n",
       " Name: regionidzip, Length: 379, dtype: int64)"
      ]
     },
     "execution_count": 26,
     "metadata": {},
     "output_type": "execute_result"
    }
   ],
   "source": [
    "df.fips.value_counts(), df.regionidcity.value_counts(), df.regionidzip.value_counts()"
   ]
  },
  {
   "cell_type": "code",
   "execution_count": 27,
   "id": "df16c355",
   "metadata": {},
   "outputs": [
    {
     "data": {
      "text/html": [
       "<div>\n",
       "<style scoped>\n",
       "    .dataframe tbody tr th:only-of-type {\n",
       "        vertical-align: middle;\n",
       "    }\n",
       "\n",
       "    .dataframe tbody tr th {\n",
       "        vertical-align: top;\n",
       "    }\n",
       "\n",
       "    .dataframe thead th {\n",
       "        text-align: right;\n",
       "    }\n",
       "</style>\n",
       "<table border=\"1\" class=\"dataframe\">\n",
       "  <thead>\n",
       "    <tr style=\"text-align: right;\">\n",
       "      <th></th>\n",
       "      <th>bathroomcnt</th>\n",
       "      <th>bedroomcnt</th>\n",
       "      <th>calculatedbathnbr</th>\n",
       "      <th>calculatedfinishedsquarefeet</th>\n",
       "      <th>fips</th>\n",
       "      <th>fullbathcnt</th>\n",
       "      <th>latitude</th>\n",
       "      <th>longitude</th>\n",
       "      <th>lotsizesquarefeet</th>\n",
       "      <th>propertycountylandusecode</th>\n",
       "      <th>...</th>\n",
       "      <th>regionidzip</th>\n",
       "      <th>roomcnt</th>\n",
       "      <th>yearbuilt</th>\n",
       "      <th>structuretaxvaluedollarcnt</th>\n",
       "      <th>taxvaluedollarcnt</th>\n",
       "      <th>landtaxvaluedollarcnt</th>\n",
       "      <th>taxamount</th>\n",
       "      <th>censustractandblock</th>\n",
       "      <th>logerror</th>\n",
       "      <th>transactiondate</th>\n",
       "    </tr>\n",
       "  </thead>\n",
       "  <tbody>\n",
       "    <tr>\n",
       "      <th>12397</th>\n",
       "      <td>2.0</td>\n",
       "      <td>3.0</td>\n",
       "      <td>2.0</td>\n",
       "      <td>1686.0</td>\n",
       "      <td>6111.0</td>\n",
       "      <td>2.0</td>\n",
       "      <td>34374072.0</td>\n",
       "      <td>-119475416.0</td>\n",
       "      <td>5813.0</td>\n",
       "      <td>1110</td>\n",
       "      <td>...</td>\n",
       "      <td>NaN</td>\n",
       "      <td>5.0</td>\n",
       "      <td>1952.0</td>\n",
       "      <td>57271.0</td>\n",
       "      <td>1075583.0</td>\n",
       "      <td>1018312.0</td>\n",
       "      <td>16350.94</td>\n",
       "      <td>6.111001e+13</td>\n",
       "      <td>-0.156173</td>\n",
       "      <td>2017-03-20</td>\n",
       "    </tr>\n",
       "  </tbody>\n",
       "</table>\n",
       "<p>1 rows × 23 columns</p>\n",
       "</div>"
      ],
      "text/plain": [
       "       bathroomcnt  bedroomcnt  calculatedbathnbr  \\\n",
       "12397          2.0         3.0                2.0   \n",
       "\n",
       "       calculatedfinishedsquarefeet    fips  fullbathcnt    latitude  \\\n",
       "12397                        1686.0  6111.0          2.0  34374072.0   \n",
       "\n",
       "         longitude  lotsizesquarefeet propertycountylandusecode  ...  \\\n",
       "12397 -119475416.0             5813.0                      1110  ...   \n",
       "\n",
       "       regionidzip  roomcnt  yearbuilt  structuretaxvaluedollarcnt  \\\n",
       "12397          NaN      5.0     1952.0                     57271.0   \n",
       "\n",
       "       taxvaluedollarcnt  landtaxvaluedollarcnt  taxamount  \\\n",
       "12397          1075583.0              1018312.0   16350.94   \n",
       "\n",
       "       censustractandblock  logerror  transactiondate  \n",
       "12397         6.111001e+13 -0.156173       2017-03-20  \n",
       "\n",
       "[1 rows x 23 columns]"
      ]
     },
     "execution_count": 27,
     "metadata": {},
     "output_type": "execute_result"
    }
   ],
   "source": [
    "df[df.regionidzip.isna()]"
   ]
  },
  {
   "cell_type": "markdown",
   "id": "423f6de3",
   "metadata": {},
   "source": [
    "Since I already have regional data in the fips column, and from previous modeling I found region data wasn't helpful in predicting taxvalue I'm going to drop regionidcity but keep regionidzip minus the one null entry"
   ]
  },
  {
   "cell_type": "code",
   "execution_count": 28,
   "id": "503185b9",
   "metadata": {},
   "outputs": [],
   "source": [
    "df = df.drop(columns='regionidcity')"
   ]
  },
  {
   "cell_type": "code",
   "execution_count": 29,
   "id": "25b09dd1",
   "metadata": {},
   "outputs": [],
   "source": [
    "df = df[df.regionidzip.notnull()]"
   ]
  },
  {
   "cell_type": "code",
   "execution_count": 30,
   "id": "2d83afb7",
   "metadata": {},
   "outputs": [
    {
     "data": {
      "text/plain": [
       "bathroomcnt                      0\n",
       "bedroomcnt                       0\n",
       "calculatedbathnbr                0\n",
       "calculatedfinishedsquarefeet     0\n",
       "fips                             0\n",
       "fullbathcnt                      0\n",
       "latitude                         0\n",
       "longitude                        0\n",
       "lotsizesquarefeet                0\n",
       "propertycountylandusecode        0\n",
       "propertylandusetypeid            0\n",
       "rawcensustractandblock           0\n",
       "regionidzip                      0\n",
       "roomcnt                          0\n",
       "yearbuilt                        0\n",
       "structuretaxvaluedollarcnt       0\n",
       "taxvaluedollarcnt                0\n",
       "landtaxvaluedollarcnt            0\n",
       "taxamount                        0\n",
       "censustractandblock             45\n",
       "logerror                         0\n",
       "transactiondate                  0\n",
       "dtype: int64"
      ]
     },
     "execution_count": 30,
     "metadata": {},
     "output_type": "execute_result"
    }
   ],
   "source": [
    "df.isna().sum()"
   ]
  },
  {
   "cell_type": "markdown",
   "id": "51ed2cf6",
   "metadata": {},
   "source": [
    "investigating the difference between censustrackandblock and rawcensustractandblock"
   ]
  },
  {
   "cell_type": "code",
   "execution_count": 31,
   "id": "0c4ecbf2",
   "metadata": {},
   "outputs": [],
   "source": [
    "census = df[df['censustractandblock'].isna()]"
   ]
  },
  {
   "cell_type": "code",
   "execution_count": 32,
   "id": "391942f3",
   "metadata": {},
   "outputs": [
    {
     "data": {
      "text/plain": [
       "6.059032e+07    5\n",
       "6.059063e+07    2\n",
       "6.111001e+07    2\n",
       "6.059052e+07    2\n",
       "6.059099e+07    2\n",
       "6.059052e+07    2\n",
       "6.111001e+07    2\n",
       "6.059052e+07    2\n",
       "6.059022e+07    1\n",
       "6.059052e+07    1\n",
       "6.037901e+07    1\n",
       "6.037901e+07    1\n",
       "6.111006e+07    1\n",
       "6.037901e+07    1\n",
       "6.037670e+07    1\n",
       "6.037910e+07    1\n",
       "6.059052e+07    1\n",
       "6.111000e+07    1\n",
       "6.059099e+07    1\n",
       "6.037900e+07    1\n",
       "6.111005e+07    1\n",
       "6.059063e+07    1\n",
       "6.037900e+07    1\n",
       "6.059032e+07    1\n",
       "6.059052e+07    1\n",
       "6.111005e+07    1\n",
       "6.059002e+07    1\n",
       "6.059022e+07    1\n",
       "6.059063e+07    1\n",
       "6.037800e+07    1\n",
       "6.059064e+07    1\n",
       "6.059012e+07    1\n",
       "6.037403e+07    1\n",
       "6.059063e+07    1\n",
       "Name: rawcensustractandblock, dtype: int64"
      ]
     },
     "execution_count": 32,
     "metadata": {},
     "output_type": "execute_result"
    }
   ],
   "source": [
    "census.rawcensustractandblock.value_counts()"
   ]
  },
  {
   "cell_type": "markdown",
   "id": "bed587e2",
   "metadata": {},
   "source": [
    "This data looks weird like it almost all represents the same data, plus it looks like it represents the same data in censustractandblock but scaled differently. Upon further investigation censustract and block data is merely categorical data that is an id given to a parcel of land so I'm going to just drop both rawcensustractandblock and the censustractandblock column\n",
    "\n",
    "https://www.census.gov/newsroom/blogs/random-samplings/2011/07/what-are-census-blocks.html"
   ]
  },
  {
   "cell_type": "code",
   "execution_count": 33,
   "id": "4d11fecb",
   "metadata": {},
   "outputs": [],
   "source": [
    "df = df.drop(columns= ['censustractandblock', 'rawcensustractandblock'])"
   ]
  },
  {
   "cell_type": "code",
   "execution_count": 34,
   "id": "9fce4560",
   "metadata": {},
   "outputs": [
    {
     "name": "stdout",
     "output_type": "stream",
     "text": [
      "<class 'pandas.core.frame.DataFrame'>\n",
      "Int64Index: 51712 entries, 0 to 52318\n",
      "Data columns (total 20 columns):\n",
      " #   Column                        Non-Null Count  Dtype  \n",
      "---  ------                        --------------  -----  \n",
      " 0   bathroomcnt                   51712 non-null  float64\n",
      " 1   bedroomcnt                    51712 non-null  float64\n",
      " 2   calculatedbathnbr             51712 non-null  float64\n",
      " 3   calculatedfinishedsquarefeet  51712 non-null  float64\n",
      " 4   fips                          51712 non-null  float64\n",
      " 5   fullbathcnt                   51712 non-null  float64\n",
      " 6   latitude                      51712 non-null  float64\n",
      " 7   longitude                     51712 non-null  float64\n",
      " 8   lotsizesquarefeet             51712 non-null  float64\n",
      " 9   propertycountylandusecode     51712 non-null  object \n",
      " 10  propertylandusetypeid         51712 non-null  float64\n",
      " 11  regionidzip                   51712 non-null  float64\n",
      " 12  roomcnt                       51712 non-null  float64\n",
      " 13  yearbuilt                     51712 non-null  float64\n",
      " 14  structuretaxvaluedollarcnt    51712 non-null  float64\n",
      " 15  taxvaluedollarcnt             51712 non-null  float64\n",
      " 16  landtaxvaluedollarcnt         51712 non-null  float64\n",
      " 17  taxamount                     51712 non-null  float64\n",
      " 18  logerror                      51712 non-null  float64\n",
      " 19  transactiondate               51712 non-null  object \n",
      "dtypes: float64(18), object(2)\n",
      "memory usage: 8.3+ MB\n"
     ]
    }
   ],
   "source": [
    "df.info()"
   ]
  },
  {
   "cell_type": "markdown",
   "id": "4b700655",
   "metadata": {},
   "source": [
    "No nulls left, need to check and see if these values make sense now or if I need to drop any nonsense data."
   ]
  },
  {
   "cell_type": "code",
   "execution_count": 35,
   "id": "8891155b",
   "metadata": {},
   "outputs": [
    {
     "data": {
      "text/html": [
       "<div>\n",
       "<style scoped>\n",
       "    .dataframe tbody tr th:only-of-type {\n",
       "        vertical-align: middle;\n",
       "    }\n",
       "\n",
       "    .dataframe tbody tr th {\n",
       "        vertical-align: top;\n",
       "    }\n",
       "\n",
       "    .dataframe thead th {\n",
       "        text-align: right;\n",
       "    }\n",
       "</style>\n",
       "<table border=\"1\" class=\"dataframe\">\n",
       "  <thead>\n",
       "    <tr style=\"text-align: right;\">\n",
       "      <th></th>\n",
       "      <th>count</th>\n",
       "      <th>mean</th>\n",
       "      <th>std</th>\n",
       "      <th>min</th>\n",
       "      <th>25%</th>\n",
       "      <th>50%</th>\n",
       "      <th>75%</th>\n",
       "      <th>max</th>\n",
       "    </tr>\n",
       "  </thead>\n",
       "  <tbody>\n",
       "    <tr>\n",
       "      <th>bathroomcnt</th>\n",
       "      <td>51712.0</td>\n",
       "      <td>2.299843e+00</td>\n",
       "      <td>1.009360</td>\n",
       "      <td>1.000000e+00</td>\n",
       "      <td>2.000000e+00</td>\n",
       "      <td>2.000000e+00</td>\n",
       "      <td>3.000000e+00</td>\n",
       "      <td>1.300000e+01</td>\n",
       "    </tr>\n",
       "    <tr>\n",
       "      <th>bedroomcnt</th>\n",
       "      <td>51712.0</td>\n",
       "      <td>3.307375e+00</td>\n",
       "      <td>0.931480</td>\n",
       "      <td>0.000000e+00</td>\n",
       "      <td>3.000000e+00</td>\n",
       "      <td>3.000000e+00</td>\n",
       "      <td>4.000000e+00</td>\n",
       "      <td>1.100000e+01</td>\n",
       "    </tr>\n",
       "    <tr>\n",
       "      <th>calculatedbathnbr</th>\n",
       "      <td>51712.0</td>\n",
       "      <td>2.299843e+00</td>\n",
       "      <td>1.009360</td>\n",
       "      <td>1.000000e+00</td>\n",
       "      <td>2.000000e+00</td>\n",
       "      <td>2.000000e+00</td>\n",
       "      <td>3.000000e+00</td>\n",
       "      <td>1.300000e+01</td>\n",
       "    </tr>\n",
       "    <tr>\n",
       "      <th>calculatedfinishedsquarefeet</th>\n",
       "      <td>51712.0</td>\n",
       "      <td>1.918925e+03</td>\n",
       "      <td>994.076306</td>\n",
       "      <td>1.520000e+02</td>\n",
       "      <td>1.268000e+03</td>\n",
       "      <td>1.657000e+03</td>\n",
       "      <td>2.301000e+03</td>\n",
       "      <td>2.192900e+04</td>\n",
       "    </tr>\n",
       "    <tr>\n",
       "      <th>fips</th>\n",
       "      <td>51712.0</td>\n",
       "      <td>6.049145e+03</td>\n",
       "      <td>21.023247</td>\n",
       "      <td>6.037000e+03</td>\n",
       "      <td>6.037000e+03</td>\n",
       "      <td>6.037000e+03</td>\n",
       "      <td>6.059000e+03</td>\n",
       "      <td>6.111000e+03</td>\n",
       "    </tr>\n",
       "    <tr>\n",
       "      <th>fullbathcnt</th>\n",
       "      <td>51712.0</td>\n",
       "      <td>2.234278e+00</td>\n",
       "      <td>0.983914</td>\n",
       "      <td>1.000000e+00</td>\n",
       "      <td>2.000000e+00</td>\n",
       "      <td>2.000000e+00</td>\n",
       "      <td>3.000000e+00</td>\n",
       "      <td>1.300000e+01</td>\n",
       "    </tr>\n",
       "    <tr>\n",
       "      <th>latitude</th>\n",
       "      <td>51712.0</td>\n",
       "      <td>3.402187e+07</td>\n",
       "      <td>273642.469522</td>\n",
       "      <td>3.334085e+07</td>\n",
       "      <td>3.382662e+07</td>\n",
       "      <td>3.402175e+07</td>\n",
       "      <td>3.418674e+07</td>\n",
       "      <td>3.481877e+07</td>\n",
       "    </tr>\n",
       "    <tr>\n",
       "      <th>longitude</th>\n",
       "      <td>51712.0</td>\n",
       "      <td>-1.181934e+08</td>\n",
       "      <td>356543.369732</td>\n",
       "      <td>-1.194753e+08</td>\n",
       "      <td>-1.183996e+08</td>\n",
       "      <td>-1.181522e+08</td>\n",
       "      <td>-1.179289e+08</td>\n",
       "      <td>-1.175546e+08</td>\n",
       "    </tr>\n",
       "    <tr>\n",
       "      <th>lotsizesquarefeet</th>\n",
       "      <td>51712.0</td>\n",
       "      <td>1.121345e+04</td>\n",
       "      <td>86722.287134</td>\n",
       "      <td>2.360000e+02</td>\n",
       "      <td>5.580000e+03</td>\n",
       "      <td>6.835000e+03</td>\n",
       "      <td>8.771000e+03</td>\n",
       "      <td>6.971010e+06</td>\n",
       "    </tr>\n",
       "    <tr>\n",
       "      <th>propertylandusetypeid</th>\n",
       "      <td>51712.0</td>\n",
       "      <td>2.610000e+02</td>\n",
       "      <td>0.000000</td>\n",
       "      <td>2.610000e+02</td>\n",
       "      <td>2.610000e+02</td>\n",
       "      <td>2.610000e+02</td>\n",
       "      <td>2.610000e+02</td>\n",
       "      <td>2.610000e+02</td>\n",
       "    </tr>\n",
       "    <tr>\n",
       "      <th>regionidzip</th>\n",
       "      <td>51712.0</td>\n",
       "      <td>9.663163e+04</td>\n",
       "      <td>4440.366548</td>\n",
       "      <td>9.598200e+04</td>\n",
       "      <td>9.620600e+04</td>\n",
       "      <td>9.641400e+04</td>\n",
       "      <td>9.699500e+04</td>\n",
       "      <td>3.996750e+05</td>\n",
       "    </tr>\n",
       "    <tr>\n",
       "      <th>roomcnt</th>\n",
       "      <td>51712.0</td>\n",
       "      <td>1.904316e+00</td>\n",
       "      <td>3.152602</td>\n",
       "      <td>0.000000e+00</td>\n",
       "      <td>0.000000e+00</td>\n",
       "      <td>0.000000e+00</td>\n",
       "      <td>5.000000e+00</td>\n",
       "      <td>1.500000e+01</td>\n",
       "    </tr>\n",
       "    <tr>\n",
       "      <th>yearbuilt</th>\n",
       "      <td>51712.0</td>\n",
       "      <td>1.963299e+03</td>\n",
       "      <td>22.955974</td>\n",
       "      <td>1.878000e+03</td>\n",
       "      <td>1.950000e+03</td>\n",
       "      <td>1.960000e+03</td>\n",
       "      <td>1.979000e+03</td>\n",
       "      <td>2.016000e+03</td>\n",
       "    </tr>\n",
       "    <tr>\n",
       "      <th>structuretaxvaluedollarcnt</th>\n",
       "      <td>51712.0</td>\n",
       "      <td>1.947837e+05</td>\n",
       "      <td>250646.228203</td>\n",
       "      <td>1.480000e+02</td>\n",
       "      <td>7.707400e+04</td>\n",
       "      <td>1.314400e+05</td>\n",
       "      <td>2.246730e+05</td>\n",
       "      <td>9.164901e+06</td>\n",
       "    </tr>\n",
       "    <tr>\n",
       "      <th>taxvaluedollarcnt</th>\n",
       "      <td>51712.0</td>\n",
       "      <td>5.242938e+05</td>\n",
       "      <td>711040.389098</td>\n",
       "      <td>3.254000e+03</td>\n",
       "      <td>1.937352e+05</td>\n",
       "      <td>3.727900e+05</td>\n",
       "      <td>6.154002e+05</td>\n",
       "      <td>2.538125e+07</td>\n",
       "    </tr>\n",
       "    <tr>\n",
       "      <th>landtaxvaluedollarcnt</th>\n",
       "      <td>51712.0</td>\n",
       "      <td>3.295102e+05</td>\n",
       "      <td>518897.469974</td>\n",
       "      <td>1.610000e+02</td>\n",
       "      <td>7.568800e+04</td>\n",
       "      <td>2.177200e+05</td>\n",
       "      <td>4.072182e+05</td>\n",
       "      <td>2.233550e+07</td>\n",
       "    </tr>\n",
       "    <tr>\n",
       "      <th>taxamount</th>\n",
       "      <td>51712.0</td>\n",
       "      <td>6.381021e+03</td>\n",
       "      <td>8236.878028</td>\n",
       "      <td>4.918000e+01</td>\n",
       "      <td>2.656073e+03</td>\n",
       "      <td>4.634865e+03</td>\n",
       "      <td>7.329738e+03</td>\n",
       "      <td>2.909981e+05</td>\n",
       "    </tr>\n",
       "    <tr>\n",
       "      <th>logerror</th>\n",
       "      <td>51712.0</td>\n",
       "      <td>1.806091e-02</td>\n",
       "      <td>0.174951</td>\n",
       "      <td>-4.655420e+00</td>\n",
       "      <td>-2.456980e-02</td>\n",
       "      <td>6.907786e-03</td>\n",
       "      <td>4.040419e-02</td>\n",
       "      <td>5.262999e+00</td>\n",
       "    </tr>\n",
       "  </tbody>\n",
       "</table>\n",
       "</div>"
      ],
      "text/plain": [
       "                                count          mean            std  \\\n",
       "bathroomcnt                   51712.0  2.299843e+00       1.009360   \n",
       "bedroomcnt                    51712.0  3.307375e+00       0.931480   \n",
       "calculatedbathnbr             51712.0  2.299843e+00       1.009360   \n",
       "calculatedfinishedsquarefeet  51712.0  1.918925e+03     994.076306   \n",
       "fips                          51712.0  6.049145e+03      21.023247   \n",
       "fullbathcnt                   51712.0  2.234278e+00       0.983914   \n",
       "latitude                      51712.0  3.402187e+07  273642.469522   \n",
       "longitude                     51712.0 -1.181934e+08  356543.369732   \n",
       "lotsizesquarefeet             51712.0  1.121345e+04   86722.287134   \n",
       "propertylandusetypeid         51712.0  2.610000e+02       0.000000   \n",
       "regionidzip                   51712.0  9.663163e+04    4440.366548   \n",
       "roomcnt                       51712.0  1.904316e+00       3.152602   \n",
       "yearbuilt                     51712.0  1.963299e+03      22.955974   \n",
       "structuretaxvaluedollarcnt    51712.0  1.947837e+05  250646.228203   \n",
       "taxvaluedollarcnt             51712.0  5.242938e+05  711040.389098   \n",
       "landtaxvaluedollarcnt         51712.0  3.295102e+05  518897.469974   \n",
       "taxamount                     51712.0  6.381021e+03    8236.878028   \n",
       "logerror                      51712.0  1.806091e-02       0.174951   \n",
       "\n",
       "                                       min           25%           50%  \\\n",
       "bathroomcnt                   1.000000e+00  2.000000e+00  2.000000e+00   \n",
       "bedroomcnt                    0.000000e+00  3.000000e+00  3.000000e+00   \n",
       "calculatedbathnbr             1.000000e+00  2.000000e+00  2.000000e+00   \n",
       "calculatedfinishedsquarefeet  1.520000e+02  1.268000e+03  1.657000e+03   \n",
       "fips                          6.037000e+03  6.037000e+03  6.037000e+03   \n",
       "fullbathcnt                   1.000000e+00  2.000000e+00  2.000000e+00   \n",
       "latitude                      3.334085e+07  3.382662e+07  3.402175e+07   \n",
       "longitude                    -1.194753e+08 -1.183996e+08 -1.181522e+08   \n",
       "lotsizesquarefeet             2.360000e+02  5.580000e+03  6.835000e+03   \n",
       "propertylandusetypeid         2.610000e+02  2.610000e+02  2.610000e+02   \n",
       "regionidzip                   9.598200e+04  9.620600e+04  9.641400e+04   \n",
       "roomcnt                       0.000000e+00  0.000000e+00  0.000000e+00   \n",
       "yearbuilt                     1.878000e+03  1.950000e+03  1.960000e+03   \n",
       "structuretaxvaluedollarcnt    1.480000e+02  7.707400e+04  1.314400e+05   \n",
       "taxvaluedollarcnt             3.254000e+03  1.937352e+05  3.727900e+05   \n",
       "landtaxvaluedollarcnt         1.610000e+02  7.568800e+04  2.177200e+05   \n",
       "taxamount                     4.918000e+01  2.656073e+03  4.634865e+03   \n",
       "logerror                     -4.655420e+00 -2.456980e-02  6.907786e-03   \n",
       "\n",
       "                                       75%           max  \n",
       "bathroomcnt                   3.000000e+00  1.300000e+01  \n",
       "bedroomcnt                    4.000000e+00  1.100000e+01  \n",
       "calculatedbathnbr             3.000000e+00  1.300000e+01  \n",
       "calculatedfinishedsquarefeet  2.301000e+03  2.192900e+04  \n",
       "fips                          6.059000e+03  6.111000e+03  \n",
       "fullbathcnt                   3.000000e+00  1.300000e+01  \n",
       "latitude                      3.418674e+07  3.481877e+07  \n",
       "longitude                    -1.179289e+08 -1.175546e+08  \n",
       "lotsizesquarefeet             8.771000e+03  6.971010e+06  \n",
       "propertylandusetypeid         2.610000e+02  2.610000e+02  \n",
       "regionidzip                   9.699500e+04  3.996750e+05  \n",
       "roomcnt                       5.000000e+00  1.500000e+01  \n",
       "yearbuilt                     1.979000e+03  2.016000e+03  \n",
       "structuretaxvaluedollarcnt    2.246730e+05  9.164901e+06  \n",
       "taxvaluedollarcnt             6.154002e+05  2.538125e+07  \n",
       "landtaxvaluedollarcnt         4.072182e+05  2.233550e+07  \n",
       "taxamount                     7.329738e+03  2.909981e+05  \n",
       "logerror                      4.040419e-02  5.262999e+00  "
      ]
     },
     "execution_count": 35,
     "metadata": {},
     "output_type": "execute_result"
    }
   ],
   "source": [
    "df.describe().T"
   ]
  },
  {
   "cell_type": "markdown",
   "id": "37e2b7da",
   "metadata": {},
   "source": [
    "Need to get rid or invalid data in bedroomcnt, it's showing homes with 0 bedrooms."
   ]
  },
  {
   "cell_type": "code",
   "execution_count": 36,
   "id": "52055221",
   "metadata": {},
   "outputs": [],
   "source": [
    "df = df[df.bedroomcnt != 0]"
   ]
  },
  {
   "cell_type": "markdown",
   "id": "4e8415fd",
   "metadata": {},
   "source": [
    "Further, it's showing minimum roomcnt at 0 and upon investigation this is the majority of the data. So I will drop this column."
   ]
  },
  {
   "cell_type": "code",
   "execution_count": 37,
   "id": "d59d1807",
   "metadata": {},
   "outputs": [],
   "source": [
    "df = df.drop(columns = 'roomcnt')"
   ]
  },
  {
   "cell_type": "code",
   "execution_count": 38,
   "id": "c7f90cda",
   "metadata": {},
   "outputs": [
    {
     "data": {
      "text/html": [
       "<div>\n",
       "<style scoped>\n",
       "    .dataframe tbody tr th:only-of-type {\n",
       "        vertical-align: middle;\n",
       "    }\n",
       "\n",
       "    .dataframe tbody tr th {\n",
       "        vertical-align: top;\n",
       "    }\n",
       "\n",
       "    .dataframe thead th {\n",
       "        text-align: right;\n",
       "    }\n",
       "</style>\n",
       "<table border=\"1\" class=\"dataframe\">\n",
       "  <thead>\n",
       "    <tr style=\"text-align: right;\">\n",
       "      <th></th>\n",
       "      <th>count</th>\n",
       "      <th>mean</th>\n",
       "      <th>std</th>\n",
       "      <th>min</th>\n",
       "      <th>25%</th>\n",
       "      <th>50%</th>\n",
       "      <th>75%</th>\n",
       "      <th>max</th>\n",
       "    </tr>\n",
       "  </thead>\n",
       "  <tbody>\n",
       "    <tr>\n",
       "      <th>bathroomcnt</th>\n",
       "      <td>51684.0</td>\n",
       "      <td>2.300132e+00</td>\n",
       "      <td>1.009310</td>\n",
       "      <td>1.000000e+00</td>\n",
       "      <td>2.000000e+00</td>\n",
       "      <td>2.000000e+00</td>\n",
       "      <td>3.000000e+00</td>\n",
       "      <td>1.300000e+01</td>\n",
       "    </tr>\n",
       "    <tr>\n",
       "      <th>bedroomcnt</th>\n",
       "      <td>51684.0</td>\n",
       "      <td>3.309167e+00</td>\n",
       "      <td>0.928544</td>\n",
       "      <td>1.000000e+00</td>\n",
       "      <td>3.000000e+00</td>\n",
       "      <td>3.000000e+00</td>\n",
       "      <td>4.000000e+00</td>\n",
       "      <td>1.100000e+01</td>\n",
       "    </tr>\n",
       "    <tr>\n",
       "      <th>calculatedbathnbr</th>\n",
       "      <td>51684.0</td>\n",
       "      <td>2.300132e+00</td>\n",
       "      <td>1.009310</td>\n",
       "      <td>1.000000e+00</td>\n",
       "      <td>2.000000e+00</td>\n",
       "      <td>2.000000e+00</td>\n",
       "      <td>3.000000e+00</td>\n",
       "      <td>1.300000e+01</td>\n",
       "    </tr>\n",
       "    <tr>\n",
       "      <th>calculatedfinishedsquarefeet</th>\n",
       "      <td>51684.0</td>\n",
       "      <td>1.919109e+03</td>\n",
       "      <td>993.953170</td>\n",
       "      <td>1.520000e+02</td>\n",
       "      <td>1.269000e+03</td>\n",
       "      <td>1.657000e+03</td>\n",
       "      <td>2.301000e+03</td>\n",
       "      <td>2.192900e+04</td>\n",
       "    </tr>\n",
       "    <tr>\n",
       "      <th>fips</th>\n",
       "      <td>51684.0</td>\n",
       "      <td>6.049144e+03</td>\n",
       "      <td>21.018600</td>\n",
       "      <td>6.037000e+03</td>\n",
       "      <td>6.037000e+03</td>\n",
       "      <td>6.037000e+03</td>\n",
       "      <td>6.059000e+03</td>\n",
       "      <td>6.111000e+03</td>\n",
       "    </tr>\n",
       "    <tr>\n",
       "      <th>fullbathcnt</th>\n",
       "      <td>51684.0</td>\n",
       "      <td>2.234541e+00</td>\n",
       "      <td>0.983867</td>\n",
       "      <td>1.000000e+00</td>\n",
       "      <td>2.000000e+00</td>\n",
       "      <td>2.000000e+00</td>\n",
       "      <td>3.000000e+00</td>\n",
       "      <td>1.300000e+01</td>\n",
       "    </tr>\n",
       "    <tr>\n",
       "      <th>latitude</th>\n",
       "      <td>51684.0</td>\n",
       "      <td>3.402183e+07</td>\n",
       "      <td>273687.182912</td>\n",
       "      <td>3.334085e+07</td>\n",
       "      <td>3.382656e+07</td>\n",
       "      <td>3.402157e+07</td>\n",
       "      <td>3.418675e+07</td>\n",
       "      <td>3.481877e+07</td>\n",
       "    </tr>\n",
       "    <tr>\n",
       "      <th>longitude</th>\n",
       "      <td>51684.0</td>\n",
       "      <td>-1.181933e+08</td>\n",
       "      <td>356521.258234</td>\n",
       "      <td>-1.194753e+08</td>\n",
       "      <td>-1.183996e+08</td>\n",
       "      <td>-1.181519e+08</td>\n",
       "      <td>-1.179289e+08</td>\n",
       "      <td>-1.175546e+08</td>\n",
       "    </tr>\n",
       "    <tr>\n",
       "      <th>lotsizesquarefeet</th>\n",
       "      <td>51684.0</td>\n",
       "      <td>1.121034e+04</td>\n",
       "      <td>86745.262564</td>\n",
       "      <td>2.360000e+02</td>\n",
       "      <td>5.580000e+03</td>\n",
       "      <td>6.834000e+03</td>\n",
       "      <td>8.769000e+03</td>\n",
       "      <td>6.971010e+06</td>\n",
       "    </tr>\n",
       "    <tr>\n",
       "      <th>propertylandusetypeid</th>\n",
       "      <td>51684.0</td>\n",
       "      <td>2.610000e+02</td>\n",
       "      <td>0.000000</td>\n",
       "      <td>2.610000e+02</td>\n",
       "      <td>2.610000e+02</td>\n",
       "      <td>2.610000e+02</td>\n",
       "      <td>2.610000e+02</td>\n",
       "      <td>2.610000e+02</td>\n",
       "    </tr>\n",
       "    <tr>\n",
       "      <th>regionidzip</th>\n",
       "      <td>51684.0</td>\n",
       "      <td>9.663184e+04</td>\n",
       "      <td>4441.551256</td>\n",
       "      <td>9.598200e+04</td>\n",
       "      <td>9.620600e+04</td>\n",
       "      <td>9.641400e+04</td>\n",
       "      <td>9.699500e+04</td>\n",
       "      <td>3.996750e+05</td>\n",
       "    </tr>\n",
       "    <tr>\n",
       "      <th>yearbuilt</th>\n",
       "      <td>51684.0</td>\n",
       "      <td>1.963312e+03</td>\n",
       "      <td>22.945586</td>\n",
       "      <td>1.878000e+03</td>\n",
       "      <td>1.950000e+03</td>\n",
       "      <td>1.960000e+03</td>\n",
       "      <td>1.979000e+03</td>\n",
       "      <td>2.016000e+03</td>\n",
       "    </tr>\n",
       "    <tr>\n",
       "      <th>structuretaxvaluedollarcnt</th>\n",
       "      <td>51684.0</td>\n",
       "      <td>1.947645e+05</td>\n",
       "      <td>250625.159309</td>\n",
       "      <td>1.480000e+02</td>\n",
       "      <td>7.707400e+04</td>\n",
       "      <td>1.314195e+05</td>\n",
       "      <td>2.246730e+05</td>\n",
       "      <td>9.164901e+06</td>\n",
       "    </tr>\n",
       "    <tr>\n",
       "      <th>taxvaluedollarcnt</th>\n",
       "      <td>51684.0</td>\n",
       "      <td>5.242763e+05</td>\n",
       "      <td>710913.021247</td>\n",
       "      <td>3.254000e+03</td>\n",
       "      <td>1.937475e+05</td>\n",
       "      <td>3.727910e+05</td>\n",
       "      <td>6.154252e+05</td>\n",
       "      <td>2.538125e+07</td>\n",
       "    </tr>\n",
       "    <tr>\n",
       "      <th>landtaxvaluedollarcnt</th>\n",
       "      <td>51684.0</td>\n",
       "      <td>3.295118e+05</td>\n",
       "      <td>518820.634465</td>\n",
       "      <td>1.610000e+02</td>\n",
       "      <td>7.581650e+04</td>\n",
       "      <td>2.177790e+05</td>\n",
       "      <td>4.072900e+05</td>\n",
       "      <td>2.233550e+07</td>\n",
       "    </tr>\n",
       "    <tr>\n",
       "      <th>taxamount</th>\n",
       "      <td>51684.0</td>\n",
       "      <td>6.380713e+03</td>\n",
       "      <td>8235.388471</td>\n",
       "      <td>4.918000e+01</td>\n",
       "      <td>2.656048e+03</td>\n",
       "      <td>4.635315e+03</td>\n",
       "      <td>7.330868e+03</td>\n",
       "      <td>2.909981e+05</td>\n",
       "    </tr>\n",
       "    <tr>\n",
       "      <th>logerror</th>\n",
       "      <td>51684.0</td>\n",
       "      <td>1.810880e-02</td>\n",
       "      <td>0.174856</td>\n",
       "      <td>-4.655420e+00</td>\n",
       "      <td>-2.455250e-02</td>\n",
       "      <td>6.907786e-03</td>\n",
       "      <td>4.040419e-02</td>\n",
       "      <td>5.262999e+00</td>\n",
       "    </tr>\n",
       "  </tbody>\n",
       "</table>\n",
       "</div>"
      ],
      "text/plain": [
       "                                count          mean            std  \\\n",
       "bathroomcnt                   51684.0  2.300132e+00       1.009310   \n",
       "bedroomcnt                    51684.0  3.309167e+00       0.928544   \n",
       "calculatedbathnbr             51684.0  2.300132e+00       1.009310   \n",
       "calculatedfinishedsquarefeet  51684.0  1.919109e+03     993.953170   \n",
       "fips                          51684.0  6.049144e+03      21.018600   \n",
       "fullbathcnt                   51684.0  2.234541e+00       0.983867   \n",
       "latitude                      51684.0  3.402183e+07  273687.182912   \n",
       "longitude                     51684.0 -1.181933e+08  356521.258234   \n",
       "lotsizesquarefeet             51684.0  1.121034e+04   86745.262564   \n",
       "propertylandusetypeid         51684.0  2.610000e+02       0.000000   \n",
       "regionidzip                   51684.0  9.663184e+04    4441.551256   \n",
       "yearbuilt                     51684.0  1.963312e+03      22.945586   \n",
       "structuretaxvaluedollarcnt    51684.0  1.947645e+05  250625.159309   \n",
       "taxvaluedollarcnt             51684.0  5.242763e+05  710913.021247   \n",
       "landtaxvaluedollarcnt         51684.0  3.295118e+05  518820.634465   \n",
       "taxamount                     51684.0  6.380713e+03    8235.388471   \n",
       "logerror                      51684.0  1.810880e-02       0.174856   \n",
       "\n",
       "                                       min           25%           50%  \\\n",
       "bathroomcnt                   1.000000e+00  2.000000e+00  2.000000e+00   \n",
       "bedroomcnt                    1.000000e+00  3.000000e+00  3.000000e+00   \n",
       "calculatedbathnbr             1.000000e+00  2.000000e+00  2.000000e+00   \n",
       "calculatedfinishedsquarefeet  1.520000e+02  1.269000e+03  1.657000e+03   \n",
       "fips                          6.037000e+03  6.037000e+03  6.037000e+03   \n",
       "fullbathcnt                   1.000000e+00  2.000000e+00  2.000000e+00   \n",
       "latitude                      3.334085e+07  3.382656e+07  3.402157e+07   \n",
       "longitude                    -1.194753e+08 -1.183996e+08 -1.181519e+08   \n",
       "lotsizesquarefeet             2.360000e+02  5.580000e+03  6.834000e+03   \n",
       "propertylandusetypeid         2.610000e+02  2.610000e+02  2.610000e+02   \n",
       "regionidzip                   9.598200e+04  9.620600e+04  9.641400e+04   \n",
       "yearbuilt                     1.878000e+03  1.950000e+03  1.960000e+03   \n",
       "structuretaxvaluedollarcnt    1.480000e+02  7.707400e+04  1.314195e+05   \n",
       "taxvaluedollarcnt             3.254000e+03  1.937475e+05  3.727910e+05   \n",
       "landtaxvaluedollarcnt         1.610000e+02  7.581650e+04  2.177790e+05   \n",
       "taxamount                     4.918000e+01  2.656048e+03  4.635315e+03   \n",
       "logerror                     -4.655420e+00 -2.455250e-02  6.907786e-03   \n",
       "\n",
       "                                       75%           max  \n",
       "bathroomcnt                   3.000000e+00  1.300000e+01  \n",
       "bedroomcnt                    4.000000e+00  1.100000e+01  \n",
       "calculatedbathnbr             3.000000e+00  1.300000e+01  \n",
       "calculatedfinishedsquarefeet  2.301000e+03  2.192900e+04  \n",
       "fips                          6.059000e+03  6.111000e+03  \n",
       "fullbathcnt                   3.000000e+00  1.300000e+01  \n",
       "latitude                      3.418675e+07  3.481877e+07  \n",
       "longitude                    -1.179289e+08 -1.175546e+08  \n",
       "lotsizesquarefeet             8.769000e+03  6.971010e+06  \n",
       "propertylandusetypeid         2.610000e+02  2.610000e+02  \n",
       "regionidzip                   9.699500e+04  3.996750e+05  \n",
       "yearbuilt                     1.979000e+03  2.016000e+03  \n",
       "structuretaxvaluedollarcnt    2.246730e+05  9.164901e+06  \n",
       "taxvaluedollarcnt             6.154252e+05  2.538125e+07  \n",
       "landtaxvaluedollarcnt         4.072900e+05  2.233550e+07  \n",
       "taxamount                     7.330868e+03  2.909981e+05  \n",
       "logerror                      4.040419e-02  5.262999e+00  "
      ]
     },
     "execution_count": 38,
     "metadata": {},
     "output_type": "execute_result"
    }
   ],
   "source": [
    "df.describe().T"
   ]
  },
  {
   "cell_type": "code",
   "execution_count": 39,
   "id": "84b6b921",
   "metadata": {},
   "outputs": [
    {
     "data": {
      "text/plain": [
       "152.0"
      ]
     },
     "execution_count": 39,
     "metadata": {},
     "output_type": "execute_result"
    }
   ],
   "source": [
    "df.calculatedfinishedsquarefeet.min()"
   ]
  },
  {
   "cell_type": "markdown",
   "id": "15824ed5",
   "metadata": {},
   "source": [
    "This doesn't seem nearly big enough for a house. I will write a function that throws out houses smaller than a theoretical minimum based on number of bedrooms and bathrooms."
   ]
  },
  {
   "cell_type": "code",
   "execution_count": 40,
   "id": "39a58f5c",
   "metadata": {},
   "outputs": [],
   "source": [
    "def minimum_sqr_ft(df):\n",
    "    '''\n",
    "    Function that takes in a dataframe and finds the minimum sq footage necessary given an input number of bathrooms and bedrooms.\n",
    "    \n",
    "    Arguments: A dataframe containing bathroomcnt and bedroomcnt columns.\n",
    "\n",
    "    Returns: a total minimum amount of square feet necessary for a specified house.\n",
    "    '''\n",
    "    # min square footage for type of room\n",
    "    bathroom_min = 10\n",
    "    bedroom_min = 70\n",
    "    \n",
    "    # total MIN sqr feet\n",
    "    total = (df.bathroomcnt * bathroom_min) + (df.bedroomcnt * bedroom_min)\n",
    "    # return MIN sqr feet\n",
    "    return total\n",
    "\n",
    "def clean_sqr_feet(df):\n",
    "    '''\n",
    "    Takes in a dataframe finds the theoretical minimum sq footage given bathroom and bedroom inputs and compares that to the actual\n",
    "    given sq footage.  \n",
    "    Returns a dataframe where containing results only having an actual sq footage larger than the calculate minimum.\n",
    "    '''\n",
    "    # get MIN sqr ft\n",
    "    min_sqr_ft = minimum_sqr_ft(df)\n",
    "    # return df with sqr_ft >= min_sqr_ft\n",
    "    # change 'sqr_ft' to whichever name you have for sqr_ft in df\n",
    "    return df[df.calculatedfinishedsquarefeet >= min_sqr_ft]"
   ]
  },
  {
   "cell_type": "code",
   "execution_count": 41,
   "id": "c52f7973",
   "metadata": {},
   "outputs": [
    {
     "name": "stdout",
     "output_type": "stream",
     "text": [
      "<class 'pandas.core.frame.DataFrame'>\n",
      "Int64Index: 51683 entries, 0 to 52318\n",
      "Data columns (total 19 columns):\n",
      " #   Column                        Non-Null Count  Dtype  \n",
      "---  ------                        --------------  -----  \n",
      " 0   bathroomcnt                   51683 non-null  float64\n",
      " 1   bedroomcnt                    51683 non-null  float64\n",
      " 2   calculatedbathnbr             51683 non-null  float64\n",
      " 3   calculatedfinishedsquarefeet  51683 non-null  float64\n",
      " 4   fips                          51683 non-null  float64\n",
      " 5   fullbathcnt                   51683 non-null  float64\n",
      " 6   latitude                      51683 non-null  float64\n",
      " 7   longitude                     51683 non-null  float64\n",
      " 8   lotsizesquarefeet             51683 non-null  float64\n",
      " 9   propertycountylandusecode     51683 non-null  object \n",
      " 10  propertylandusetypeid         51683 non-null  float64\n",
      " 11  regionidzip                   51683 non-null  float64\n",
      " 12  yearbuilt                     51683 non-null  float64\n",
      " 13  structuretaxvaluedollarcnt    51683 non-null  float64\n",
      " 14  taxvaluedollarcnt             51683 non-null  float64\n",
      " 15  landtaxvaluedollarcnt         51683 non-null  float64\n",
      " 16  taxamount                     51683 non-null  float64\n",
      " 17  logerror                      51683 non-null  float64\n",
      " 18  transactiondate               51683 non-null  object \n",
      "dtypes: float64(17), object(2)\n",
      "memory usage: 7.9+ MB\n"
     ]
    }
   ],
   "source": [
    "df = clean_sqr_feet(df)\n",
    "df.info()"
   ]
  },
  {
   "cell_type": "markdown",
   "id": "e4db7f14",
   "metadata": {},
   "source": [
    "Now changing fips to 'county' and mapping the county name here."
   ]
  },
  {
   "cell_type": "code",
   "execution_count": 42,
   "id": "fd666a21",
   "metadata": {},
   "outputs": [],
   "source": [
    "def map_counties(df):\n",
    "    # identified counties for fips codes \n",
    "    counties = {6037: 'los_angeles',\n",
    "                6059: 'orange',\n",
    "                6111: 'ventura'}\n",
    "    # map counties to fips codes\n",
    "    df.fips = df.fips.map(counties)\n",
    "    df.rename(columns=({ 'fips': 'county'}), inplace=True)\n",
    "    return df"
   ]
  },
  {
   "cell_type": "code",
   "execution_count": 43,
   "id": "1490f5e8",
   "metadata": {},
   "outputs": [
    {
     "name": "stdout",
     "output_type": "stream",
     "text": [
      "<class 'pandas.core.frame.DataFrame'>\n",
      "Int64Index: 51683 entries, 0 to 52318\n",
      "Data columns (total 19 columns):\n",
      " #   Column                        Non-Null Count  Dtype  \n",
      "---  ------                        --------------  -----  \n",
      " 0   bathroomcnt                   51683 non-null  float64\n",
      " 1   bedroomcnt                    51683 non-null  float64\n",
      " 2   calculatedbathnbr             51683 non-null  float64\n",
      " 3   calculatedfinishedsquarefeet  51683 non-null  float64\n",
      " 4   county                        51683 non-null  object \n",
      " 5   fullbathcnt                   51683 non-null  float64\n",
      " 6   latitude                      51683 non-null  float64\n",
      " 7   longitude                     51683 non-null  float64\n",
      " 8   lotsizesquarefeet             51683 non-null  float64\n",
      " 9   propertycountylandusecode     51683 non-null  object \n",
      " 10  propertylandusetypeid         51683 non-null  float64\n",
      " 11  regionidzip                   51683 non-null  float64\n",
      " 12  yearbuilt                     51683 non-null  float64\n",
      " 13  structuretaxvaluedollarcnt    51683 non-null  float64\n",
      " 14  taxvaluedollarcnt             51683 non-null  float64\n",
      " 15  landtaxvaluedollarcnt         51683 non-null  float64\n",
      " 16  taxamount                     51683 non-null  float64\n",
      " 17  logerror                      51683 non-null  float64\n",
      " 18  transactiondate               51683 non-null  object \n",
      "dtypes: float64(16), object(3)\n",
      "memory usage: 7.9+ MB\n"
     ]
    }
   ],
   "source": [
    "df = map_counties(df)\n",
    "df.info()"
   ]
  },
  {
   "cell_type": "markdown",
   "id": "5eeca41c",
   "metadata": {},
   "source": [
    "Checking the propertylandusetypeid"
   ]
  },
  {
   "cell_type": "code",
   "execution_count": 44,
   "id": "4303443e",
   "metadata": {},
   "outputs": [
    {
     "data": {
      "text/plain": [
       "261.0    51683\n",
       "Name: propertylandusetypeid, dtype: int64"
      ]
     },
     "execution_count": 44,
     "metadata": {},
     "output_type": "execute_result"
    }
   ],
   "source": [
    "df.propertylandusetypeid.value_counts()"
   ]
  },
  {
   "cell_type": "markdown",
   "id": "1da54c33",
   "metadata": {},
   "source": [
    "I can drop this as it's useless"
   ]
  },
  {
   "cell_type": "code",
   "execution_count": 45,
   "id": "26016db4",
   "metadata": {},
   "outputs": [],
   "source": [
    "df.drop(columns = 'propertylandusetypeid', inplace=True)"
   ]
  },
  {
   "cell_type": "markdown",
   "id": "bb193642",
   "metadata": {},
   "source": [
    "checking propertycountylandusecode"
   ]
  },
  {
   "cell_type": "code",
   "execution_count": 46,
   "id": "7b7bbf7a",
   "metadata": {},
   "outputs": [
    {
     "data": {
      "text/plain": [
       "0100    26389\n",
       "122     12939\n",
       "0101     6341\n",
       "1111     3341\n",
       "1        1039\n",
       "1110      984\n",
       "0104      364\n",
       "0103       86\n",
       "010G       63\n",
       "0108       54\n",
       "010M       50\n",
       "0109        8\n",
       "0113        6\n",
       "0110        6\n",
       "0102        3\n",
       "0105        3\n",
       "0111        2\n",
       "0133        1\n",
       "0131        1\n",
       "1112        1\n",
       "0114        1\n",
       "0130        1\n",
       "Name: propertycountylandusecode, dtype: int64"
      ]
     },
     "execution_count": 46,
     "metadata": {},
     "output_type": "execute_result"
    }
   ],
   "source": [
    "df.propertycountylandusecode.value_counts()"
   ]
  },
  {
   "cell_type": "markdown",
   "id": "86d59b5a",
   "metadata": {},
   "source": [
    "After reading about this column and seeing the data, I can't see a use for it now, but it may be useful for clustering and feature engineering later; will leave for now."
   ]
  },
  {
   "cell_type": "code",
   "execution_count": 47,
   "id": "7eb43ab2",
   "metadata": {},
   "outputs": [
    {
     "data": {
      "text/plain": [
       "0        2017-01-01\n",
       "1        2017-01-01\n",
       "2        2017-01-01\n",
       "3        2017-01-01\n",
       "4        2017-01-01\n",
       "            ...    \n",
       "52314    2017-09-19\n",
       "52315    2017-09-20\n",
       "52316    2017-09-21\n",
       "52317    2017-09-21\n",
       "52318    2017-09-25\n",
       "Name: transactiondate, Length: 51683, dtype: object"
      ]
     },
     "execution_count": 47,
     "metadata": {},
     "output_type": "execute_result"
    }
   ],
   "source": [
    "df.transactiondate"
   ]
  },
  {
   "cell_type": "code",
   "execution_count": 48,
   "id": "4281c1e1",
   "metadata": {},
   "outputs": [
    {
     "name": "stdout",
     "output_type": "stream",
     "text": [
      "<class 'pandas.core.frame.DataFrame'>\n",
      "Int64Index: 51683 entries, 0 to 52318\n",
      "Data columns (total 18 columns):\n",
      " #   Column                        Non-Null Count  Dtype  \n",
      "---  ------                        --------------  -----  \n",
      " 0   bathroomcnt                   51683 non-null  float64\n",
      " 1   bedroomcnt                    51683 non-null  float64\n",
      " 2   calculatedbathnbr             51683 non-null  float64\n",
      " 3   calculatedfinishedsquarefeet  51683 non-null  float64\n",
      " 4   county                        51683 non-null  object \n",
      " 5   fullbathcnt                   51683 non-null  float64\n",
      " 6   latitude                      51683 non-null  float64\n",
      " 7   longitude                     51683 non-null  float64\n",
      " 8   lotsizesquarefeet             51683 non-null  float64\n",
      " 9   propertycountylandusecode     51683 non-null  object \n",
      " 10  regionidzip                   51683 non-null  float64\n",
      " 11  yearbuilt                     51683 non-null  float64\n",
      " 12  structuretaxvaluedollarcnt    51683 non-null  float64\n",
      " 13  taxvaluedollarcnt             51683 non-null  float64\n",
      " 14  landtaxvaluedollarcnt         51683 non-null  float64\n",
      " 15  taxamount                     51683 non-null  float64\n",
      " 16  logerror                      51683 non-null  float64\n",
      " 17  transactiondate               51683 non-null  object \n",
      "dtypes: float64(15), object(3)\n",
      "memory usage: 7.5+ MB\n"
     ]
    }
   ],
   "source": [
    "df.info()"
   ]
  },
  {
   "cell_type": "markdown",
   "id": "60ce2db2",
   "metadata": {},
   "source": [
    "Time to convert datatypes"
   ]
  },
  {
   "cell_type": "code",
   "execution_count": 49,
   "id": "234d7f77",
   "metadata": {
    "scrolled": false
   },
   "outputs": [
    {
     "name": "stdout",
     "output_type": "stream",
     "text": [
      "bathroomcnt\n",
      "Max is 13.0\n",
      "2.0     21735\n",
      "3.0     10521\n",
      "1.0      9429\n",
      "2.5      3916\n",
      "4.0      2151\n",
      "3.5       909\n",
      "1.5       824\n",
      "5.0       770\n",
      "4.5       681\n",
      "6.0       300\n",
      "5.5       223\n",
      "7.0        87\n",
      "8.0        51\n",
      "6.5        47\n",
      "7.5        16\n",
      "9.0        12\n",
      "10.0        5\n",
      "11.0        3\n",
      "8.5         2\n",
      "13.0        1\n",
      "Name: bathroomcnt, dtype: int64\n",
      "bedroomcnt\n",
      "Max is 11.0\n",
      "3.0     23159\n",
      "4.0     15063\n",
      "2.0      8223\n",
      "5.0      3904\n",
      "6.0       625\n",
      "1.0       572\n",
      "7.0       102\n",
      "8.0        24\n",
      "9.0         8\n",
      "10.0        2\n",
      "11.0        1\n",
      "Name: bedroomcnt, dtype: int64\n",
      "calculatedbathnbr\n",
      "Max is 13.0\n",
      "2.0     21735\n",
      "3.0     10521\n",
      "1.0      9429\n",
      "2.5      3916\n",
      "4.0      2151\n",
      "3.5       909\n",
      "1.5       824\n",
      "5.0       770\n",
      "4.5       681\n",
      "6.0       300\n",
      "5.5       223\n",
      "7.0        87\n",
      "8.0        51\n",
      "6.5        47\n",
      "7.5        16\n",
      "9.0        12\n",
      "10.0        5\n",
      "11.0        3\n",
      "8.5         2\n",
      "13.0        1\n",
      "Name: calculatedbathnbr, dtype: int64\n",
      "calculatedfinishedsquarefeet\n",
      "Max is 21929.0\n",
      "1120.0    127\n",
      "1200.0    117\n",
      "1080.0    101\n",
      "936.0      86\n",
      "1040.0     83\n",
      "         ... \n",
      "9059.0      1\n",
      "5104.0      1\n",
      "5481.0      1\n",
      "4065.0      1\n",
      "5655.0      1\n",
      "Name: calculatedfinishedsquarefeet, Length: 4683, dtype: int64\n",
      "county\n",
      "Max is ventura\n",
      "los_angeles    33379\n",
      "orange         13978\n",
      "ventura         4326\n",
      "Name: county, dtype: int64\n",
      "fullbathcnt\n",
      "Max is 13.0\n",
      "2.0     25663\n",
      "3.0     11439\n",
      "1.0     10253\n",
      "4.0      2833\n",
      "5.0       989\n",
      "6.0       337\n",
      "7.0        95\n",
      "8.0        53\n",
      "9.0        12\n",
      "10.0        5\n",
      "11.0        3\n",
      "13.0        1\n",
      "Name: fullbathcnt, dtype: int64\n",
      "latitude\n",
      "Max is 34818767.0\n",
      "34487900.0    7\n",
      "33765800.0    5\n",
      "34041200.0    5\n",
      "34019540.0    4\n",
      "34019921.0    4\n",
      "             ..\n",
      "34716913.0    1\n",
      "33822296.0    1\n",
      "33526175.0    1\n",
      "34064424.0    1\n",
      "33937685.0    1\n",
      "Name: latitude, Length: 49944, dtype: int64\n",
      "longitude\n",
      "Max is -117554636.0\n",
      "-117835000.0    7\n",
      "-118172000.0    7\n",
      "-117847000.0    5\n",
      "-118251000.0    5\n",
      "-118364216.0    5\n",
      "               ..\n",
      "-118132169.0    1\n",
      "-117744674.0    1\n",
      "-118287098.0    1\n",
      "-118211348.0    1\n",
      "-117996709.0    1\n",
      "Name: longitude, Length: 50224, dtype: int64\n",
      "lotsizesquarefeet\n",
      "Max is 6971010.0\n",
      "6000.0     873\n",
      "5000.0     413\n",
      "7200.0     306\n",
      "7000.0     283\n",
      "6500.0     270\n",
      "          ... \n",
      "31038.0      1\n",
      "15333.0      1\n",
      "17987.0      1\n",
      "10316.0      1\n",
      "47405.0      1\n",
      "Name: lotsizesquarefeet, Length: 14202, dtype: int64\n",
      "propertycountylandusecode\n",
      "Max is 122\n",
      "0100    26389\n",
      "122     12939\n",
      "0101     6341\n",
      "1111     3341\n",
      "1        1039\n",
      "1110      984\n",
      "0104      364\n",
      "0103       86\n",
      "010G       63\n",
      "0108       54\n",
      "010M       50\n",
      "0109        8\n",
      "0113        6\n",
      "0110        6\n",
      "0102        3\n",
      "0105        3\n",
      "0111        2\n",
      "0133        1\n",
      "0131        1\n",
      "1112        1\n",
      "0114        1\n",
      "0130        1\n",
      "Name: propertycountylandusecode, dtype: int64\n",
      "regionidzip\n",
      "Max is 399675.0\n",
      "97319.0    763\n",
      "97318.0    660\n",
      "97329.0    563\n",
      "97328.0    517\n",
      "97118.0    495\n",
      "          ... \n",
      "96039.0      2\n",
      "96038.0      1\n",
      "96148.0      1\n",
      "97092.0      1\n",
      "96467.0      1\n",
      "Name: regionidzip, Length: 378, dtype: int64\n",
      "yearbuilt\n",
      "Max is 2016.0\n",
      "1955.0    1885\n",
      "1950.0    1598\n",
      "1954.0    1506\n",
      "1953.0    1477\n",
      "1956.0    1375\n",
      "          ... \n",
      "1892.0       1\n",
      "1878.0       1\n",
      "1882.0       1\n",
      "1894.0       1\n",
      "1880.0       1\n",
      "Name: yearbuilt, Length: 133, dtype: int64\n",
      "structuretaxvaluedollarcnt\n",
      "Max is 9164901.0\n",
      "100000.0    49\n",
      "200000.0    36\n",
      "90000.0     32\n",
      "32489.0     28\n",
      "95000.0     26\n",
      "            ..\n",
      "74441.0      1\n",
      "182230.0     1\n",
      "236159.0     1\n",
      "94473.0      1\n",
      "32797.0      1\n",
      "Name: structuretaxvaluedollarcnt, Length: 36964, dtype: int64\n",
      "taxvaluedollarcnt\n",
      "Max is 25381250.0\n",
      "455000.0    33\n",
      "600000.0    30\n",
      "550000.0    24\n",
      "500000.0    24\n",
      "450000.0    24\n",
      "            ..\n",
      "153194.0     1\n",
      "193436.0     1\n",
      "844420.0     1\n",
      "120595.0     1\n",
      "49546.0      1\n",
      "Name: taxvaluedollarcnt, Length: 38505, dtype: int64\n",
      "landtaxvaluedollarcnt\n",
      "Max is 22335500.0\n",
      "21299.0     95\n",
      "30210.0     63\n",
      "22755.0     63\n",
      "16522.0     53\n",
      "16749.0     51\n",
      "            ..\n",
      "20493.0      1\n",
      "25152.0      1\n",
      "86973.0      1\n",
      "499170.0     1\n",
      "283704.0     1\n",
      "Name: landtaxvaluedollarcnt, Length: 36510, dtype: int64\n",
      "taxamount\n",
      "Max is 290998.06\n",
      "345.72     4\n",
      "5504.50    3\n",
      "4012.74    3\n",
      "7210.68    3\n",
      "2009.34    3\n",
      "          ..\n",
      "2686.71    1\n",
      "4038.40    1\n",
      "770.05     1\n",
      "8016.23    1\n",
      "6317.15    1\n",
      "Name: taxamount, Length: 50225, dtype: int64\n",
      "logerror\n",
      "Max is 5.2629986498\n",
      " 0.001878    5\n",
      " 0.002652    5\n",
      " 0.000231    5\n",
      " 0.000727    5\n",
      " 0.000375    4\n",
      "            ..\n",
      "-0.015346    1\n",
      "-0.001411    1\n",
      " 0.006841    1\n",
      "-0.067485    1\n",
      " 0.037129    1\n",
      "Name: logerror, Length: 51428, dtype: int64\n",
      "transactiondate\n",
      "Max is 2017-09-25\n",
      "2017-06-30    795\n",
      "2017-04-28    604\n",
      "2017-05-31    560\n",
      "2017-07-28    540\n",
      "2017-08-31    521\n",
      "             ... \n",
      "2017-05-13      1\n",
      "2017-05-20      1\n",
      "2017-06-03      1\n",
      "2017-06-11      1\n",
      "2017-09-25      1\n",
      "Name: transactiondate, Length: 257, dtype: int64\n"
     ]
    }
   ],
   "source": [
    "for column in df.columns.tolist():\n",
    "    print(column)\n",
    "    print(f'Max is {df[column].max()}')\n",
    "    print(df[column].value_counts())"
   ]
  },
  {
   "cell_type": "code",
   "execution_count": 51,
   "id": "a250ae0a",
   "metadata": {},
   "outputs": [],
   "source": [
    "df.bedroomcnt = df.bedroomcnt.astype('uint8')\n",
    "df.bathroomcnt = df.bathroomcnt.astype('float16')\n",
    "df.calculatedbathnbr = df.calculatedbathnbr.astype('float16')\n",
    "df.yearbuilt = df.yearbuilt.astype('uint16')\n",
    "df.calculatedfinishedsquarefeet = df.calculatedfinishedsquarefeet.astype('uint16')\n"
   ]
  },
  {
   "cell_type": "code",
   "execution_count": 52,
   "id": "a240eb94",
   "metadata": {},
   "outputs": [
    {
     "name": "stdout",
     "output_type": "stream",
     "text": [
      "<class 'pandas.core.frame.DataFrame'>\n",
      "Int64Index: 51683 entries, 0 to 52318\n",
      "Data columns (total 18 columns):\n",
      " #   Column                        Non-Null Count  Dtype  \n",
      "---  ------                        --------------  -----  \n",
      " 0   bathroomcnt                   51683 non-null  float16\n",
      " 1   bedroomcnt                    51683 non-null  uint8  \n",
      " 2   calculatedbathnbr             51683 non-null  float16\n",
      " 3   calculatedfinishedsquarefeet  51683 non-null  uint16 \n",
      " 4   county                        51683 non-null  object \n",
      " 5   fullbathcnt                   51683 non-null  float64\n",
      " 6   latitude                      51683 non-null  float64\n",
      " 7   longitude                     51683 non-null  float64\n",
      " 8   lotsizesquarefeet             51683 non-null  float64\n",
      " 9   propertycountylandusecode     51683 non-null  object \n",
      " 10  regionidzip                   51683 non-null  float64\n",
      " 11  yearbuilt                     51683 non-null  uint16 \n",
      " 12  structuretaxvaluedollarcnt    51683 non-null  float64\n",
      " 13  taxvaluedollarcnt             51683 non-null  float64\n",
      " 14  landtaxvaluedollarcnt         51683 non-null  float64\n",
      " 15  taxamount                     51683 non-null  float64\n",
      " 16  logerror                      51683 non-null  float64\n",
      " 17  transactiondate               51683 non-null  object \n",
      "dtypes: float16(2), float64(10), object(3), uint16(2), uint8(1)\n",
      "memory usage: 6.0+ MB\n"
     ]
    }
   ],
   "source": [
    "df.info()"
   ]
  },
  {
   "cell_type": "markdown",
   "id": "9cad8656",
   "metadata": {},
   "source": [
    "Now I need to deal visualize the data simply to help deal with outliers."
   ]
  },
  {
   "cell_type": "code",
   "execution_count": 53,
   "id": "ee45a265",
   "metadata": {},
   "outputs": [],
   "source": [
    "import matplotlib.pyplot as plt\n",
    "import seaborn as sns"
   ]
  },
  {
   "cell_type": "code",
   "execution_count": 54,
   "id": "72a3bf11",
   "metadata": {
    "scrolled": false
   },
   "outputs": [
    {
     "data": {
      "image/png": "[encoded data removed]",
      "text/plain": [
       "<Figure size 432x288 with 1 Axes>"
      ]
     },
     "metadata": {
      "needs_background": "light"
     },
     "output_type": "display_data"
    },
    {
     "data": {
      "image/png": "[encoded data removed]",
      "text/plain": [
       "<Figure size 432x288 with 1 Axes>"
      ]
     },
     "metadata": {
      "needs_background": "light"
     },
     "output_type": "display_data"
    },
    {
     "data": {
      "image/png": "[encoded data removed]",
      "text/plain": [
       "<Figure size 432x288 with 1 Axes>"
      ]
     },
     "metadata": {
      "needs_background": "light"
     },
     "output_type": "display_data"
    },
    {
     "data": {
      "image/png": "[encoded data removed]",
      "text/plain": [
       "<Figure size 432x288 with 1 Axes>"
      ]
     },
     "metadata": {
      "needs_background": "light"
     },
     "output_type": "display_data"
    },
    {
     "data": {
      "image/png": "[encoded data removed]",
      "text/plain": [
       "<Figure size 432x288 with 1 Axes>"
      ]
     },
     "metadata": {
      "needs_background": "light"
     },
     "output_type": "display_data"
    },
    {
     "data": {
      "image/png": "[encoded data removed]",
      "text/plain": [
       "<Figure size 432x288 with 1 Axes>"
      ]
     },
     "metadata": {
      "needs_background": "light"
     },
     "output_type": "display_data"
    },
    {
     "data": {
      "image/png": "[encoded data removed]",
      "text/plain": [
       "<Figure size 432x288 with 1 Axes>"
      ]
     },
     "metadata": {
      "needs_background": "light"
     },
     "output_type": "display_data"
    },
    {
     "data": {
      "image/png": "[encoded data removed]",
      "text/plain": [
       "<Figure size 432x288 with 1 Axes>"
      ]
     },
     "metadata": {
      "needs_background": "light"
     },
     "output_type": "display_data"
    },
    {
     "data": {
      "image/png": "[encoded data removed]",
      "text/plain": [
       "<Figure size 432x288 with 1 Axes>"
      ]
     },
     "metadata": {
      "needs_background": "light"
     },
     "output_type": "display_data"
    },
    {
     "data": {
      "image/png": "[encoded data removed]",
      "text/plain": [
       "<Figure size 432x288 with 1 Axes>"
      ]
     },
     "metadata": {
      "needs_background": "light"
     },
     "output_type": "display_data"
    },
    {
     "data": {
      "image/png": "[encoded data removed]",
      "text/plain": [
       "<Figure size 432x288 with 1 Axes>"
      ]
     },
     "metadata": {
      "needs_background": "light"
     },
     "output_type": "display_data"
    },
    {
     "data": {
      "image/png": "[encoded data removed]",
      "text/plain": [
       "<Figure size 432x288 with 1 Axes>"
      ]
     },
     "metadata": {
      "needs_background": "light"
     },
     "output_type": "display_data"
    },
    {
     "data": {
      "image/png": "[encoded data removed]",
      "text/plain": [
       "<Figure size 432x288 with 1 Axes>"
      ]
     },
     "metadata": {
      "needs_background": "light"
     },
     "output_type": "display_data"
    },
    {
     "data": {
      "image/png": "[encoded data removed]",
      "text/plain": [
       "<Figure size 432x288 with 1 Axes>"
      ]
     },
     "metadata": {
      "needs_background": "light"
     },
     "output_type": "display_data"
    },
    {
     "data": {
      "image/png": "[encoded data removed]",
      "text/plain": [
       "<Figure size 432x288 with 1 Axes>"
      ]
     },
     "metadata": {
      "needs_background": "light"
     },
     "output_type": "display_data"
    },
    {
     "data": {
      "image/png": "[encoded data removed]",
      "text/plain": [
       "<Figure size 432x288 with 1 Axes>"
      ]
     },
     "metadata": {
      "needs_background": "light"
     },
     "output_type": "display_data"
    },
    {
     "data": {
      "image/png": "[encoded data removed]",
      "text/plain": [
       "<Figure size 432x288 with 1 Axes>"
      ]
     },
     "metadata": {
      "needs_background": "light"
     },
     "output_type": "display_data"
    },
    {
     "data": {
      "image/png": "[encoded data removed]",
      "text/plain": [
       "<Figure size 432x288 with 1 Axes>"
      ]
     },
     "metadata": {
      "needs_background": "light"
     },
     "output_type": "display_data"
    }
   ],
   "source": [
    "for column in df.columns.tolist():\n",
    "    sns.histplot(df[column])\n",
    "    plt.show()"
   ]
  },
  {
   "cell_type": "markdown",
   "id": "92b0a0ce",
   "metadata": {},
   "source": [
    "Several columns have major outliers, will use a function to trim down on the biggest 3 categories of outliers first and reevaluate. Tax value, house square footage, lot size square footage"
   ]
  },
  {
   "cell_type": "code",
   "execution_count": 55,
   "id": "db838e08",
   "metadata": {},
   "outputs": [],
   "source": [
    "def not_outlier(df_column, thresh=3.5):\n",
    "    \"\"\"\n",
    "    Returns a boolean array with True if points are not outliers and False \n",
    "    otherwise.\n",
    "\n",
    "    Parameters:\n",
    "    -----------\n",
    "        df_column : An numobservations by numdimensions array of observations\n",
    "        thresh : The modified z-score to use as a threshold. Observations with\n",
    "            a modified z-score (based on the median absolute deviation) greater\n",
    "            than this value will be classified as outliers.\n",
    "\n",
    "    Returns:\n",
    "    --------\n",
    "        mask : A numobservations-length boolean array.\n",
    "\n",
    "    References:\n",
    "    ----------\n",
    "        Boris Iglewicz and David Hoaglin (1993), \"Volume 16: How to Detect and\n",
    "        Handle Outliers\", The ASQC Basic References in Quality Control:\n",
    "        Statistical Techniques, Edward F. Mykytka, Ph.D., Editor. \n",
    "    \"\"\"\n",
    "    if len(df_column.shape) == 1:\n",
    "        df_column = np.array(df_column).reshape(-1,1)\n",
    "    median = np.median(df_column, axis=0)\n",
    "    diff = np.sum((df_column - median)**2, axis=-1)\n",
    "    diff = np.sqrt(diff)\n",
    "    med_abs_deviation = np.median(diff)\n",
    "\n",
    "    modified_z_score = 0.6745 * diff / med_abs_deviation\n",
    "\n",
    "    return modified_z_score < thresh"
   ]
  },
  {
   "cell_type": "code",
   "execution_count": 56,
   "id": "4dd0df0e",
   "metadata": {},
   "outputs": [],
   "source": [
    "dfnew = df[not_outlier(df.taxvaluedollarcnt, thresh=4.5)]\n",
    "dfnew = dfnew[not_outlier(dfnew.calculatedfinishedsquarefeet, thresh=5)]\n",
    "dfnew = dfnew[not_outlier(dfnew.lotsizesquarefeet, thresh=4)]\n",
    "dfnew = dfnew[not_outlier(dfnew.bathroomcnt, thresh=4)]\n",
    "dfnew = dfnew[not_outlier(dfnew.bedroomcnt, thresh=4)]"
   ]
  },
  {
   "cell_type": "code",
   "execution_count": 57,
   "id": "98f34cf9",
   "metadata": {},
   "outputs": [
    {
     "name": "stdout",
     "output_type": "stream",
     "text": [
      "<class 'pandas.core.frame.DataFrame'>\n",
      "Int64Index: 45381 entries, 0 to 52318\n",
      "Data columns (total 18 columns):\n",
      " #   Column                        Non-Null Count  Dtype  \n",
      "---  ------                        --------------  -----  \n",
      " 0   bathroomcnt                   45381 non-null  float16\n",
      " 1   bedroomcnt                    45381 non-null  uint8  \n",
      " 2   calculatedbathnbr             45381 non-null  float16\n",
      " 3   calculatedfinishedsquarefeet  45381 non-null  uint16 \n",
      " 4   county                        45381 non-null  object \n",
      " 5   fullbathcnt                   45381 non-null  float64\n",
      " 6   latitude                      45381 non-null  float64\n",
      " 7   longitude                     45381 non-null  float64\n",
      " 8   lotsizesquarefeet             45381 non-null  float64\n",
      " 9   propertycountylandusecode     45381 non-null  object \n",
      " 10  regionidzip                   45381 non-null  float64\n",
      " 11  yearbuilt                     45381 non-null  uint16 \n",
      " 12  structuretaxvaluedollarcnt    45381 non-null  float64\n",
      " 13  taxvaluedollarcnt             45381 non-null  float64\n",
      " 14  landtaxvaluedollarcnt         45381 non-null  float64\n",
      " 15  taxamount                     45381 non-null  float64\n",
      " 16  logerror                      45381 non-null  float64\n",
      " 17  transactiondate               45381 non-null  object \n",
      "dtypes: float16(2), float64(10), object(3), uint16(2), uint8(1)\n",
      "memory usage: 5.2+ MB\n"
     ]
    }
   ],
   "source": [
    "dfnew.info()"
   ]
  },
  {
   "cell_type": "markdown",
   "id": "2468facb",
   "metadata": {},
   "source": [
    "This reduced the number of entries from 51683 to 44010."
   ]
  },
  {
   "cell_type": "code",
   "execution_count": 58,
   "id": "60514914",
   "metadata": {
    "scrolled": false
   },
   "outputs": [
    {
     "data": {
      "image/png": "[encoded data removed]",
      "text/plain": [
       "<Figure size 432x288 with 1 Axes>"
      ]
     },
     "metadata": {
      "needs_background": "light"
     },
     "output_type": "display_data"
    },
    {
     "data": {
      "image/png": "[encoded data removed]",
      "text/plain": [
       "<Figure size 432x288 with 1 Axes>"
      ]
     },
     "metadata": {
      "needs_background": "light"
     },
     "output_type": "display_data"
    },
    {
     "data": {
      "image/png": "[encoded data removed]",
      "text/plain": [
       "<Figure size 432x288 with 1 Axes>"
      ]
     },
     "metadata": {
      "needs_background": "light"
     },
     "output_type": "display_data"
    },
    {
     "data": {
      "image/png": "[encoded data removed]",
      "text/plain": [
       "<Figure size 432x288 with 1 Axes>"
      ]
     },
     "metadata": {
      "needs_background": "light"
     },
     "output_type": "display_data"
    },
    {
     "data": {
      "image/png": "[encoded data removed]",
      "text/plain": [
       "<Figure size 432x288 with 1 Axes>"
      ]
     },
     "metadata": {
      "needs_background": "light"
     },
     "output_type": "display_data"
    },
    {
     "data": {
      "image/png": "[encoded data removed]",
      "text/plain": [
       "<Figure size 432x288 with 1 Axes>"
      ]
     },
     "metadata": {
      "needs_background": "light"
     },
     "output_type": "display_data"
    },
    {
     "data": {
      "image/png": "[encoded data removed]",
      "text/plain": [
       "<Figure size 432x288 with 1 Axes>"
      ]
     },
     "metadata": {
      "needs_background": "light"
     },
     "output_type": "display_data"
    },
    {
     "data": {
      "image/png": "[encoded data removed]",
      "text/plain": [
       "<Figure size 432x288 with 1 Axes>"
      ]
     },
     "metadata": {
      "needs_background": "light"
     },
     "output_type": "display_data"
    },
    {
     "data": {
      "image/png": "[encoded data removed]",
      "text/plain": [
       "<Figure size 432x288 with 1 Axes>"
      ]
     },
     "metadata": {
      "needs_background": "light"
     },
     "output_type": "display_data"
    },
    {
     "data": {
      "image/png": "[encoded data removed]",
      "text/plain": [
       "<Figure size 432x288 with 1 Axes>"
      ]
     },
     "metadata": {
      "needs_background": "light"
     },
     "output_type": "display_data"
    },
    {
     "data": {
      "image/png": "[encoded data removed]",
      "text/plain": [
       "<Figure size 432x288 with 1 Axes>"
      ]
     },
     "metadata": {
      "needs_background": "light"
     },
     "output_type": "display_data"
    },
    {
     "data": {
      "image/png": "[encoded data removed]",
      "text/plain": [
       "<Figure size 432x288 with 1 Axes>"
      ]
     },
     "metadata": {
      "needs_background": "light"
     },
     "output_type": "display_data"
    },
    {
     "data": {
      "image/png": "[encoded data removed]",
      "text/plain": [
       "<Figure size 432x288 with 1 Axes>"
      ]
     },
     "metadata": {
      "needs_background": "light"
     },
     "output_type": "display_data"
    },
    {
     "data": {
      "image/png": "[encoded data removed]",
      "text/plain": [
       "<Figure size 432x288 with 1 Axes>"
      ]
     },
     "metadata": {
      "needs_background": "light"
     },
     "output_type": "display_data"
    },
    {
     "data": {
      "image/png": "[encoded data removed]",
      "text/plain": [
       "<Figure size 432x288 with 1 Axes>"
      ]
     },
     "metadata": {
      "needs_background": "light"
     },
     "output_type": "display_data"
    },
    {
     "data": {
      "image/png": "[encoded data removed]",
      "text/plain": [
       "<Figure size 432x288 with 1 Axes>"
      ]
     },
     "metadata": {
      "needs_background": "light"
     },
     "output_type": "display_data"
    },
    {
     "data": {
      "image/png": "[encoded data removed]",
      "text/plain": [
       "<Figure size 432x288 with 1 Axes>"
      ]
     },
     "metadata": {
      "needs_background": "light"
     },
     "output_type": "display_data"
    },
    {
     "data": {
      "image/png": "[encoded data removed]",
      "text/plain": [
       "<Figure size 432x288 with 1 Axes>"
      ]
     },
     "metadata": {
      "needs_background": "light"
     },
     "output_type": "display_data"
    }
   ],
   "source": [
    "for column in dfnew.columns.tolist():\n",
    "    sns.histplot(dfnew[column])\n",
    "    plt.show()"
   ]
  },
  {
   "cell_type": "markdown",
   "id": "5ac6af53",
   "metadata": {},
   "source": [
    "Using the function above I was able to eliminate significant outliers and was left with 45381 entries. This is 85.2% of the previous dataframe that had 51683. I will do my work on this remaining dataset."
   ]
  },
  {
   "cell_type": "markdown",
   "id": "c43a8380",
   "metadata": {},
   "source": [
    "Further it is characterized by the following:"
   ]
  },
  {
   "cell_type": "code",
   "execution_count": 59,
   "id": "c444b2be",
   "metadata": {},
   "outputs": [
    {
     "name": "stdout",
     "output_type": "stream",
     "text": [
      "bathroomcnt max: 4.5\n",
      "bedroomcnt max: 8\n",
      "calculatedbathnbr max: 4.5\n",
      "calculatedfinishedsquarefeet max: 4845\n",
      "fullbathcnt max: 4.0\n",
      "latitude max: 34718356.0\n",
      "longitude max: -117554636.0\n",
      "lotsizesquarefeet max: 14991.0\n",
      "regionidzip max: 399675.0\n",
      "yearbuilt max: 2016\n",
      "structuretaxvaluedollarcnt max: 1594102.0\n",
      "taxvaluedollarcnt max: 1721400.0\n",
      "landtaxvaluedollarcnt max: 1617388.0\n",
      "taxamount max: 26802.13\n",
      "logerror max: 3.1756879667400004\n"
     ]
    }
   ],
   "source": [
    "for column in dfnew.select_dtypes('number').columns.tolist():\n",
    "    print(f'{column} max: {dfnew[column].max()}')"
   ]
  },
  {
   "cell_type": "code",
   "execution_count": 60,
   "id": "47d10543",
   "metadata": {
    "scrolled": false
   },
   "outputs": [
    {
     "name": "stdout",
     "output_type": "stream",
     "text": [
      "<class 'pandas.core.frame.DataFrame'>\n",
      "Int64Index: 45381 entries, 0 to 52318\n",
      "Data columns (total 18 columns):\n",
      " #   Column                        Non-Null Count  Dtype  \n",
      "---  ------                        --------------  -----  \n",
      " 0   bathroomcnt                   45381 non-null  float16\n",
      " 1   bedroomcnt                    45381 non-null  uint8  \n",
      " 2   calculatedbathnbr             45381 non-null  float16\n",
      " 3   calculatedfinishedsquarefeet  45381 non-null  uint16 \n",
      " 4   county                        45381 non-null  object \n",
      " 5   fullbathcnt                   45381 non-null  float64\n",
      " 6   latitude                      45381 non-null  float64\n",
      " 7   longitude                     45381 non-null  float64\n",
      " 8   lotsizesquarefeet             45381 non-null  float64\n",
      " 9   propertycountylandusecode     45381 non-null  object \n",
      " 10  regionidzip                   45381 non-null  float64\n",
      " 11  yearbuilt                     45381 non-null  uint16 \n",
      " 12  structuretaxvaluedollarcnt    45381 non-null  float64\n",
      " 13  taxvaluedollarcnt             45381 non-null  float64\n",
      " 14  landtaxvaluedollarcnt         45381 non-null  float64\n",
      " 15  taxamount                     45381 non-null  float64\n",
      " 16  logerror                      45381 non-null  float64\n",
      " 17  transactiondate               45381 non-null  object \n",
      "dtypes: float16(2), float64(10), object(3), uint16(2), uint8(1)\n",
      "memory usage: 5.2+ MB\n"
     ]
    }
   ],
   "source": [
    "dfnew.info()"
   ]
  },
  {
   "cell_type": "code",
   "execution_count": 61,
   "id": "919f89d2",
   "metadata": {},
   "outputs": [
    {
     "data": {
      "text/html": [
       "<div>\n",
       "<style scoped>\n",
       "    .dataframe tbody tr th:only-of-type {\n",
       "        vertical-align: middle;\n",
       "    }\n",
       "\n",
       "    .dataframe tbody tr th {\n",
       "        vertical-align: top;\n",
       "    }\n",
       "\n",
       "    .dataframe thead th {\n",
       "        text-align: right;\n",
       "    }\n",
       "</style>\n",
       "<table border=\"1\" class=\"dataframe\">\n",
       "  <thead>\n",
       "    <tr style=\"text-align: right;\">\n",
       "      <th></th>\n",
       "      <th>bathroomcnt</th>\n",
       "      <th>bedroomcnt</th>\n",
       "      <th>calculatedbathnbr</th>\n",
       "      <th>calculatedfinishedsquarefeet</th>\n",
       "      <th>fullbathcnt</th>\n",
       "      <th>latitude</th>\n",
       "      <th>longitude</th>\n",
       "      <th>lotsizesquarefeet</th>\n",
       "      <th>regionidzip</th>\n",
       "      <th>yearbuilt</th>\n",
       "      <th>structuretaxvaluedollarcnt</th>\n",
       "      <th>taxvaluedollarcnt</th>\n",
       "      <th>landtaxvaluedollarcnt</th>\n",
       "      <th>taxamount</th>\n",
       "      <th>logerror</th>\n",
       "    </tr>\n",
       "  </thead>\n",
       "  <tbody>\n",
       "    <tr>\n",
       "      <th>count</th>\n",
       "      <td>4.538100e+04</td>\n",
       "      <td>45381.000000</td>\n",
       "      <td>4.538100e+04</td>\n",
       "      <td>45381.000000</td>\n",
       "      <td>45381.000000</td>\n",
       "      <td>4.538100e+04</td>\n",
       "      <td>4.538100e+04</td>\n",
       "      <td>45381.000000</td>\n",
       "      <td>45381.000000</td>\n",
       "      <td>45381.000000</td>\n",
       "      <td>4.538100e+04</td>\n",
       "      <td>4.538100e+04</td>\n",
       "      <td>4.538100e+04</td>\n",
       "      <td>45381.000000</td>\n",
       "      <td>45381.000000</td>\n",
       "    </tr>\n",
       "    <tr>\n",
       "      <th>mean</th>\n",
       "      <td>inf</td>\n",
       "      <td>3.222318</td>\n",
       "      <td>inf</td>\n",
       "      <td>1730.766532</td>\n",
       "      <td>2.067583</td>\n",
       "      <td>3.401246e+07</td>\n",
       "      <td>-1.181830e+08</td>\n",
       "      <td>6802.940173</td>\n",
       "      <td>96574.343999</td>\n",
       "      <td>1961.977281</td>\n",
       "      <td>1.514642e+05</td>\n",
       "      <td>4.062921e+05</td>\n",
       "      <td>2.548278e+05</td>\n",
       "      <td>5027.193716</td>\n",
       "      <td>0.016752</td>\n",
       "    </tr>\n",
       "    <tr>\n",
       "      <th>std</th>\n",
       "      <td>7.827148e-01</td>\n",
       "      <td>0.863975</td>\n",
       "      <td>7.827148e-01</td>\n",
       "      <td>683.603065</td>\n",
       "      <td>0.759945</td>\n",
       "      <td>2.709584e+05</td>\n",
       "      <td>3.524281e+05</td>\n",
       "      <td>2392.431096</td>\n",
       "      <td>1483.409080</td>\n",
       "      <td>22.476903</td>\n",
       "      <td>1.164517e+05</td>\n",
       "      <td>3.019006e+05</td>\n",
       "      <td>2.282805e+05</td>\n",
       "      <td>3512.616824</td>\n",
       "      <td>0.165483</td>\n",
       "    </tr>\n",
       "    <tr>\n",
       "      <th>min</th>\n",
       "      <td>1.000000e+00</td>\n",
       "      <td>1.000000</td>\n",
       "      <td>1.000000e+00</td>\n",
       "      <td>300.000000</td>\n",
       "      <td>1.000000</td>\n",
       "      <td>3.334085e+07</td>\n",
       "      <td>-1.194753e+08</td>\n",
       "      <td>236.000000</td>\n",
       "      <td>95982.000000</td>\n",
       "      <td>1878.000000</td>\n",
       "      <td>1.480000e+02</td>\n",
       "      <td>3.254000e+03</td>\n",
       "      <td>2.250000e+03</td>\n",
       "      <td>49.180000</td>\n",
       "      <td>-4.655420</td>\n",
       "    </tr>\n",
       "    <tr>\n",
       "      <th>25%</th>\n",
       "      <td>2.000000e+00</td>\n",
       "      <td>3.000000</td>\n",
       "      <td>2.000000e+00</td>\n",
       "      <td>1236.000000</td>\n",
       "      <td>2.000000</td>\n",
       "      <td>3.382145e+07</td>\n",
       "      <td>-1.183806e+08</td>\n",
       "      <td>5403.000000</td>\n",
       "      <td>96206.000000</td>\n",
       "      <td>1950.000000</td>\n",
       "      <td>7.241300e+04</td>\n",
       "      <td>1.804170e+05</td>\n",
       "      <td>6.873200e+04</td>\n",
       "      <td>2522.320000</td>\n",
       "      <td>-0.024276</td>\n",
       "    </tr>\n",
       "    <tr>\n",
       "      <th>50%</th>\n",
       "      <td>2.000000e+00</td>\n",
       "      <td>3.000000</td>\n",
       "      <td>2.000000e+00</td>\n",
       "      <td>1574.000000</td>\n",
       "      <td>2.000000</td>\n",
       "      <td>3.399749e+07</td>\n",
       "      <td>-1.181382e+08</td>\n",
       "      <td>6557.000000</td>\n",
       "      <td>96420.000000</td>\n",
       "      <td>1959.000000</td>\n",
       "      <td>1.206640e+05</td>\n",
       "      <td>3.475560e+05</td>\n",
       "      <td>2.022900e+05</td>\n",
       "      <td>4354.850000</td>\n",
       "      <td>0.006015</td>\n",
       "    </tr>\n",
       "    <tr>\n",
       "      <th>75%</th>\n",
       "      <td>2.500000e+00</td>\n",
       "      <td>4.000000</td>\n",
       "      <td>2.500000e+00</td>\n",
       "      <td>2085.000000</td>\n",
       "      <td>2.000000</td>\n",
       "      <td>3.418186e+07</td>\n",
       "      <td>-1.179297e+08</td>\n",
       "      <td>7860.000000</td>\n",
       "      <td>96996.000000</td>\n",
       "      <td>1977.000000</td>\n",
       "      <td>1.946910e+05</td>\n",
       "      <td>5.472080e+05</td>\n",
       "      <td>3.679960e+05</td>\n",
       "      <td>6554.580000</td>\n",
       "      <td>0.037333</td>\n",
       "    </tr>\n",
       "    <tr>\n",
       "      <th>max</th>\n",
       "      <td>4.500000e+00</td>\n",
       "      <td>8.000000</td>\n",
       "      <td>4.500000e+00</td>\n",
       "      <td>4845.000000</td>\n",
       "      <td>4.000000</td>\n",
       "      <td>3.471836e+07</td>\n",
       "      <td>-1.175546e+08</td>\n",
       "      <td>14991.000000</td>\n",
       "      <td>399675.000000</td>\n",
       "      <td>2016.000000</td>\n",
       "      <td>1.594102e+06</td>\n",
       "      <td>1.721400e+06</td>\n",
       "      <td>1.617388e+06</td>\n",
       "      <td>26802.130000</td>\n",
       "      <td>3.175688</td>\n",
       "    </tr>\n",
       "  </tbody>\n",
       "</table>\n",
       "</div>"
      ],
      "text/plain": [
       "        bathroomcnt    bedroomcnt  calculatedbathnbr  \\\n",
       "count  4.538100e+04  45381.000000       4.538100e+04   \n",
       "mean            inf      3.222318                inf   \n",
       "std    7.827148e-01      0.863975       7.827148e-01   \n",
       "min    1.000000e+00      1.000000       1.000000e+00   \n",
       "25%    2.000000e+00      3.000000       2.000000e+00   \n",
       "50%    2.000000e+00      3.000000       2.000000e+00   \n",
       "75%    2.500000e+00      4.000000       2.500000e+00   \n",
       "max    4.500000e+00      8.000000       4.500000e+00   \n",
       "\n",
       "       calculatedfinishedsquarefeet   fullbathcnt      latitude     longitude  \\\n",
       "count                  45381.000000  45381.000000  4.538100e+04  4.538100e+04   \n",
       "mean                    1730.766532      2.067583  3.401246e+07 -1.181830e+08   \n",
       "std                      683.603065      0.759945  2.709584e+05  3.524281e+05   \n",
       "min                      300.000000      1.000000  3.334085e+07 -1.194753e+08   \n",
       "25%                     1236.000000      2.000000  3.382145e+07 -1.183806e+08   \n",
       "50%                     1574.000000      2.000000  3.399749e+07 -1.181382e+08   \n",
       "75%                     2085.000000      2.000000  3.418186e+07 -1.179297e+08   \n",
       "max                     4845.000000      4.000000  3.471836e+07 -1.175546e+08   \n",
       "\n",
       "       lotsizesquarefeet    regionidzip     yearbuilt  \\\n",
       "count       45381.000000   45381.000000  45381.000000   \n",
       "mean         6802.940173   96574.343999   1961.977281   \n",
       "std          2392.431096    1483.409080     22.476903   \n",
       "min           236.000000   95982.000000   1878.000000   \n",
       "25%          5403.000000   96206.000000   1950.000000   \n",
       "50%          6557.000000   96420.000000   1959.000000   \n",
       "75%          7860.000000   96996.000000   1977.000000   \n",
       "max         14991.000000  399675.000000   2016.000000   \n",
       "\n",
       "       structuretaxvaluedollarcnt  taxvaluedollarcnt  landtaxvaluedollarcnt  \\\n",
       "count                4.538100e+04       4.538100e+04           4.538100e+04   \n",
       "mean                 1.514642e+05       4.062921e+05           2.548278e+05   \n",
       "std                  1.164517e+05       3.019006e+05           2.282805e+05   \n",
       "min                  1.480000e+02       3.254000e+03           2.250000e+03   \n",
       "25%                  7.241300e+04       1.804170e+05           6.873200e+04   \n",
       "50%                  1.206640e+05       3.475560e+05           2.022900e+05   \n",
       "75%                  1.946910e+05       5.472080e+05           3.679960e+05   \n",
       "max                  1.594102e+06       1.721400e+06           1.617388e+06   \n",
       "\n",
       "          taxamount      logerror  \n",
       "count  45381.000000  45381.000000  \n",
       "mean    5027.193716      0.016752  \n",
       "std     3512.616824      0.165483  \n",
       "min       49.180000     -4.655420  \n",
       "25%     2522.320000     -0.024276  \n",
       "50%     4354.850000      0.006015  \n",
       "75%     6554.580000      0.037333  \n",
       "max    26802.130000      3.175688  "
      ]
     },
     "execution_count": 61,
     "metadata": {},
     "output_type": "execute_result"
    }
   ],
   "source": [
    "dfnew.describe()"
   ]
  },
  {
   "cell_type": "markdown",
   "id": "3392e407",
   "metadata": {},
   "source": [
    "testing wrangle_zillow script file"
   ]
  },
  {
   "cell_type": "code",
   "execution_count": 62,
   "id": "11a0dbcb",
   "metadata": {},
   "outputs": [],
   "source": [
    "import wrangle_zillow"
   ]
  },
  {
   "cell_type": "code",
   "execution_count": 63,
   "id": "7771b8f7",
   "metadata": {},
   "outputs": [
    {
     "name": "stdout",
     "output_type": "stream",
     "text": [
      "<class 'pandas.core.frame.DataFrame'>\n",
      "RangeIndex: 52319 entries, 0 to 52318\n",
      "Data columns (total 61 columns):\n",
      " #   Column                        Non-Null Count  Dtype  \n",
      "---  ------                        --------------  -----  \n",
      " 0   parcelid                      52319 non-null  int64  \n",
      " 1   airconditioningtypeid         13615 non-null  float64\n",
      " 2   architecturalstyletypeid      70 non-null     float64\n",
      " 3   basementsqft                  47 non-null     float64\n",
      " 4   bathroomcnt                   52319 non-null  float64\n",
      " 5   bedroomcnt                    52319 non-null  float64\n",
      " 6   buildingclasstypeid           0 non-null      float64\n",
      " 7   buildingqualitytypeid         33654 non-null  float64\n",
      " 8   calculatedbathnbr             52184 non-null  float64\n",
      " 9   decktypeid                    389 non-null    float64\n",
      " 10  finishedfloor1squarefeet      4371 non-null   float64\n",
      " 11  calculatedfinishedsquarefeet  52238 non-null  float64\n",
      " 12  finishedsquarefeet12          52073 non-null  float64\n",
      " 13  finishedsquarefeet13          0 non-null      float64\n",
      " 14  finishedsquarefeet15          0 non-null      float64\n",
      " 15  finishedsquarefeet50          4371 non-null   float64\n",
      " 16  finishedsquarefeet6           165 non-null    float64\n",
      " 17  fips                          52319 non-null  float64\n",
      " 18  fireplacecnt                  7233 non-null   float64\n",
      " 19  fullbathcnt                   52184 non-null  float64\n",
      " 20  garagecarcnt                  17984 non-null  float64\n",
      " 21  garagetotalsqft               17984 non-null  float64\n",
      " 22  hashottuborspa                1514 non-null   float64\n",
      " 23  heatingorsystemtypeid         33849 non-null  float64\n",
      " 24  latitude                      52319 non-null  float64\n",
      " 25  longitude                     52319 non-null  float64\n",
      " 26  lotsizesquarefeet             51953 non-null  float64\n",
      " 27  poolcnt                       11077 non-null  float64\n",
      " 28  poolsizesum                   865 non-null    float64\n",
      " 29  pooltypeid10                  443 non-null    float64\n",
      " 30  pooltypeid2                   1071 non-null   float64\n",
      " 31  pooltypeid7                   9990 non-null   float64\n",
      " 32  propertycountylandusecode     52319 non-null  object \n",
      " 33  propertylandusetypeid         52319 non-null  float64\n",
      " 34  propertyzoningdesc            33761 non-null  object \n",
      " 35  rawcensustractandblock        52319 non-null  float64\n",
      " 36  regionidcity                  51283 non-null  float64\n",
      " 37  regionidcounty                52319 non-null  float64\n",
      " 38  regionidneighborhood          18981 non-null  float64\n",
      " 39  regionidzip                   52293 non-null  float64\n",
      " 40  roomcnt                       52319 non-null  float64\n",
      " 41  storytypeid                   47 non-null     float64\n",
      " 42  threequarterbathnbr           6717 non-null   float64\n",
      " 43  typeconstructiontypeid        76 non-null     float64\n",
      " 44  unitcnt                       33761 non-null  float64\n",
      " 45  yardbuildingsqft17            1935 non-null   float64\n",
      " 46  yardbuildingsqft26            63 non-null     float64\n",
      " 47  yearbuilt                     52205 non-null  float64\n",
      " 48  numberofstories               14532 non-null  float64\n",
      " 49  fireplaceflag                 81 non-null     float64\n",
      " 50  structuretaxvaluedollarcnt    52237 non-null  float64\n",
      " 51  taxvaluedollarcnt             52318 non-null  float64\n",
      " 52  assessmentyear                52319 non-null  float64\n",
      " 53  landtaxvaluedollarcnt         52318 non-null  float64\n",
      " 54  taxamount                     52315 non-null  float64\n",
      " 55  taxdelinquencyflag            2068 non-null   object \n",
      " 56  taxdelinquencyyear            2068 non-null   float64\n",
      " 57  censustractandblock           52198 non-null  float64\n",
      " 58  propertylandusedesc           52319 non-null  object \n",
      " 59  logerror                      52319 non-null  float64\n",
      " 60  transactiondate               52319 non-null  object \n",
      "dtypes: float64(55), int64(1), object(5)\n",
      "memory usage: 24.3+ MB\n"
     ]
    }
   ],
   "source": [
    "df = wrangle_zillow.get_zillow()\n",
    "df.info()"
   ]
  },
  {
   "cell_type": "code",
   "execution_count": 64,
   "id": "c87daa36",
   "metadata": {},
   "outputs": [],
   "source": [
    "df = wrangle_zillow.clean_zillow(df)"
   ]
  },
  {
   "cell_type": "code",
   "execution_count": 65,
   "id": "2819fded",
   "metadata": {},
   "outputs": [
    {
     "name": "stdout",
     "output_type": "stream",
     "text": [
      "<class 'pandas.core.frame.DataFrame'>\n",
      "Int64Index: 45381 entries, 0 to 52318\n",
      "Data columns (total 18 columns):\n",
      " #   Column                        Non-Null Count  Dtype  \n",
      "---  ------                        --------------  -----  \n",
      " 0   bathroomcnt                   45381 non-null  float16\n",
      " 1   bedroomcnt                    45381 non-null  uint8  \n",
      " 2   calculatedbathnbr             45381 non-null  float16\n",
      " 3   calculatedfinishedsquarefeet  45381 non-null  uint16 \n",
      " 4   county                        45381 non-null  object \n",
      " 5   fullbathcnt                   45381 non-null  float64\n",
      " 6   latitude                      45381 non-null  float64\n",
      " 7   longitude                     45381 non-null  float64\n",
      " 8   lotsizesquarefeet             45381 non-null  float64\n",
      " 9   propertycountylandusecode     45381 non-null  object \n",
      " 10  regionidzip                   45381 non-null  float64\n",
      " 11  yearbuilt                     45381 non-null  uint16 \n",
      " 12  structuretaxvaluedollarcnt    45381 non-null  float64\n",
      " 13  taxvaluedollarcnt             45381 non-null  float64\n",
      " 14  landtaxvaluedollarcnt         45381 non-null  float64\n",
      " 15  taxamount                     45381 non-null  float64\n",
      " 16  logerror                      45381 non-null  float64\n",
      " 17  transactiondate               45381 non-null  object \n",
      "dtypes: float16(2), float64(10), object(3), uint16(2), uint8(1)\n",
      "memory usage: 5.2+ MB\n"
     ]
    }
   ],
   "source": [
    "df.info()"
   ]
  },
  {
   "cell_type": "code",
   "execution_count": 66,
   "id": "c8faceee",
   "metadata": {
    "scrolled": true
   },
   "outputs": [
    {
     "data": {
      "image/png": "[encoded data removed]",
      "text/plain": [
       "<Figure size 432x288 with 1 Axes>"
      ]
     },
     "metadata": {
      "needs_background": "light"
     },
     "output_type": "display_data"
    },
    {
     "data": {
      "image/png": "[encoded data removed]",
      "text/plain": [
       "<Figure size 432x288 with 1 Axes>"
      ]
     },
     "metadata": {
      "needs_background": "light"
     },
     "output_type": "display_data"
    },
    {
     "data": {
      "image/png": "[encoded data removed]",
      "text/plain": [
       "<Figure size 432x288 with 1 Axes>"
      ]
     },
     "metadata": {
      "needs_background": "light"
     },
     "output_type": "display_data"
    },
    {
     "data": {
      "image/png": "[encoded data removed]",
      "text/plain": [
       "<Figure size 432x288 with 1 Axes>"
      ]
     },
     "metadata": {
      "needs_background": "light"
     },
     "output_type": "display_data"
    },
    {
     "data": {
      "image/png": "[encoded data removed]",
      "text/plain": [
       "<Figure size 432x288 with 1 Axes>"
      ]
     },
     "metadata": {
      "needs_background": "light"
     },
     "output_type": "display_data"
    },
    {
     "data": {
      "image/png": "[encoded data removed]",
      "text/plain": [
       "<Figure size 432x288 with 1 Axes>"
      ]
     },
     "metadata": {
      "needs_background": "light"
     },
     "output_type": "display_data"
    },
    {
     "data": {
      "image/png": "[encoded data removed]",
      "text/plain": [
       "<Figure size 432x288 with 1 Axes>"
      ]
     },
     "metadata": {
      "needs_background": "light"
     },
     "output_type": "display_data"
    },
    {
     "data": {
      "image/png": "[encoded data removed]",
      "text/plain": [
       "<Figure size 432x288 with 1 Axes>"
      ]
     },
     "metadata": {
      "needs_background": "light"
     },
     "output_type": "display_data"
    },
    {
     "data": {
      "image/png": "[encoded data removed]",
      "text/plain": [
       "<Figure size 432x288 with 1 Axes>"
      ]
     },
     "metadata": {
      "needs_background": "light"
     },
     "output_type": "display_data"
    },
    {
     "data": {
      "image/png": "[encoded data removed]",
      "text/plain": [
       "<Figure size 432x288 with 1 Axes>"
      ]
     },
     "metadata": {
      "needs_background": "light"
     },
     "output_type": "display_data"
    },
    {
     "data": {
      "image/png": "[encoded data removed]",
      "text/plain": [
       "<Figure size 432x288 with 1 Axes>"
      ]
     },
     "metadata": {
      "needs_background": "light"
     },
     "output_type": "display_data"
    },
    {
     "data": {
      "image/png": "[encoded data removed]",
      "text/plain": [
       "<Figure size 432x288 with 1 Axes>"
      ]
     },
     "metadata": {
      "needs_background": "light"
     },
     "output_type": "display_data"
    },
    {
     "data": {
      "image/png": "[encoded data removed]",
      "text/plain": [
       "<Figure size 432x288 with 1 Axes>"
      ]
     },
     "metadata": {
      "needs_background": "light"
     },
     "output_type": "display_data"
    },
    {
     "data": {
      "image/png": "[encoded data removed]",
      "text/plain": [
       "<Figure size 432x288 with 1 Axes>"
      ]
     },
     "metadata": {
      "needs_background": "light"
     },
     "output_type": "display_data"
    },
    {
     "data": {
      "image/png": "[encoded data removed]",
      "text/plain": [
       "<Figure size 432x288 with 1 Axes>"
      ]
     },
     "metadata": {
      "needs_background": "light"
     },
     "output_type": "display_data"
    },
    {
     "data": {
      "image/png": "[encoded data removed]",
      "text/plain": [
       "<Figure size 432x288 with 1 Axes>"
      ]
     },
     "metadata": {
      "needs_background": "light"
     },
     "output_type": "display_data"
    },
    {
     "data": {
      "image/png": "[encoded data removed]",
      "text/plain": [
       "<Figure size 432x288 with 1 Axes>"
      ]
     },
     "metadata": {
      "needs_background": "light"
     },
     "output_type": "display_data"
    },
    {
     "data": {
      "image/png": "[encoded data removed]",
      "text/plain": [
       "<Figure size 432x288 with 1 Axes>"
      ]
     },
     "metadata": {
      "needs_background": "light"
     },
     "output_type": "display_data"
    }
   ],
   "source": [
    "for column in df.columns.tolist():\n",
    "    sns.histplot(df[column])\n",
    "    plt.show()"
   ]
  },
  {
   "cell_type": "markdown",
   "id": "04a77d82",
   "metadata": {},
   "source": [
    "# Prepare part 2"
   ]
  },
  {
   "cell_type": "code",
   "execution_count": 67,
   "id": "9f18948e",
   "metadata": {},
   "outputs": [],
   "source": [
    "from sklearn.model_selection import train_test_split\n",
    "\n",
    "def split_zillow(df):\n",
    "    '''\n",
    "    Takes in a cleaned zillow dataframe, splits it into train, validate and test subgroups and then returns those subgroups.\n",
    "    \n",
    "    Arguments: df - a cleaned pandas dataframe with the expected feature names and columns in the zillow dataset\n",
    "    Return: train, validate, test - dataframes ready for the exploration and model phases.\n",
    "    '''\n",
    "    train, test = train_test_split(df, train_size = 0.8, random_state = 1234)\n",
    "    train, validate = train_test_split(train, train_size = 0.7, random_state = 1234)\n",
    "    return train, validate, test"
   ]
  },
  {
   "cell_type": "code",
   "execution_count": 68,
   "id": "85262893",
   "metadata": {},
   "outputs": [],
   "source": [
    "from sklearn.preprocessing import MinMaxScaler\n",
    "\n",
    "def data_scaler(train, validate, test, columns_to_scale):\n",
    "    '''\n",
    "    This function takes in train, validate, test subsets of the cleaned zillow dataset and using the train subset creates a min_max \n",
    "    scaler. It thens scales the subsets and returns the train, validate, test subsets as scaled versions of the initial data.\n",
    "\n",
    "    Arguments:  train, validate, test - split subsets from of the cleaned zillow dataframe\n",
    "                columns_to_scale - a list of column names to scale\n",
    "    Return: scaled_train, scaled_validate, scaled_test - dataframe with scaled versions of the initial unscaled dataframes \n",
    "    '''\n",
    "    train_scaled = train.copy()\n",
    "    validate_scaled = validate.copy()\n",
    "    test_scaled = test.copy()\n",
    "    \n",
    "    scaler = MinMaxScaler()\n",
    "    \n",
    "    train_scaled[columns_to_scale] = pd.DataFrame(scaler.fit_transform(train[columns_to_scale]), \n",
    "                                                  columns=train[columns_to_scale].columns.values).set_index([train.index.values])\n",
    "\n",
    "    validate_scaled[columns_to_scale] = pd.DataFrame(scaler.transform(validate[columns_to_scale]),\n",
    "                                                  columns=validate[columns_to_scale].columns.values).set_index([validate.index.values])\n",
    "    \n",
    "    test_scaled[columns_to_scale] = pd.DataFrame(scaler.transform(test[columns_to_scale]),\n",
    "                                                 columns=test[columns_to_scale].columns.values).set_index([test.index.values])\n",
    "\n",
    "    return train_scaled, validate_scaled, test_scaled"
   ]
  },
  {
   "cell_type": "code",
   "execution_count": 69,
   "id": "61c47475",
   "metadata": {},
   "outputs": [
    {
     "data": {
      "text/plain": [
       "((25412, 18), (10892, 18), (9077, 18))"
      ]
     },
     "execution_count": 69,
     "metadata": {},
     "output_type": "execute_result"
    }
   ],
   "source": [
    "train, validate, test = split_zillow(df)\n",
    "train.shape, validate.shape, test.shape"
   ]
  },
  {
   "cell_type": "code",
   "execution_count": 70,
   "id": "87de6b1f",
   "metadata": {},
   "outputs": [],
   "source": [
    "columns_to_scale = df.select_dtypes('number').columns.drop(['latitude', 'longitude','regionidzip', 'logerror'])"
   ]
  },
  {
   "cell_type": "code",
   "execution_count": 71,
   "id": "86858a6d",
   "metadata": {},
   "outputs": [],
   "source": [
    "train_scaled, validate_scaled, test_scaled = data_scaler(train, validate, test, columns_to_scale)"
   ]
  },
  {
   "cell_type": "code",
   "execution_count": 72,
   "id": "d26c1303",
   "metadata": {},
   "outputs": [
    {
     "data": {
      "text/plain": [
       "((25412, 18), (10892, 18), (9077, 18))"
      ]
     },
     "execution_count": 72,
     "metadata": {},
     "output_type": "execute_result"
    }
   ],
   "source": [
    "train_scaled.shape, validate_scaled.shape, test_scaled.shape"
   ]
  },
  {
   "cell_type": "code",
   "execution_count": 73,
   "id": "19e2ffbe",
   "metadata": {
    "scrolled": false
   },
   "outputs": [
    {
     "data": {
      "image/png": "[encoded data removed]",
      "text/plain": [
       "<Figure size 864x432 with 2 Axes>"
      ]
     },
     "metadata": {
      "needs_background": "light"
     },
     "output_type": "display_data"
    },
    {
     "data": {
      "image/png": "[encoded data removed]",
      "text/plain": [
       "<Figure size 864x432 with 2 Axes>"
      ]
     },
     "metadata": {
      "needs_background": "light"
     },
     "output_type": "display_data"
    },
    {
     "data": {
      "image/png": "[encoded data removed]",
      "text/plain": [
       "<Figure size 864x432 with 2 Axes>"
      ]
     },
     "metadata": {
      "needs_background": "light"
     },
     "output_type": "display_data"
    },
    {
     "data": {
      "image/png": "[encoded data removed]",
      "text/plain": [
       "<Figure size 864x432 with 2 Axes>"
      ]
     },
     "metadata": {
      "needs_background": "light"
     },
     "output_type": "display_data"
    },
    {
     "data": {
      "image/png": "[encoded data removed]",
      "text/plain": [
       "<Figure size 864x432 with 2 Axes>"
      ]
     },
     "metadata": {
      "needs_background": "light"
     },
     "output_type": "display_data"
    },
    {
     "data": {
      "image/png": "[encoded data removed]",
      "text/plain": [
       "<Figure size 864x432 with 2 Axes>"
      ]
     },
     "metadata": {
      "needs_background": "light"
     },
     "output_type": "display_data"
    },
    {
     "data": {
      "image/png": "[encoded data removed]",
      "text/plain": [
       "<Figure size 864x432 with 2 Axes>"
      ]
     },
     "metadata": {
      "needs_background": "light"
     },
     "output_type": "display_data"
    },
    {
     "data": {
      "image/png": "[encoded data removed]",
      "text/plain": [
       "<Figure size 864x432 with 2 Axes>"
      ]
     },
     "metadata": {
      "needs_background": "light"
     },
     "output_type": "display_data"
    },
    {
     "data": {
      "image/png": "[encoded data removed]",
      "text/plain": [
       "<Figure size 864x432 with 2 Axes>"
      ]
     },
     "metadata": {
      "needs_background": "light"
     },
     "output_type": "display_data"
    },
    {
     "data": {
      "image/png": "[encoded data removed]",
      "text/plain": [
       "<Figure size 864x432 with 2 Axes>"
      ]
     },
     "metadata": {
      "needs_background": "light"
     },
     "output_type": "display_data"
    },
    {
     "data": {
      "image/png": "[encoded data removed]",
      "text/plain": [
       "<Figure size 864x432 with 2 Axes>"
      ]
     },
     "metadata": {
      "needs_background": "light"
     },
     "output_type": "display_data"
    },
    {
     "data": {
      "image/png": "[encoded data removed]",
      "text/plain": [
       "<Figure size 864x432 with 2 Axes>"
      ]
     },
     "metadata": {
      "needs_background": "light"
     },
     "output_type": "display_data"
    },
    {
     "data": {
      "image/png": "[encoded data removed]",
      "text/plain": [
       "<Figure size 864x432 with 2 Axes>"
      ]
     },
     "metadata": {
      "needs_background": "light"
     },
     "output_type": "display_data"
    },
    {
     "data": {
      "image/png": "[encoded data removed]",
      "text/plain": [
       "<Figure size 864x432 with 2 Axes>"
      ]
     },
     "metadata": {
      "needs_background": "light"
     },
     "output_type": "display_data"
    },
    {
     "data": {
      "image/png": "[encoded data removed]",
      "text/plain": [
       "<Figure size 864x432 with 2 Axes>"
      ]
     },
     "metadata": {
      "needs_background": "light"
     },
     "output_type": "display_data"
    },
    {
     "data": {
      "image/png": "[encoded data removed]",
      "text/plain": [
       "<Figure size 864x432 with 2 Axes>"
      ]
     },
     "metadata": {
      "needs_background": "light"
     },
     "output_type": "display_data"
    },
    {
     "data": {
      "image/png": "[encoded data removed]",
      "text/plain": [
       "<Figure size 864x432 with 2 Axes>"
      ]
     },
     "metadata": {
      "needs_background": "light"
     },
     "output_type": "display_data"
    },
    {
     "data": {
      "image/png": "[encoded data removed]",
      "text/plain": [
       "<Figure size 864x432 with 2 Axes>"
      ]
     },
     "metadata": {
      "needs_background": "light"
     },
     "output_type": "display_data"
    }
   ],
   "source": [
    "for column in train.columns.tolist():\n",
    "    plt.figure(figsize=(12,6))\n",
    "    plt.subplot(121)\n",
    "    sns.histplot(train[column])\n",
    "    plt.subplot(122)\n",
    "    sns.histplot(train_scaled[column])\n",
    "    plt.show()"
   ]
  },
  {
   "cell_type": "markdown",
   "id": "386fc290",
   "metadata": {},
   "source": [
    "Data is now appropriately scaled where needed."
   ]
  },
  {
   "cell_type": "markdown",
   "id": "de3fdd88",
   "metadata": {},
   "source": [
    "Finished Wrangle. Put all code into wrangle.py"
   ]
  }
 ],
 "metadata": {
  "kernelspec": {
   "display_name": "Python 3 (ipykernel)",
   "language": "python",
   "name": "python3"
  },
  "language_info": {
   "codemirror_mode": {
    "name": "ipython",
    "version": 3
   },
   "file_extension": ".py",
   "mimetype": "text/x-python",
   "name": "python",
   "nbconvert_exporter": "python",
   "pygments_lexer": "ipython3",
   "version": "3.9.7"
  }
 },
 "nbformat": 4,
 "nbformat_minor": 5
}
